{
 "cells": [
  {
   "cell_type": "markdown",
   "id": "e7f897ca",
   "metadata": {
    "id": "e7f897ca"
   },
   "source": [
    "# Анализ лояльности пользователей Яндекс Афиши"
   ]
  },
  {
   "cell_type": "markdown",
   "id": "1e0f1a3d",
   "metadata": {},
   "source": [
    "**Итоговый проект модуля 2**\n",
    "\n",
    "**Цель проекта**\n",
    "\n",
    "Команда маркетинга хочет лучше понимать поведение пользователей.  \n",
    "Для этого необходимо провести исследовательский анализ данных, чтобы определить, какие пользователи с большей вероятностью возвращаются на платформу и совершают повторные заказы.  \n",
    "\n",
    "Результаты исследования позволят:\n",
    "- выявлять перспективных клиентов и предлагать им персонализированные условия;\n",
    "- точнее настраивать рекламу на аудитории с высокой вероятностью возврата;\n",
    "- оптимизировать маркетинговые бюджеты;\n",
    "- повысить общий уровень удержания клиентов.\n",
    "\n",
    "---\n",
    "\n",
    "**Описание данных**\n",
    "\n",
    "Выгрузка из SQL-базы включает следующие поля:\n",
    "\n",
    "- `user_id` — уникальный идентификатор пользователя;\n",
    "- `device_type_canonical` — тип устройства (mobile / desktop);\n",
    "- `order_id` — уникальный идентификатор заказа;\n",
    "- `order_dt` — дата создания заказа;\n",
    "- `order_ts` — дата и время создания заказа;\n",
    "- `currency_code` — валюта оплаты;\n",
    "- `revenue` — выручка от заказа;\n",
    "- `tickets_count` — количество купленных билетов;\n",
    "- `days_since_prev` — количество дней с предыдущей покупки (NaN для первой);\n",
    "- `event_id` — уникальный идентификатор мероприятия;\n",
    "- `service_name` — билетный оператор;\n",
    "- `event_type_main` — тип мероприятия (театр, концерт и т.д.);\n",
    "- `region_name` — регион проведения мероприятия;\n",
    "- `city_name` — город проведения мероприятия.\n",
    "\n",
    "---\n",
    "\n",
    "**Основные шаги проекта**\n",
    "\n",
    "**Шаг 1. Загрузка и первичное изучение данных**\n",
    "1. Написать SQL-запрос и выгрузить данные в pandas.\n",
    "2. Изучить общую информацию о таблице (`info`, `describe`, `head`).\n",
    "3. Оценить корректность выгрузки, объём данных и определить шаги предобработки.\n",
    "\n",
    "**Шаг 2. Предобработка данных**\n",
    "1. Привести выручку к единой валюте (рубли) с использованием курса из файла `final_tickets_tenge_df.csv`.\n",
    "2. Проверить пропуски и типы данных.\n",
    "3. Нормализовать категориальные поля, проверить выбросы и аномалии.\n",
    "4. Отфильтровать выбросы по 99-му перцентилю в `revenue_rub`.\n",
    "5. Зафиксировать промежуточный вывод о предобработке.\n",
    "\n",
    "**Шаг 3. Создание профиля пользователя**\n",
    "1. Для каждого пользователя определить:\n",
    "   - дату первого и последнего заказа;\n",
    "   - устройство первого заказа;\n",
    "   - регион, билетного оператора и тип первого мероприятия;\n",
    "   - общее количество заказов;\n",
    "   - среднюю выручку, количество билетов и интервал между покупками.\n",
    "2. Добавить бинарные признаки:\n",
    "   - `is_two` — пользователь сделал ≥2 заказа;\n",
    "   - `is_five` — пользователь сделал ≥5 заказов.\n",
    "3. Рассчитать основные статистики и проверить данные на аномалии.\n",
    "\n",
    "**Шаг 4. Исследовательский анализ данных**\n",
    "\n",
    "4.1. *Признаки первого заказа и возврат пользователей*\n",
    "- Проанализировать распределения по типу мероприятия, устройству, региону и оператору.\n",
    "- Выделить сегменты с наибольшим числом пользователей.\n",
    "- Рассчитать долю пользователей с повторными заказами в каждом сегменте.\n",
    "- Проверить гипотезы:\n",
    "  1. Пользователи, начавшие с **спортивных мероприятий**, чаще совершают повторные заказы, чем начавшие с **концертов**.\n",
    "  2. В регионах с наибольшим числом пользователей выше доля повторных заказов.\n",
    "\n",
    "4.2. *Поведение пользователей через показатели выручки и состава заказа*\n",
    "- Исследовать связь между средней выручкой и вероятностью повторных заказов.\n",
    "- Сравнить распределения выручки между группами (1 заказ, 2–4 заказа, ≥5 заказов).\n",
    "- Исследовать влияние среднего количества билетов на возвраты.\n",
    "\n",
    "4.3. *Временные характеристики*\n",
    "- Определить день недели первого заказа и долю возвратов по дням.\n",
    "- Исследовать средний интервал между заказами у разных групп пользователей.\n",
    "\n",
    "4.4. *Корреляционный анализ*\n",
    "- Рассчитать коэффициенты корреляции `phi_k` между характеристиками профиля и числом заказов.\n",
    "- Визуализировать тепловую карту корреляций.\n",
    "- Определить признаки, наиболее связанные с числом заказов.\n",
    "\n",
    "---\n",
    "\n",
    "**Шаг 5. Общие выводы и рекомендации**\n",
    "\n",
    "В итоговом выводе необходимо указать:\n",
    "- информацию о данных (источник, период, предобработка);\n",
    "- основные результаты анализа:\n",
    "  - сколько пользователей в выборке;\n",
    "  - распределение по числу заказов;\n",
    "  - признаки, влияющие на возвратность;\n",
    "  - связь выручки, количества билетов и временных факторов с повторными покупками;\n",
    "  - результаты корреляционного анализа;\n",
    "- рекомендации для маркетингового отдела:\n",
    "  - какие сегменты пользователей наиболее перспективны;\n",
    "  - какие нуждаются в дополнительных маркетинговых усилиях.\n",
    "\n",
    "---\n",
    "\n",
    "**Рекомендации по оформлению тетради**\n",
    "\n",
    "- В начале проекта — краткое введение и цель исследования.  \n",
    "- Каждый шаг сопровождайте комментариями и промежуточными выводами.  \n",
    "- Используйте ячейки Markdown для описаний и объяснений.  \n",
    "- После каждого этапа фиксируйте краткий результат.  \n",
    "- Не забывайте сохранять ноутбук во время работы.\n"
   ]
  },
  {
   "cell_type": "markdown",
   "id": "ab3b93fd",
   "metadata": {
    "id": "ab3b93fd"
   },
   "source": [
    "## Этапы выполнения проекта\n",
    "\n",
    "### 1. Загрузка данных и их предобработка\n",
    "\n",
    "---\n",
    "\n",
    "**Задача 1.1:** Напишите SQL-запрос, выгружающий в датафрейм pandas необходимые данные. Используйте следующие параметры для подключения к базе данных `data-analyst-afisha`:\n",
    "\n",
    "- **Хост** — `rc1b-wcoijxj3yxfsf3fs.mdb.yandexcloud.net`\n",
    "- **База данных** — `data-analyst-afisha`\n",
    "- **Порт** — `6432`\n",
    "- **Аутентификация** — `Database Native`\n",
    "- **Пользователь** — `praktikum_student`\n",
    "- **Пароль** — `Sdf4$2;d-d30pp`\n",
    "\n",
    "Для выгрузки используйте запрос из предыдущего урока и библиотеку SQLAlchemy.\n",
    "\n",
    "Выгрузка из базы данных SQL должна позволить собрать следующие данные:\n",
    "\n",
    "- `user_id` — уникальный идентификатор пользователя, совершившего заказ;\n",
    "- `device_type_canonical` — тип устройства, с которого был оформлен заказ (`mobile` — мобильные устройства, `desktop` — стационарные);\n",
    "- `order_id` — уникальный идентификатор заказа;\n",
    "- `order_dt` — дата создания заказа (используйте данные `created_dt_msk`);\n",
    "- `order_ts` — дата и время создания заказа (используйте данные `created_ts_msk`);\n",
    "- `currency_code` — валюта оплаты;\n",
    "- `revenue` — выручка от заказа;\n",
    "- `tickets_count` — количество купленных билетов;\n",
    "- `days_since_prev` — количество дней от предыдущей покупки пользователя, для пользователей с одной покупкой — значение пропущено;\n",
    "- `event_id` — уникальный идентификатор мероприятия;\n",
    "- `service_name` — название билетного оператора;\n",
    "- `event_type_main` — основной тип мероприятия (театральная постановка, концерт и так далее);\n",
    "- `region_name` — название региона, в котором прошло мероприятие;\n",
    "- `city_name` — название города, в котором прошло мероприятие.\n",
    "\n",
    "---\n"
   ]
  },
  {
   "cell_type": "code",
   "execution_count": 1,
   "id": "6e024204",
   "metadata": {
    "id": "6e024204"
   },
   "outputs": [],
   "source": [
    "# Используйте ячейки типа Code для вашего кода,\n",
    "# а ячейки типа Markdown для комментариев и выводов"
   ]
  },
  {
   "cell_type": "code",
   "execution_count": 2,
   "id": "67ecab94",
   "metadata": {
    "id": "67ecab94"
   },
   "outputs": [],
   "source": [
    "# При необходимости добавляйте новые ячейки для кода или текста"
   ]
  },
  {
   "cell_type": "code",
   "execution_count": 3,
   "id": "0a31707b",
   "metadata": {},
   "outputs": [
    {
     "name": "stdout",
     "output_type": "stream",
     "text": [
      "Requirement already satisfied: sqlalchemy in /opt/conda/lib/python3.9/site-packages (1.4.20)\n",
      "Requirement already satisfied: greenlet!=0.4.17 in /opt/conda/lib/python3.9/site-packages (from sqlalchemy) (1.1.0)\n",
      "Requirement already satisfied: psycopg2-binary in /opt/conda/lib/python3.9/site-packages (2.9.2)\n"
     ]
    }
   ],
   "source": [
    "!pip install sqlalchemy\n",
    "!pip install psycopg2-binary"
   ]
  },
  {
   "cell_type": "code",
   "execution_count": 4,
   "id": "6f638939",
   "metadata": {
    "id": "6f638939"
   },
   "outputs": [
    {
     "name": "stdout",
     "output_type": "stream",
     "text": [
      "Collecting phik\n",
      "  Downloading phik-0.12.5-cp39-cp39-manylinux_2_24_x86_64.manylinux_2_28_x86_64.whl (677 kB)\n",
      "\u001b[K     |████████████████████████████████| 677 kB 1.9 MB/s eta 0:00:01\n",
      "\u001b[?25hRequirement already satisfied: pandas>=0.25.1 in /opt/conda/lib/python3.9/site-packages (from phik) (1.2.4)\n",
      "Requirement already satisfied: matplotlib>=2.2.3 in /opt/conda/lib/python3.9/site-packages (from phik) (3.3.4)\n",
      "Requirement already satisfied: scipy>=1.5.2 in /opt/conda/lib/python3.9/site-packages (from phik) (1.9.1)\n",
      "Requirement already satisfied: joblib>=0.14.1 in /opt/conda/lib/python3.9/site-packages (from phik) (1.1.0)\n",
      "Requirement already satisfied: numpy>=1.18.0 in /opt/conda/lib/python3.9/site-packages (from phik) (1.21.1)\n",
      "Requirement already satisfied: cycler>=0.10 in /opt/conda/lib/python3.9/site-packages (from matplotlib>=2.2.3->phik) (0.11.0)\n",
      "Requirement already satisfied: pillow>=6.2.0 in /opt/conda/lib/python3.9/site-packages (from matplotlib>=2.2.3->phik) (8.4.0)\n",
      "Requirement already satisfied: python-dateutil>=2.1 in /opt/conda/lib/python3.9/site-packages (from matplotlib>=2.2.3->phik) (2.8.1)\n",
      "Requirement already satisfied: kiwisolver>=1.0.1 in /opt/conda/lib/python3.9/site-packages (from matplotlib>=2.2.3->phik) (1.4.4)\n",
      "Requirement already satisfied: pyparsing!=2.0.4,!=2.1.2,!=2.1.6,>=2.0.3 in /opt/conda/lib/python3.9/site-packages (from matplotlib>=2.2.3->phik) (2.4.7)\n",
      "Requirement already satisfied: pytz>=2017.3 in /opt/conda/lib/python3.9/site-packages (from pandas>=0.25.1->phik) (2021.1)\n",
      "Requirement already satisfied: six>=1.5 in /opt/conda/lib/python3.9/site-packages (from python-dateutil>=2.1->matplotlib>=2.2.3->phik) (1.16.0)\n",
      "Installing collected packages: phik\n",
      "Successfully installed phik-0.12.5\n"
     ]
    }
   ],
   "source": [
    "#Загружаем необходимые библиотеки\n",
    "import pandas as pd\n",
    "from sqlalchemy import create_engine\n",
    "\n",
    "# Загружаем библиотеки для визуализации данных\n",
    "import matplotlib.pyplot as plt\n",
    "import seaborn as sns\n",
    "import numpy as np\n",
    "\n",
    "# Загружаем библиотеку для расчёта коэффициента корреляции phi_k\n",
    "!pip install phik\n",
    "from phik import phik_matrix"
   ]
  },
  {
   "cell_type": "code",
   "execution_count": null,
   "id": "b528a258",
   "metadata": {},
   "outputs": [],
   "source": [
    "from dotenv import load_dotenv\n",
    "import os\n",
    "\n",
    "load_dotenv()\n",
    "\n",
    "host = os.getenv('DB_HOST')\n",
    "port = os.getenv('DB_PORT')\n",
    "user = os.getenv('DB_USER')\n",
    "password = os.getenv('DB_PASSWORD')\n",
    "db = os.getenv('DB_NAME')\n",
    "\n",
    "connection_string = f\"postgresql://{user}:{password}@{host}:{port}/{db}\"\n",
    "engine = create_engine(connection_string)\n"
   ]
  },
  {
   "cell_type": "code",
   "execution_count": 7,
   "id": "948c4f34",
   "metadata": {},
   "outputs": [],
   "source": [
    "df = pd.read_sql_query(query, con=engine)"
   ]
  },
  {
   "cell_type": "code",
   "execution_count": null,
   "id": "31b9e061",
   "metadata": {},
   "outputs": [],
   "source": []
  },
  {
   "cell_type": "code",
   "execution_count": null,
   "id": "42574e20",
   "metadata": {},
   "outputs": [],
   "source": []
  },
  {
   "cell_type": "code",
   "execution_count": null,
   "id": "5388face",
   "metadata": {},
   "outputs": [],
   "source": []
  },
  {
   "cell_type": "markdown",
   "id": "120237b6",
   "metadata": {
    "id": "120237b6"
   },
   "source": [
    "---\n",
    "\n",
    "**Задача 1.2:** Изучите общую информацию о выгруженных данных. Оцените корректность выгрузки и объём полученных данных.\n",
    "\n",
    "Предположите, какие шаги необходимо сделать на стадии предобработки данных — например, скорректировать типы данных.\n",
    "\n",
    "Зафиксируйте основную информацию о данных в кратком промежуточном выводе.\n",
    "\n",
    "---"
   ]
  },
  {
   "cell_type": "code",
   "execution_count": 8,
   "id": "e8c6517f",
   "metadata": {
    "id": "e8c6517f"
   },
   "outputs": [
    {
     "name": "stdout",
     "output_type": "stream",
     "text": [
      "<class 'pandas.core.frame.DataFrame'>\n",
      "RangeIndex: 290611 entries, 0 to 290610\n",
      "Data columns (total 15 columns):\n",
      " #   Column                 Non-Null Count   Dtype         \n",
      "---  ------                 --------------   -----         \n",
      " 0   user_id                290611 non-null  object        \n",
      " 1   device_type_canonical  290611 non-null  object        \n",
      " 2   order_id               290611 non-null  int64         \n",
      " 3   order_dt               290611 non-null  datetime64[ns]\n",
      " 4   order_ts               290611 non-null  datetime64[ns]\n",
      " 5   currency_code          290611 non-null  object        \n",
      " 6   revenue                290611 non-null  float64       \n",
      " 7   tickets_count          290611 non-null  int64         \n",
      " 8   days_since_prev        268678 non-null  float64       \n",
      " 9   event_id               290611 non-null  int64         \n",
      " 10  event_name             290611 non-null  object        \n",
      " 11  event_type_main        290611 non-null  object        \n",
      " 12  service_name           290611 non-null  object        \n",
      " 13  region_name            290611 non-null  object        \n",
      " 14  city_name              290611 non-null  object        \n",
      "dtypes: datetime64[ns](2), float64(2), int64(3), object(8)\n",
      "memory usage: 33.3+ MB\n"
     ]
    }
   ],
   "source": [
    "df.info()"
   ]
  },
  {
   "cell_type": "code",
   "execution_count": 9,
   "id": "6b7d2d83",
   "metadata": {
    "id": "6b7d2d83"
   },
   "outputs": [
    {
     "data": {
      "text/html": [
       "<div>\n",
       "<style scoped>\n",
       "    .dataframe tbody tr th:only-of-type {\n",
       "        vertical-align: middle;\n",
       "    }\n",
       "\n",
       "    .dataframe tbody tr th {\n",
       "        vertical-align: top;\n",
       "    }\n",
       "\n",
       "    .dataframe thead th {\n",
       "        text-align: right;\n",
       "    }\n",
       "</style>\n",
       "<table border=\"1\" class=\"dataframe\">\n",
       "  <thead>\n",
       "    <tr style=\"text-align: right;\">\n",
       "      <th></th>\n",
       "      <th>order_id</th>\n",
       "      <th>revenue</th>\n",
       "      <th>tickets_count</th>\n",
       "      <th>days_since_prev</th>\n",
       "      <th>event_id</th>\n",
       "    </tr>\n",
       "  </thead>\n",
       "  <tbody>\n",
       "    <tr>\n",
       "      <th>count</th>\n",
       "      <td>2.906110e+05</td>\n",
       "      <td>290611.000000</td>\n",
       "      <td>290611.000000</td>\n",
       "      <td>268678.000000</td>\n",
       "      <td>290611.000000</td>\n",
       "    </tr>\n",
       "    <tr>\n",
       "      <th>mean</th>\n",
       "      <td>4.326225e+06</td>\n",
       "      <td>625.584360</td>\n",
       "      <td>2.754311</td>\n",
       "      <td>3.222381</td>\n",
       "      <td>438019.834992</td>\n",
       "    </tr>\n",
       "    <tr>\n",
       "      <th>std</th>\n",
       "      <td>2.497551e+06</td>\n",
       "      <td>1227.693064</td>\n",
       "      <td>1.170620</td>\n",
       "      <td>11.350509</td>\n",
       "      <td>147423.078841</td>\n",
       "    </tr>\n",
       "    <tr>\n",
       "      <th>min</th>\n",
       "      <td>1.000000e+00</td>\n",
       "      <td>-90.760000</td>\n",
       "      <td>1.000000</td>\n",
       "      <td>0.000000</td>\n",
       "      <td>4436.000000</td>\n",
       "    </tr>\n",
       "    <tr>\n",
       "      <th>25%</th>\n",
       "      <td>2.163618e+06</td>\n",
       "      <td>116.850000</td>\n",
       "      <td>2.000000</td>\n",
       "      <td>0.000000</td>\n",
       "      <td>361772.000000</td>\n",
       "    </tr>\n",
       "    <tr>\n",
       "      <th>50%</th>\n",
       "      <td>4.326366e+06</td>\n",
       "      <td>356.010000</td>\n",
       "      <td>3.000000</td>\n",
       "      <td>0.000000</td>\n",
       "      <td>498275.000000</td>\n",
       "    </tr>\n",
       "    <tr>\n",
       "      <th>75%</th>\n",
       "      <td>6.488330e+06</td>\n",
       "      <td>810.130000</td>\n",
       "      <td>4.000000</td>\n",
       "      <td>1.000000</td>\n",
       "      <td>546287.000000</td>\n",
       "    </tr>\n",
       "    <tr>\n",
       "      <th>max</th>\n",
       "      <td>8.653108e+06</td>\n",
       "      <td>81174.540000</td>\n",
       "      <td>57.000000</td>\n",
       "      <td>148.000000</td>\n",
       "      <td>592325.000000</td>\n",
       "    </tr>\n",
       "  </tbody>\n",
       "</table>\n",
       "</div>"
      ],
      "text/plain": [
       "           order_id        revenue  tickets_count  days_since_prev  \\\n",
       "count  2.906110e+05  290611.000000  290611.000000    268678.000000   \n",
       "mean   4.326225e+06     625.584360       2.754311         3.222381   \n",
       "std    2.497551e+06    1227.693064       1.170620        11.350509   \n",
       "min    1.000000e+00     -90.760000       1.000000         0.000000   \n",
       "25%    2.163618e+06     116.850000       2.000000         0.000000   \n",
       "50%    4.326366e+06     356.010000       3.000000         0.000000   \n",
       "75%    6.488330e+06     810.130000       4.000000         1.000000   \n",
       "max    8.653108e+06   81174.540000      57.000000       148.000000   \n",
       "\n",
       "            event_id  \n",
       "count  290611.000000  \n",
       "mean   438019.834992  \n",
       "std    147423.078841  \n",
       "min      4436.000000  \n",
       "25%    361772.000000  \n",
       "50%    498275.000000  \n",
       "75%    546287.000000  \n",
       "max    592325.000000  "
      ]
     },
     "execution_count": 9,
     "metadata": {},
     "output_type": "execute_result"
    }
   ],
   "source": [
    "df.describe()"
   ]
  },
  {
   "cell_type": "code",
   "execution_count": 10,
   "id": "fcfca89a",
   "metadata": {
    "id": "fcfca89a"
   },
   "outputs": [
    {
     "data": {
      "text/html": [
       "<div>\n",
       "<style scoped>\n",
       "    .dataframe tbody tr th:only-of-type {\n",
       "        vertical-align: middle;\n",
       "    }\n",
       "\n",
       "    .dataframe tbody tr th {\n",
       "        vertical-align: top;\n",
       "    }\n",
       "\n",
       "    .dataframe thead th {\n",
       "        text-align: right;\n",
       "    }\n",
       "</style>\n",
       "<table border=\"1\" class=\"dataframe\">\n",
       "  <thead>\n",
       "    <tr style=\"text-align: right;\">\n",
       "      <th></th>\n",
       "      <th>user_id</th>\n",
       "      <th>device_type_canonical</th>\n",
       "      <th>order_id</th>\n",
       "      <th>order_dt</th>\n",
       "      <th>order_ts</th>\n",
       "      <th>currency_code</th>\n",
       "      <th>revenue</th>\n",
       "      <th>tickets_count</th>\n",
       "      <th>days_since_prev</th>\n",
       "      <th>event_id</th>\n",
       "      <th>event_name</th>\n",
       "      <th>event_type_main</th>\n",
       "      <th>service_name</th>\n",
       "      <th>region_name</th>\n",
       "      <th>city_name</th>\n",
       "    </tr>\n",
       "  </thead>\n",
       "  <tbody>\n",
       "    <tr>\n",
       "      <th>0</th>\n",
       "      <td>0002849b70a3ce2</td>\n",
       "      <td>mobile</td>\n",
       "      <td>4359165</td>\n",
       "      <td>2024-08-20</td>\n",
       "      <td>2024-08-20 16:08:03</td>\n",
       "      <td>rub</td>\n",
       "      <td>1521.94</td>\n",
       "      <td>4</td>\n",
       "      <td>NaN</td>\n",
       "      <td>169230</td>\n",
       "      <td>f0f7b271-04eb-4af6-bcb8-8f05cf46d6ad</td>\n",
       "      <td>театр</td>\n",
       "      <td>Край билетов</td>\n",
       "      <td>Каменевский регион</td>\n",
       "      <td>Глиногорск</td>\n",
       "    </tr>\n",
       "    <tr>\n",
       "      <th>1</th>\n",
       "      <td>0005ca5e93f2cf4</td>\n",
       "      <td>mobile</td>\n",
       "      <td>7965605</td>\n",
       "      <td>2024-07-23</td>\n",
       "      <td>2024-07-23 18:36:24</td>\n",
       "      <td>rub</td>\n",
       "      <td>289.45</td>\n",
       "      <td>2</td>\n",
       "      <td>NaN</td>\n",
       "      <td>237325</td>\n",
       "      <td>40efeb04-81b7-4135-b41f-708ff00cc64c</td>\n",
       "      <td>выставки</td>\n",
       "      <td>Мой билет</td>\n",
       "      <td>Каменевский регион</td>\n",
       "      <td>Глиногорск</td>\n",
       "    </tr>\n",
       "    <tr>\n",
       "      <th>2</th>\n",
       "      <td>0005ca5e93f2cf4</td>\n",
       "      <td>mobile</td>\n",
       "      <td>7292370</td>\n",
       "      <td>2024-10-06</td>\n",
       "      <td>2024-10-06 13:56:02</td>\n",
       "      <td>rub</td>\n",
       "      <td>1258.57</td>\n",
       "      <td>4</td>\n",
       "      <td>75.0</td>\n",
       "      <td>578454</td>\n",
       "      <td>01f3fb7b-ed07-4f94-b1d3-9a2e1ee5a8ca</td>\n",
       "      <td>другое</td>\n",
       "      <td>За билетом!</td>\n",
       "      <td>Каменевский регион</td>\n",
       "      <td>Глиногорск</td>\n",
       "    </tr>\n",
       "    <tr>\n",
       "      <th>3</th>\n",
       "      <td>000898990054619</td>\n",
       "      <td>mobile</td>\n",
       "      <td>1139875</td>\n",
       "      <td>2024-07-13</td>\n",
       "      <td>2024-07-13 19:40:48</td>\n",
       "      <td>rub</td>\n",
       "      <td>8.49</td>\n",
       "      <td>2</td>\n",
       "      <td>NaN</td>\n",
       "      <td>387271</td>\n",
       "      <td>2f638715-8844-466c-b43f-378a627c419f</td>\n",
       "      <td>другое</td>\n",
       "      <td>Лови билет!</td>\n",
       "      <td>Североярская область</td>\n",
       "      <td>Озёрск</td>\n",
       "    </tr>\n",
       "    <tr>\n",
       "      <th>4</th>\n",
       "      <td>000898990054619</td>\n",
       "      <td>mobile</td>\n",
       "      <td>972400</td>\n",
       "      <td>2024-10-04</td>\n",
       "      <td>2024-10-04 22:33:15</td>\n",
       "      <td>rub</td>\n",
       "      <td>1390.41</td>\n",
       "      <td>3</td>\n",
       "      <td>83.0</td>\n",
       "      <td>509453</td>\n",
       "      <td>10d805d3-9809-4d8a-834e-225b7d03f95d</td>\n",
       "      <td>стендап</td>\n",
       "      <td>Билеты без проблем</td>\n",
       "      <td>Озернинский край</td>\n",
       "      <td>Родниковецк</td>\n",
       "    </tr>\n",
       "  </tbody>\n",
       "</table>\n",
       "</div>"
      ],
      "text/plain": [
       "           user_id device_type_canonical  order_id   order_dt  \\\n",
       "0  0002849b70a3ce2                mobile   4359165 2024-08-20   \n",
       "1  0005ca5e93f2cf4                mobile   7965605 2024-07-23   \n",
       "2  0005ca5e93f2cf4                mobile   7292370 2024-10-06   \n",
       "3  000898990054619                mobile   1139875 2024-07-13   \n",
       "4  000898990054619                mobile    972400 2024-10-04   \n",
       "\n",
       "             order_ts currency_code  revenue  tickets_count  days_since_prev  \\\n",
       "0 2024-08-20 16:08:03           rub  1521.94              4              NaN   \n",
       "1 2024-07-23 18:36:24           rub   289.45              2              NaN   \n",
       "2 2024-10-06 13:56:02           rub  1258.57              4             75.0   \n",
       "3 2024-07-13 19:40:48           rub     8.49              2              NaN   \n",
       "4 2024-10-04 22:33:15           rub  1390.41              3             83.0   \n",
       "\n",
       "   event_id                            event_name event_type_main  \\\n",
       "0    169230  f0f7b271-04eb-4af6-bcb8-8f05cf46d6ad           театр   \n",
       "1    237325  40efeb04-81b7-4135-b41f-708ff00cc64c        выставки   \n",
       "2    578454  01f3fb7b-ed07-4f94-b1d3-9a2e1ee5a8ca          другое   \n",
       "3    387271  2f638715-8844-466c-b43f-378a627c419f          другое   \n",
       "4    509453  10d805d3-9809-4d8a-834e-225b7d03f95d         стендап   \n",
       "\n",
       "         service_name           region_name    city_name  \n",
       "0        Край билетов    Каменевский регион   Глиногорск  \n",
       "1           Мой билет    Каменевский регион   Глиногорск  \n",
       "2         За билетом!    Каменевский регион   Глиногорск  \n",
       "3         Лови билет!  Североярская область       Озёрск  \n",
       "4  Билеты без проблем      Озернинский край  Родниковецк  "
      ]
     },
     "execution_count": 10,
     "metadata": {},
     "output_type": "execute_result"
    }
   ],
   "source": [
    "df.head(5)"
   ]
  },
  {
   "cell_type": "code",
   "execution_count": 11,
   "id": "dde1d587",
   "metadata": {},
   "outputs": [
    {
     "data": {
      "text/html": [
       "<div>\n",
       "<style scoped>\n",
       "    .dataframe tbody tr th:only-of-type {\n",
       "        vertical-align: middle;\n",
       "    }\n",
       "\n",
       "    .dataframe tbody tr th {\n",
       "        vertical-align: top;\n",
       "    }\n",
       "\n",
       "    .dataframe thead th {\n",
       "        text-align: right;\n",
       "    }\n",
       "</style>\n",
       "<table border=\"1\" class=\"dataframe\">\n",
       "  <thead>\n",
       "    <tr style=\"text-align: right;\">\n",
       "      <th></th>\n",
       "      <th>user_id</th>\n",
       "      <th>device_type_canonical</th>\n",
       "      <th>order_id</th>\n",
       "      <th>order_dt</th>\n",
       "      <th>order_ts</th>\n",
       "      <th>currency_code</th>\n",
       "      <th>revenue</th>\n",
       "      <th>tickets_count</th>\n",
       "      <th>days_since_prev</th>\n",
       "      <th>event_id</th>\n",
       "      <th>event_name</th>\n",
       "      <th>event_type_main</th>\n",
       "      <th>service_name</th>\n",
       "      <th>region_name</th>\n",
       "      <th>city_name</th>\n",
       "    </tr>\n",
       "  </thead>\n",
       "  <tbody>\n",
       "    <tr>\n",
       "      <th>290606</th>\n",
       "      <td>fffcd3dde79eb2c</td>\n",
       "      <td>mobile</td>\n",
       "      <td>368562</td>\n",
       "      <td>2024-10-27</td>\n",
       "      <td>2024-10-27 17:53:53</td>\n",
       "      <td>rub</td>\n",
       "      <td>1448.36</td>\n",
       "      <td>6</td>\n",
       "      <td>0.0</td>\n",
       "      <td>33189</td>\n",
       "      <td>e3dcdb45-9eaa-4ce4-9b85-1562e548172e</td>\n",
       "      <td>другое</td>\n",
       "      <td>Весь в билетах</td>\n",
       "      <td>Каменевский регион</td>\n",
       "      <td>Глиногорск</td>\n",
       "    </tr>\n",
       "    <tr>\n",
       "      <th>290607</th>\n",
       "      <td>fffcd3dde79eb2c</td>\n",
       "      <td>mobile</td>\n",
       "      <td>368591</td>\n",
       "      <td>2024-10-27</td>\n",
       "      <td>2024-10-27 17:54:52</td>\n",
       "      <td>rub</td>\n",
       "      <td>965.57</td>\n",
       "      <td>4</td>\n",
       "      <td>0.0</td>\n",
       "      <td>33189</td>\n",
       "      <td>e3dcdb45-9eaa-4ce4-9b85-1562e548172e</td>\n",
       "      <td>другое</td>\n",
       "      <td>Весь в билетах</td>\n",
       "      <td>Каменевский регион</td>\n",
       "      <td>Глиногорск</td>\n",
       "    </tr>\n",
       "    <tr>\n",
       "      <th>290608</th>\n",
       "      <td>fffcd3dde79eb2c</td>\n",
       "      <td>desktop</td>\n",
       "      <td>8473772</td>\n",
       "      <td>2024-10-30</td>\n",
       "      <td>2024-10-30 13:37:43</td>\n",
       "      <td>rub</td>\n",
       "      <td>178.95</td>\n",
       "      <td>2</td>\n",
       "      <td>3.0</td>\n",
       "      <td>205231</td>\n",
       "      <td>74883818-57a6-494a-b162-bb0260877cbf</td>\n",
       "      <td>театр</td>\n",
       "      <td>Прачечная</td>\n",
       "      <td>Каменевский регион</td>\n",
       "      <td>Глиногорск</td>\n",
       "    </tr>\n",
       "    <tr>\n",
       "      <th>290609</th>\n",
       "      <td>fffeeb3c120cf0b</td>\n",
       "      <td>desktop</td>\n",
       "      <td>5526067</td>\n",
       "      <td>2024-09-24</td>\n",
       "      <td>2024-09-24 10:07:42</td>\n",
       "      <td>rub</td>\n",
       "      <td>661.53</td>\n",
       "      <td>2</td>\n",
       "      <td>NaN</td>\n",
       "      <td>454526</td>\n",
       "      <td>6f4c6a50-0106-407b-8f54-332c740b01da</td>\n",
       "      <td>стендап</td>\n",
       "      <td>Билеты без проблем</td>\n",
       "      <td>Широковская область</td>\n",
       "      <td>Ягодиновка</td>\n",
       "    </tr>\n",
       "    <tr>\n",
       "      <th>290610</th>\n",
       "      <td>ffff00725179321</td>\n",
       "      <td>mobile</td>\n",
       "      <td>813654</td>\n",
       "      <td>2024-09-25</td>\n",
       "      <td>2024-09-25 15:12:40</td>\n",
       "      <td>rub</td>\n",
       "      <td>802.25</td>\n",
       "      <td>2</td>\n",
       "      <td>NaN</td>\n",
       "      <td>284965</td>\n",
       "      <td>58574140-962c-49a3-af70-b773a05661a3</td>\n",
       "      <td>концерты</td>\n",
       "      <td>Мой билет</td>\n",
       "      <td>Малиновоярский округ</td>\n",
       "      <td>Верховино</td>\n",
       "    </tr>\n",
       "  </tbody>\n",
       "</table>\n",
       "</div>"
      ],
      "text/plain": [
       "                user_id device_type_canonical  order_id   order_dt  \\\n",
       "290606  fffcd3dde79eb2c                mobile    368562 2024-10-27   \n",
       "290607  fffcd3dde79eb2c                mobile    368591 2024-10-27   \n",
       "290608  fffcd3dde79eb2c               desktop   8473772 2024-10-30   \n",
       "290609  fffeeb3c120cf0b               desktop   5526067 2024-09-24   \n",
       "290610  ffff00725179321                mobile    813654 2024-09-25   \n",
       "\n",
       "                  order_ts currency_code  revenue  tickets_count  \\\n",
       "290606 2024-10-27 17:53:53           rub  1448.36              6   \n",
       "290607 2024-10-27 17:54:52           rub   965.57              4   \n",
       "290608 2024-10-30 13:37:43           rub   178.95              2   \n",
       "290609 2024-09-24 10:07:42           rub   661.53              2   \n",
       "290610 2024-09-25 15:12:40           rub   802.25              2   \n",
       "\n",
       "        days_since_prev  event_id                            event_name  \\\n",
       "290606              0.0     33189  e3dcdb45-9eaa-4ce4-9b85-1562e548172e   \n",
       "290607              0.0     33189  e3dcdb45-9eaa-4ce4-9b85-1562e548172e   \n",
       "290608              3.0    205231  74883818-57a6-494a-b162-bb0260877cbf   \n",
       "290609              NaN    454526  6f4c6a50-0106-407b-8f54-332c740b01da   \n",
       "290610              NaN    284965  58574140-962c-49a3-af70-b773a05661a3   \n",
       "\n",
       "       event_type_main        service_name           region_name   city_name  \n",
       "290606          другое      Весь в билетах    Каменевский регион  Глиногорск  \n",
       "290607          другое      Весь в билетах    Каменевский регион  Глиногорск  \n",
       "290608           театр           Прачечная    Каменевский регион  Глиногорск  \n",
       "290609         стендап  Билеты без проблем   Широковская область  Ягодиновка  \n",
       "290610        концерты           Мой билет  Малиновоярский округ   Верховино  "
      ]
     },
     "execution_count": 11,
     "metadata": {},
     "output_type": "execute_result"
    }
   ],
   "source": [
    "df.tail(5)"
   ]
  },
  {
   "cell_type": "code",
   "execution_count": 12,
   "id": "6f86a10f",
   "metadata": {},
   "outputs": [
    {
     "name": "stdout",
     "output_type": "stream",
     "text": [
      "Минимальная дата: 2024-06-01 00:00:00\n",
      "Максимальная дата: 2024-10-31 00:00:00\n"
     ]
    }
   ],
   "source": [
    "print('Минимальная дата:', min(df['order_dt']))\n",
    "print('Максимальная дата:', max(df['order_dt']))"
   ]
  },
  {
   "cell_type": "code",
   "execution_count": 13,
   "id": "394750fd",
   "metadata": {},
   "outputs": [
    {
     "data": {
      "text/plain": [
       "rub    285542\n",
       "kzt      5069\n",
       "Name: currency_code, dtype: int64"
      ]
     },
     "execution_count": 13,
     "metadata": {},
     "output_type": "execute_result"
    }
   ],
   "source": [
    "df['currency_code'].value_counts()"
   ]
  },
  {
   "cell_type": "markdown",
   "id": "886d7464",
   "metadata": {
    "id": "c7ed8a0b"
   },
   "source": [
    "**Общая структура данных**\n",
    "\n",
    "- Количество строк (заказов): **290 611**  \n",
    "- Количество столбцов: **15**  \n",
    "- Объём в памяти: ~33 МБ  \n",
    "- Период данных: **июнь – октябрь 2024 года**\n",
    "\n",
    "**Типы данных**\n",
    "\n",
    "- Временные поля (`order_dt`, `order_ts`) уже приведены к типу `datetime64[ns]` ✅  \n",
    "- Идентификаторы (`user_id`, `order_id`, `event_id`) имеют корректные типы (`object` / `int64`)  \n",
    "- Числовые поля (`revenue`, `tickets_count`, `days_since_prev`) — числовые (`float64` / `int64`)  \n",
    "- Категориальные поля (`device_type_canonical`, `currency_code`, `service_name`, `event_type_main`, `region_name`, `city_name`) имеют тип `object`\n",
    "\n",
    "**Пропуски**\n",
    "\n",
    "- Пропуски есть только в поле `days_since_prev` — **7,6 %** строк.  \n",
    "  Это логично, так как у пользователей с одной покупкой нет предыдущего заказа.\n",
    "\n",
    "**Первичная проверка значений**\n",
    "\n",
    "- `revenue`: от **−90,76** до **81 174,54** — есть отрицательные и экстремальные значения, требуется проверка и фильтрация выбросов по 99-му перцентилю.  \n",
    "- `tickets_count`: от **1** до **57** — диапазон реалистичный, но верхние значения стоит проверить.  \n",
    "- `days_since_prev`: от **0** до **148**, значения адекватные (0 — покупки в один день, 148 — около 5 месяцев).  \n",
    "- `currency_code`: в выборке 5069 значений в тенге и 285542 значения в рублях - нужно унифицировать и привести все в рубли\n",
    "\n",
    "**Первые строки**\n",
    "\n",
    "- Данные выглядят корректно: присутствуют все ключевые поля, даты читаются правильно, категориальные значения валидны.\n",
    "\n",
    "---\n",
    "\n",
    "**Предварительные шаги предобработки**\n",
    "\n",
    "1. Пересчитать их выручку в рубли по датасету `final_tickets_tenge_df.csv`.  \n",
    "2. Проверить и удалить выбросы и отрицательные значения в `revenue`.  \n",
    "3. Привести текстовые значения в категориальных полях к единому формату (нижний регистр, убрать пробелы).  \n",
    "4. Проверить уникальность `order_id` и `event_id`.  \n",
    "5. Оптимизировать типы данных: перевести категориальные поля в тип `category` для экономии памяти.  \n",
    "6. Проверить наличие дубликатов строк и при необходимости удалить их.\n",
    "\n",
    "---\n",
    "\n",
    "**Промежуточный вывод**\n",
    "\n",
    "Из базы данных успешно выгружено **290 611 записей** о заказах пользователей за период **июнь – октябрь 2024 года**.  \n",
    "Данные корректны: типы столбцов определены верно, пропуски наблюдаются только в `days_since_prev`.  \n",
    "На этапе предобработки необходимо унифицировать валюту, проверить корректность выручки, обработать выбросы, нормализовать категориальные значения и оптимизировать типы данных.\n"
   ]
  },
  {
   "cell_type": "code",
   "execution_count": null,
   "id": "b6756958",
   "metadata": {},
   "outputs": [],
   "source": []
  },
  {
   "cell_type": "code",
   "execution_count": null,
   "id": "1581ca4c",
   "metadata": {},
   "outputs": [],
   "source": []
  },
  {
   "cell_type": "code",
   "execution_count": null,
   "id": "6f7d6fac",
   "metadata": {},
   "outputs": [],
   "source": []
  },
  {
   "cell_type": "markdown",
   "id": "3f012b0e",
   "metadata": {},
   "source": [
    "---\n",
    "\n",
    "**Задача 2.1:**\n",
    "\n",
    "Данные о выручке сервиса представлены в российских рублях и казахстанских тенге. Приведите выручку к единой валюте — российскому рублю.\n",
    "Для этого используйте датасет с информацией о курсе казахстанского тенге по отношению к российскому рублю за 2024 год — final_tickets_tenge_df.csv. Его можно скачать по ссылке. Значения в рублях представлено для 100 тенге.\n",
    "Результаты преобразования сохраните в новый столбец revenue_rub.\n",
    "\n",
    "---"
   ]
  },
  {
   "cell_type": "code",
   "execution_count": 14,
   "id": "e68c5629",
   "metadata": {
    "id": "e68c5629"
   },
   "outputs": [
    {
     "name": "stdout",
     "output_type": "stream",
     "text": [
      "<class 'pandas.core.frame.DataFrame'>\n",
      "RangeIndex: 357 entries, 0 to 356\n",
      "Data columns (total 4 columns):\n",
      " #   Column   Non-Null Count  Dtype  \n",
      "---  ------   --------------  -----  \n",
      " 0   data     357 non-null    object \n",
      " 1   nominal  357 non-null    int64  \n",
      " 2   curs     357 non-null    float64\n",
      " 3   cdx      357 non-null    object \n",
      "dtypes: float64(1), int64(1), object(2)\n",
      "memory usage: 11.3+ KB\n",
      "None\n",
      "         data  nominal     curs  cdx\n",
      "0  2024-01-10      100  19.9391  kzt\n",
      "1  2024-01-11      100  19.7255  kzt\n",
      "2  2024-01-12      100  19.5839  kzt\n",
      "3  2024-01-13      100  19.4501  kzt\n",
      "4  2024-01-14      100  19.4501  kzt\n",
      "Index(['data', 'nominal', 'curs', 'cdx'], dtype='object')\n"
     ]
    }
   ],
   "source": [
    "# Загружаем датасет с курсами тенге → рубли\n",
    "tenge = pd.read_csv('https://code.s3.yandex.net/datasets/final_tickets_tenge_df.csv')\n",
    "\n",
    "# Проверим структуру файла\n",
    "print(tenge.info())\n",
    "print(tenge.head())\n",
    "print(tenge.columns)\n"
   ]
  },
  {
   "cell_type": "code",
   "execution_count": 15,
   "id": "595f05a3",
   "metadata": {},
   "outputs": [
    {
     "name": "stdout",
     "output_type": "stream",
     "text": [
      "Колонки в таблице с курсом: ['data', 'nominal', 'curs', 'cdx']\n",
      "     order_dt  nominal  rub_per_100_kzt  cdx\n",
      "0  2024-01-10      100          19.9391  kzt\n",
      "1  2024-01-11      100          19.7255  kzt\n",
      "2  2024-01-12      100          19.5839  kzt\n",
      "3  2024-01-13      100          19.4501  kzt\n",
      "4  2024-01-14      100          19.4501  kzt\n",
      "Index(['user_id', 'device_type_canonical', 'order_id', 'order_dt', 'order_ts',\n",
      "       'currency_code', 'revenue', 'tickets_count', 'days_since_prev',\n",
      "       'event_id', 'event_name', 'event_type_main', 'service_name',\n",
      "       'region_name', 'city_name', 'rub_per_100_kzt'],\n",
      "      dtype='object')\n"
     ]
    },
    {
     "data": {
      "text/html": [
       "<div>\n",
       "<style scoped>\n",
       "    .dataframe tbody tr th:only-of-type {\n",
       "        vertical-align: middle;\n",
       "    }\n",
       "\n",
       "    .dataframe tbody tr th {\n",
       "        vertical-align: top;\n",
       "    }\n",
       "\n",
       "    .dataframe thead th {\n",
       "        text-align: right;\n",
       "    }\n",
       "</style>\n",
       "<table border=\"1\" class=\"dataframe\">\n",
       "  <thead>\n",
       "    <tr style=\"text-align: right;\">\n",
       "      <th></th>\n",
       "      <th>currency_code</th>\n",
       "      <th>revenue</th>\n",
       "      <th>rub_per_100_kzt</th>\n",
       "      <th>revenue_rub</th>\n",
       "    </tr>\n",
       "  </thead>\n",
       "  <tbody>\n",
       "    <tr>\n",
       "      <th>0</th>\n",
       "      <td>rub</td>\n",
       "      <td>1521.94</td>\n",
       "      <td>18.6972</td>\n",
       "      <td>1521.94</td>\n",
       "    </tr>\n",
       "    <tr>\n",
       "      <th>1</th>\n",
       "      <td>rub</td>\n",
       "      <td>289.45</td>\n",
       "      <td>18.3419</td>\n",
       "      <td>289.45</td>\n",
       "    </tr>\n",
       "    <tr>\n",
       "      <th>2</th>\n",
       "      <td>rub</td>\n",
       "      <td>1258.57</td>\n",
       "      <td>19.6475</td>\n",
       "      <td>1258.57</td>\n",
       "    </tr>\n",
       "    <tr>\n",
       "      <th>3</th>\n",
       "      <td>rub</td>\n",
       "      <td>8.49</td>\n",
       "      <td>18.5010</td>\n",
       "      <td>8.49</td>\n",
       "    </tr>\n",
       "    <tr>\n",
       "      <th>4</th>\n",
       "      <td>rub</td>\n",
       "      <td>1390.41</td>\n",
       "      <td>19.6648</td>\n",
       "      <td>1390.41</td>\n",
       "    </tr>\n",
       "  </tbody>\n",
       "</table>\n",
       "</div>"
      ],
      "text/plain": [
       "  currency_code  revenue  rub_per_100_kzt  revenue_rub\n",
       "0           rub  1521.94          18.6972      1521.94\n",
       "1           rub   289.45          18.3419       289.45\n",
       "2           rub  1258.57          19.6475      1258.57\n",
       "3           rub     8.49          18.5010         8.49\n",
       "4           rub  1390.41          19.6648      1390.41"
      ]
     },
     "execution_count": 15,
     "metadata": {},
     "output_type": "execute_result"
    }
   ],
   "source": [
    "# 2️⃣ Проверяем колонки\n",
    "print('Колонки в таблице с курсом:', tenge.columns.tolist())\n",
    "\n",
    "# 3️⃣ Приводим названия к удобным\n",
    "tenge.columns = tenge.columns.str.strip()\n",
    "tenge = tenge.rename(columns={'data': 'order_dt', 'curs': 'rub_per_100_kzt'})\n",
    "\n",
    "# 4️⃣ Приводим даты к формату date\n",
    "tenge['order_dt'] = pd.to_datetime(tenge['order_dt']).dt.date\n",
    "df['order_dt'] = pd.to_datetime(df['order_dt']).dt.date\n",
    "\n",
    "# 5️⃣ Проверяем, как выглядит таблица с курсом\n",
    "print(tenge.head())\n",
    "\n",
    "# 6️⃣ Объединяем по дате\n",
    "df = df.merge(tenge[['order_dt', 'rub_per_100_kzt']], on='order_dt', how='left')\n",
    "\n",
    "# Проверяем, появилась ли колонка\n",
    "print(df.columns)\n",
    "\n",
    "# 7️⃣ Пересчитываем выручку\n",
    "df['revenue_rub'] = df.apply(\n",
    "    lambda row: row['revenue'] if row['currency_code'].lower() == 'rub'\n",
    "    else row['revenue'] * (row['rub_per_100_kzt'] / 100),\n",
    "    axis=1\n",
    ")\n",
    "\n",
    "# 8️⃣ Проверяем результат\n",
    "df[['currency_code', 'revenue', 'rub_per_100_kzt', 'revenue_rub']].head()\n"
   ]
  },
  {
   "cell_type": "code",
   "execution_count": 16,
   "id": "cabeb952",
   "metadata": {},
   "outputs": [
    {
     "data": {
      "text/html": [
       "<div>\n",
       "<style scoped>\n",
       "    .dataframe tbody tr th:only-of-type {\n",
       "        vertical-align: middle;\n",
       "    }\n",
       "\n",
       "    .dataframe tbody tr th {\n",
       "        vertical-align: top;\n",
       "    }\n",
       "\n",
       "    .dataframe thead th {\n",
       "        text-align: right;\n",
       "    }\n",
       "</style>\n",
       "<table border=\"1\" class=\"dataframe\">\n",
       "  <thead>\n",
       "    <tr style=\"text-align: right;\">\n",
       "      <th></th>\n",
       "      <th>currency_code</th>\n",
       "      <th>revenue</th>\n",
       "      <th>rub_per_100_kzt</th>\n",
       "      <th>revenue_rub</th>\n",
       "    </tr>\n",
       "  </thead>\n",
       "  <tbody>\n",
       "    <tr>\n",
       "      <th>0</th>\n",
       "      <td>rub</td>\n",
       "      <td>1521.94</td>\n",
       "      <td>18.6972</td>\n",
       "      <td>1521.94</td>\n",
       "    </tr>\n",
       "    <tr>\n",
       "      <th>1</th>\n",
       "      <td>rub</td>\n",
       "      <td>289.45</td>\n",
       "      <td>18.3419</td>\n",
       "      <td>289.45</td>\n",
       "    </tr>\n",
       "    <tr>\n",
       "      <th>2</th>\n",
       "      <td>rub</td>\n",
       "      <td>1258.57</td>\n",
       "      <td>19.6475</td>\n",
       "      <td>1258.57</td>\n",
       "    </tr>\n",
       "    <tr>\n",
       "      <th>3</th>\n",
       "      <td>rub</td>\n",
       "      <td>8.49</td>\n",
       "      <td>18.5010</td>\n",
       "      <td>8.49</td>\n",
       "    </tr>\n",
       "    <tr>\n",
       "      <th>4</th>\n",
       "      <td>rub</td>\n",
       "      <td>1390.41</td>\n",
       "      <td>19.6648</td>\n",
       "      <td>1390.41</td>\n",
       "    </tr>\n",
       "  </tbody>\n",
       "</table>\n",
       "</div>"
      ],
      "text/plain": [
       "  currency_code  revenue  rub_per_100_kzt  revenue_rub\n",
       "0           rub  1521.94          18.6972      1521.94\n",
       "1           rub   289.45          18.3419       289.45\n",
       "2           rub  1258.57          19.6475      1258.57\n",
       "3           rub     8.49          18.5010         8.49\n",
       "4           rub  1390.41          19.6648      1390.41"
      ]
     },
     "execution_count": 16,
     "metadata": {},
     "output_type": "execute_result"
    }
   ],
   "source": [
    "# Удаляем дубликаты колонок курса, если они остались\n",
    "df = df.drop(columns=['rub_per_100_kzt_x', 'rub_per_100_kzt_y'], errors='ignore')\n",
    "\n",
    "# Проверяем результат\n",
    "df[['currency_code', 'revenue', 'rub_per_100_kzt', 'revenue_rub']].head()\n"
   ]
  },
  {
   "cell_type": "markdown",
   "id": "446d54ac",
   "metadata": {},
   "source": [
    "**Задача 2.1. Приведение выручки к единой валюте**\n",
    "\n",
    "Данные о выручке представлены в двух валютах — российских рублях и казахстанских тенге.  \n",
    "Для корректного анализа необходимо перевести все значения в рубли.\n",
    "\n",
    "**Ход выполнения**\n",
    "\n",
    "1. Загрузили таблицу `final_tickets_tenge_df.csv`, содержащую курс тенге к рублю за 2024 год.  \n",
    "   В таблице указано, сколько рублей соответствует **100 тенге** (столбец `rub_per_100_kzt`).  \n",
    "2. Привели даты (`data`) к формату `datetime` и переименовали столбец в `order_dt`, чтобы можно было объединить с таблицей заказов.  \n",
    "3. Объединили данные о заказах и курсах валют по полю `order_dt`.  \n",
    "4. Создали новый столбец `revenue_rub`:\n",
    "   - если валюта заказа — `rub`, значение выручки оставили без изменений;\n",
    "   - если валюта — `kzt`, пересчитали в рубли по формуле  \n",
    "     `revenue_rub = revenue * (rub_per_100_kzt / 100)`.\n",
    "5. Проверили корректность: для заказов в рублях `revenue_rub = revenue`, для заказов в тенге значения пересчитаны.\n",
    "\n",
    "**Промежуточный вывод**\n",
    "\n",
    "Все значения выручки успешно приведены к рублям.  \n",
    "В датафрейме добавлен новый столбец `revenue_rub`, который будет использоваться в дальнейшем анализе.\n"
   ]
  },
  {
   "cell_type": "code",
   "execution_count": null,
   "id": "9ae71ad0",
   "metadata": {},
   "outputs": [],
   "source": []
  },
  {
   "cell_type": "code",
   "execution_count": null,
   "id": "a97101cd",
   "metadata": {},
   "outputs": [],
   "source": []
  },
  {
   "cell_type": "code",
   "execution_count": null,
   "id": "a5536c5b",
   "metadata": {},
   "outputs": [],
   "source": []
  },
  {
   "cell_type": "markdown",
   "id": "d9867bfe",
   "metadata": {
    "id": "d9867bfe"
   },
   "source": [
    "---\n",
    "\n",
    "**Задача 2.2:**\n",
    "\n",
    "- Проверьте данные на пропущенные значения. Если выгрузка из SQL была успешной, то пропуски должны быть только в столбце `days_since_prev`.\n",
    "- Преобразуйте типы данных в некоторых столбцах, если это необходимо. Обратите внимание на данные с датой и временем, а также на числовые данные, размерность которых можно сократить.\n",
    "- Изучите значения в ключевых столбцах. Обработайте ошибки, если обнаружите их.\n",
    "    - Проверьте, какие категории указаны в столбцах с номинальными данными. Есть ли среди категорий такие, что обозначают пропуски в данных или отсутствие информации? Проведите нормализацию данных, если это необходимо.\n",
    "    - Проверьте распределение численных данных и наличие в них выбросов. Для этого используйте статистические показатели, гистограммы распределения значений или диаграммы размаха.\n",
    "        \n",
    "        Важные показатели в рамках поставленной задачи — это выручка с заказа (`revenue_rub`) и количество билетов в заказе (`tickets_count`), поэтому в первую очередь проверьте данные в этих столбцах.\n",
    "        \n",
    "        Если обнаружите выбросы в поле `revenue_rub`, то отфильтруйте значения по 99 перцентилю.\n",
    "\n",
    "После предобработки проверьте, были ли отфильтрованы данные. Если были, то оцените, в каком объёме. Сформулируйте промежуточный вывод, зафиксировав основные действия и описания новых столбцов.\n",
    "\n",
    "---"
   ]
  },
  {
   "cell_type": "code",
   "execution_count": 17,
   "id": "768a1af0",
   "metadata": {},
   "outputs": [
    {
     "name": "stdout",
     "output_type": "stream",
     "text": [
      "<class 'pandas.core.frame.DataFrame'>\n",
      "Int64Index: 290611 entries, 0 to 290610\n",
      "Data columns (total 17 columns):\n",
      " #   Column                 Non-Null Count   Dtype         \n",
      "---  ------                 --------------   -----         \n",
      " 0   user_id                290611 non-null  object        \n",
      " 1   device_type_canonical  290611 non-null  object        \n",
      " 2   order_id               290611 non-null  int64         \n",
      " 3   order_dt               290611 non-null  object        \n",
      " 4   order_ts               290611 non-null  datetime64[ns]\n",
      " 5   currency_code          290611 non-null  object        \n",
      " 6   revenue                290611 non-null  float64       \n",
      " 7   tickets_count          290611 non-null  int64         \n",
      " 8   days_since_prev        268678 non-null  float64       \n",
      " 9   event_id               290611 non-null  int64         \n",
      " 10  event_name             290611 non-null  object        \n",
      " 11  event_type_main        290611 non-null  object        \n",
      " 12  service_name           290611 non-null  object        \n",
      " 13  region_name            290611 non-null  object        \n",
      " 14  city_name              290611 non-null  object        \n",
      " 15  rub_per_100_kzt        290611 non-null  float64       \n",
      " 16  revenue_rub            290611 non-null  float64       \n",
      "dtypes: datetime64[ns](1), float64(4), int64(3), object(9)\n",
      "memory usage: 39.9+ MB\n"
     ]
    }
   ],
   "source": [
    "#Проверим на пропуски\n",
    "df.info()"
   ]
  },
  {
   "cell_type": "markdown",
   "id": "6e5644a5",
   "metadata": {},
   "source": [
    "Пропуски есть только в столбце days_since_prev"
   ]
  },
  {
   "cell_type": "code",
   "execution_count": 18,
   "id": "3d9b3e85",
   "metadata": {},
   "outputs": [
    {
     "name": "stdout",
     "output_type": "stream",
     "text": [
      "Полных дубликатов: 0\n"
     ]
    }
   ],
   "source": [
    "#Проверим на дубликаты\n",
    "full_dupes = df.duplicated()\n",
    "print(\"Полных дубликатов:\", full_dupes.sum())"
   ]
  },
  {
   "cell_type": "code",
   "execution_count": 19,
   "id": "7b6f0818",
   "metadata": {},
   "outputs": [
    {
     "data": {
      "text/html": [
       "<div>\n",
       "<style scoped>\n",
       "    .dataframe tbody tr th:only-of-type {\n",
       "        vertical-align: middle;\n",
       "    }\n",
       "\n",
       "    .dataframe tbody tr th {\n",
       "        vertical-align: top;\n",
       "    }\n",
       "\n",
       "    .dataframe thead th {\n",
       "        text-align: right;\n",
       "    }\n",
       "</style>\n",
       "<table border=\"1\" class=\"dataframe\">\n",
       "  <thead>\n",
       "    <tr style=\"text-align: right;\">\n",
       "      <th></th>\n",
       "      <th>user_id</th>\n",
       "      <th>device_type_canonical</th>\n",
       "      <th>order_id</th>\n",
       "      <th>order_dt</th>\n",
       "      <th>order_ts</th>\n",
       "      <th>currency_code</th>\n",
       "      <th>revenue</th>\n",
       "      <th>tickets_count</th>\n",
       "      <th>days_since_prev</th>\n",
       "      <th>event_id</th>\n",
       "      <th>event_name</th>\n",
       "      <th>event_type_main</th>\n",
       "      <th>service_name</th>\n",
       "      <th>region_name</th>\n",
       "      <th>city_name</th>\n",
       "      <th>rub_per_100_kzt</th>\n",
       "      <th>revenue_rub</th>\n",
       "    </tr>\n",
       "  </thead>\n",
       "  <tbody>\n",
       "    <tr>\n",
       "      <th>0</th>\n",
       "      <td>0002849b70a3ce2</td>\n",
       "      <td>mobile</td>\n",
       "      <td>4359165</td>\n",
       "      <td>2024-08-20</td>\n",
       "      <td>2024-08-20 16:08:03</td>\n",
       "      <td>rub</td>\n",
       "      <td>1521.94</td>\n",
       "      <td>4</td>\n",
       "      <td>NaN</td>\n",
       "      <td>169230</td>\n",
       "      <td>f0f7b271-04eb-4af6-bcb8-8f05cf46d6ad</td>\n",
       "      <td>театр</td>\n",
       "      <td>Край билетов</td>\n",
       "      <td>Каменевский регион</td>\n",
       "      <td>Глиногорск</td>\n",
       "      <td>18.6972</td>\n",
       "      <td>1521.94</td>\n",
       "    </tr>\n",
       "    <tr>\n",
       "      <th>1</th>\n",
       "      <td>0005ca5e93f2cf4</td>\n",
       "      <td>mobile</td>\n",
       "      <td>7965605</td>\n",
       "      <td>2024-07-23</td>\n",
       "      <td>2024-07-23 18:36:24</td>\n",
       "      <td>rub</td>\n",
       "      <td>289.45</td>\n",
       "      <td>2</td>\n",
       "      <td>NaN</td>\n",
       "      <td>237325</td>\n",
       "      <td>40efeb04-81b7-4135-b41f-708ff00cc64c</td>\n",
       "      <td>выставки</td>\n",
       "      <td>Мой билет</td>\n",
       "      <td>Каменевский регион</td>\n",
       "      <td>Глиногорск</td>\n",
       "      <td>18.3419</td>\n",
       "      <td>289.45</td>\n",
       "    </tr>\n",
       "    <tr>\n",
       "      <th>2</th>\n",
       "      <td>0005ca5e93f2cf4</td>\n",
       "      <td>mobile</td>\n",
       "      <td>7292370</td>\n",
       "      <td>2024-10-06</td>\n",
       "      <td>2024-10-06 13:56:02</td>\n",
       "      <td>rub</td>\n",
       "      <td>1258.57</td>\n",
       "      <td>4</td>\n",
       "      <td>75.0</td>\n",
       "      <td>578454</td>\n",
       "      <td>01f3fb7b-ed07-4f94-b1d3-9a2e1ee5a8ca</td>\n",
       "      <td>другое</td>\n",
       "      <td>За билетом!</td>\n",
       "      <td>Каменевский регион</td>\n",
       "      <td>Глиногорск</td>\n",
       "      <td>19.6475</td>\n",
       "      <td>1258.57</td>\n",
       "    </tr>\n",
       "    <tr>\n",
       "      <th>3</th>\n",
       "      <td>000898990054619</td>\n",
       "      <td>mobile</td>\n",
       "      <td>1139875</td>\n",
       "      <td>2024-07-13</td>\n",
       "      <td>2024-07-13 19:40:48</td>\n",
       "      <td>rub</td>\n",
       "      <td>8.49</td>\n",
       "      <td>2</td>\n",
       "      <td>NaN</td>\n",
       "      <td>387271</td>\n",
       "      <td>2f638715-8844-466c-b43f-378a627c419f</td>\n",
       "      <td>другое</td>\n",
       "      <td>Лови билет!</td>\n",
       "      <td>Североярская область</td>\n",
       "      <td>Озёрск</td>\n",
       "      <td>18.5010</td>\n",
       "      <td>8.49</td>\n",
       "    </tr>\n",
       "    <tr>\n",
       "      <th>4</th>\n",
       "      <td>000898990054619</td>\n",
       "      <td>mobile</td>\n",
       "      <td>972400</td>\n",
       "      <td>2024-10-04</td>\n",
       "      <td>2024-10-04 22:33:15</td>\n",
       "      <td>rub</td>\n",
       "      <td>1390.41</td>\n",
       "      <td>3</td>\n",
       "      <td>83.0</td>\n",
       "      <td>509453</td>\n",
       "      <td>10d805d3-9809-4d8a-834e-225b7d03f95d</td>\n",
       "      <td>стендап</td>\n",
       "      <td>Билеты без проблем</td>\n",
       "      <td>Озернинский край</td>\n",
       "      <td>Родниковецк</td>\n",
       "      <td>19.6648</td>\n",
       "      <td>1390.41</td>\n",
       "    </tr>\n",
       "    <tr>\n",
       "      <th>5</th>\n",
       "      <td>000898990054619</td>\n",
       "      <td>mobile</td>\n",
       "      <td>2613713</td>\n",
       "      <td>2024-10-23</td>\n",
       "      <td>2024-10-23 15:12:00</td>\n",
       "      <td>rub</td>\n",
       "      <td>902.74</td>\n",
       "      <td>3</td>\n",
       "      <td>19.0</td>\n",
       "      <td>500862</td>\n",
       "      <td>9cc55c15-4375-4129-9979-3129688ba1b4</td>\n",
       "      <td>концерты</td>\n",
       "      <td>Облачко</td>\n",
       "      <td>Лугоградская область</td>\n",
       "      <td>Кристалевск</td>\n",
       "      <td>20.0531</td>\n",
       "      <td>902.74</td>\n",
       "    </tr>\n",
       "    <tr>\n",
       "      <th>6</th>\n",
       "      <td>00096d1f542ab2b</td>\n",
       "      <td>desktop</td>\n",
       "      <td>6636941</td>\n",
       "      <td>2024-08-15</td>\n",
       "      <td>2024-08-15 16:48:48</td>\n",
       "      <td>rub</td>\n",
       "      <td>917.83</td>\n",
       "      <td>4</td>\n",
       "      <td>NaN</td>\n",
       "      <td>201953</td>\n",
       "      <td>2f98d69f-4e60-4ffc-8f16-e539383526b1</td>\n",
       "      <td>театр</td>\n",
       "      <td>Край билетов</td>\n",
       "      <td>Каменевский регион</td>\n",
       "      <td>Глиногорск</td>\n",
       "      <td>18.7730</td>\n",
       "      <td>917.83</td>\n",
       "    </tr>\n",
       "    <tr>\n",
       "      <th>7</th>\n",
       "      <td>000a55a418c128c</td>\n",
       "      <td>mobile</td>\n",
       "      <td>4657981</td>\n",
       "      <td>2024-09-29</td>\n",
       "      <td>2024-09-29 19:39:12</td>\n",
       "      <td>rub</td>\n",
       "      <td>47.78</td>\n",
       "      <td>1</td>\n",
       "      <td>NaN</td>\n",
       "      <td>265857</td>\n",
       "      <td>0d876e01-851e-458b-ba61-753e0e0c4063</td>\n",
       "      <td>театр</td>\n",
       "      <td>Лучшие билеты</td>\n",
       "      <td>Поленовский край</td>\n",
       "      <td>Дальнозолотск</td>\n",
       "      <td>19.3741</td>\n",
       "      <td>47.78</td>\n",
       "    </tr>\n",
       "    <tr>\n",
       "      <th>8</th>\n",
       "      <td>000a55a418c128c</td>\n",
       "      <td>mobile</td>\n",
       "      <td>4657952</td>\n",
       "      <td>2024-10-15</td>\n",
       "      <td>2024-10-15 10:29:04</td>\n",
       "      <td>rub</td>\n",
       "      <td>74.84</td>\n",
       "      <td>2</td>\n",
       "      <td>16.0</td>\n",
       "      <td>271579</td>\n",
       "      <td>ddc795f8-7ef8-4eb0-b299-cb3e6ee24ba1</td>\n",
       "      <td>театр</td>\n",
       "      <td>Лучшие билеты</td>\n",
       "      <td>Поленовский край</td>\n",
       "      <td>Дальнозолотск</td>\n",
       "      <td>19.7185</td>\n",
       "      <td>74.84</td>\n",
       "    </tr>\n",
       "    <tr>\n",
       "      <th>9</th>\n",
       "      <td>000cf0659a9f40f</td>\n",
       "      <td>mobile</td>\n",
       "      <td>6818191</td>\n",
       "      <td>2024-06-20</td>\n",
       "      <td>2024-06-20 10:51:10</td>\n",
       "      <td>rub</td>\n",
       "      <td>1421.91</td>\n",
       "      <td>4</td>\n",
       "      <td>NaN</td>\n",
       "      <td>516728</td>\n",
       "      <td>11be386f-7cb7-4aa1-a8e4-ba73a29c1af2</td>\n",
       "      <td>концерты</td>\n",
       "      <td>Лови билет!</td>\n",
       "      <td>Широковская область</td>\n",
       "      <td>Радужнополье</td>\n",
       "      <td>18.0419</td>\n",
       "      <td>1421.91</td>\n",
       "    </tr>\n",
       "  </tbody>\n",
       "</table>\n",
       "</div>"
      ],
      "text/plain": [
       "           user_id device_type_canonical  order_id    order_dt  \\\n",
       "0  0002849b70a3ce2                mobile   4359165  2024-08-20   \n",
       "1  0005ca5e93f2cf4                mobile   7965605  2024-07-23   \n",
       "2  0005ca5e93f2cf4                mobile   7292370  2024-10-06   \n",
       "3  000898990054619                mobile   1139875  2024-07-13   \n",
       "4  000898990054619                mobile    972400  2024-10-04   \n",
       "5  000898990054619                mobile   2613713  2024-10-23   \n",
       "6  00096d1f542ab2b               desktop   6636941  2024-08-15   \n",
       "7  000a55a418c128c                mobile   4657981  2024-09-29   \n",
       "8  000a55a418c128c                mobile   4657952  2024-10-15   \n",
       "9  000cf0659a9f40f                mobile   6818191  2024-06-20   \n",
       "\n",
       "             order_ts currency_code  revenue  tickets_count  days_since_prev  \\\n",
       "0 2024-08-20 16:08:03           rub  1521.94              4              NaN   \n",
       "1 2024-07-23 18:36:24           rub   289.45              2              NaN   \n",
       "2 2024-10-06 13:56:02           rub  1258.57              4             75.0   \n",
       "3 2024-07-13 19:40:48           rub     8.49              2              NaN   \n",
       "4 2024-10-04 22:33:15           rub  1390.41              3             83.0   \n",
       "5 2024-10-23 15:12:00           rub   902.74              3             19.0   \n",
       "6 2024-08-15 16:48:48           rub   917.83              4              NaN   \n",
       "7 2024-09-29 19:39:12           rub    47.78              1              NaN   \n",
       "8 2024-10-15 10:29:04           rub    74.84              2             16.0   \n",
       "9 2024-06-20 10:51:10           rub  1421.91              4              NaN   \n",
       "\n",
       "   event_id                            event_name event_type_main  \\\n",
       "0    169230  f0f7b271-04eb-4af6-bcb8-8f05cf46d6ad           театр   \n",
       "1    237325  40efeb04-81b7-4135-b41f-708ff00cc64c        выставки   \n",
       "2    578454  01f3fb7b-ed07-4f94-b1d3-9a2e1ee5a8ca          другое   \n",
       "3    387271  2f638715-8844-466c-b43f-378a627c419f          другое   \n",
       "4    509453  10d805d3-9809-4d8a-834e-225b7d03f95d         стендап   \n",
       "5    500862  9cc55c15-4375-4129-9979-3129688ba1b4        концерты   \n",
       "6    201953  2f98d69f-4e60-4ffc-8f16-e539383526b1           театр   \n",
       "7    265857  0d876e01-851e-458b-ba61-753e0e0c4063           театр   \n",
       "8    271579  ddc795f8-7ef8-4eb0-b299-cb3e6ee24ba1           театр   \n",
       "9    516728  11be386f-7cb7-4aa1-a8e4-ba73a29c1af2        концерты   \n",
       "\n",
       "         service_name           region_name      city_name  rub_per_100_kzt  \\\n",
       "0        Край билетов    Каменевский регион     Глиногорск          18.6972   \n",
       "1           Мой билет    Каменевский регион     Глиногорск          18.3419   \n",
       "2         За билетом!    Каменевский регион     Глиногорск          19.6475   \n",
       "3         Лови билет!  Североярская область         Озёрск          18.5010   \n",
       "4  Билеты без проблем      Озернинский край    Родниковецк          19.6648   \n",
       "5             Облачко  Лугоградская область    Кристалевск          20.0531   \n",
       "6        Край билетов    Каменевский регион     Глиногорск          18.7730   \n",
       "7       Лучшие билеты      Поленовский край  Дальнозолотск          19.3741   \n",
       "8       Лучшие билеты      Поленовский край  Дальнозолотск          19.7185   \n",
       "9         Лови билет!   Широковская область   Радужнополье          18.0419   \n",
       "\n",
       "   revenue_rub  \n",
       "0      1521.94  \n",
       "1       289.45  \n",
       "2      1258.57  \n",
       "3         8.49  \n",
       "4      1390.41  \n",
       "5       902.74  \n",
       "6       917.83  \n",
       "7        47.78  \n",
       "8        74.84  \n",
       "9      1421.91  "
      ]
     },
     "execution_count": 19,
     "metadata": {},
     "output_type": "execute_result"
    }
   ],
   "source": [
    "df.head(10)"
   ]
  },
  {
   "cell_type": "code",
   "execution_count": 20,
   "id": "b66d2281",
   "metadata": {},
   "outputs": [
    {
     "data": {
      "text/plain": [
       "81"
      ]
     },
     "execution_count": 20,
     "metadata": {},
     "output_type": "execute_result"
    }
   ],
   "source": [
    "df['region_name'].nunique()"
   ]
  },
  {
   "cell_type": "code",
   "execution_count": 21,
   "id": "a91de055",
   "metadata": {},
   "outputs": [
    {
     "data": {
      "text/plain": [
       "Каменевский регион          91058\n",
       "Североярская область        44049\n",
       "Широковская область         16457\n",
       "Медовская область           13901\n",
       "Озернинский край            10476\n",
       "                            ...  \n",
       "Лесноярский край               19\n",
       "Крутоводский регион            18\n",
       "Верхозёрский край              11\n",
       "Сосноводолинская область       10\n",
       "Теплоозёрский округ             7\n",
       "Name: region_name, Length: 81, dtype: int64"
      ]
     },
     "execution_count": 21,
     "metadata": {},
     "output_type": "execute_result"
    }
   ],
   "source": [
    "df['region_name'].value_counts()"
   ]
  },
  {
   "cell_type": "code",
   "execution_count": 22,
   "id": "6a0469ff",
   "metadata": {},
   "outputs": [
    {
     "data": {
      "image/png": "[encoded data removed]",
      "text/plain": [
       "<Figure size 432x288 with 1 Axes>"
      ]
     },
     "metadata": {
      "needs_background": "light"
     },
     "output_type": "display_data"
    }
   ],
   "source": [
    "#посмотрим распределение регионов по активности пользователей\n",
    "plt.figure()\n",
    "df['region_name'].value_counts().sort_values().tail(10).plot(kind='bar', alpha=0.85)\n",
    "plt.title('Распределение region_name')\n",
    "plt.xlabel('region_name'); plt.ylabel('количество'); plt.tight_layout()"
   ]
  },
  {
   "cell_type": "code",
   "execution_count": 23,
   "id": "34836cc6",
   "metadata": {},
   "outputs": [
    {
     "data": {
      "text/html": [
       "<div>\n",
       "<style scoped>\n",
       "    .dataframe tbody tr th:only-of-type {\n",
       "        vertical-align: middle;\n",
       "    }\n",
       "\n",
       "    .dataframe tbody tr th {\n",
       "        vertical-align: top;\n",
       "    }\n",
       "\n",
       "    .dataframe thead th {\n",
       "        text-align: right;\n",
       "    }\n",
       "</style>\n",
       "<table border=\"1\" class=\"dataframe\">\n",
       "  <thead>\n",
       "    <tr style=\"text-align: right;\">\n",
       "      <th></th>\n",
       "      <th>order_id</th>\n",
       "      <th>revenue</th>\n",
       "      <th>tickets_count</th>\n",
       "      <th>days_since_prev</th>\n",
       "      <th>event_id</th>\n",
       "      <th>rub_per_100_kzt</th>\n",
       "      <th>revenue_rub</th>\n",
       "    </tr>\n",
       "  </thead>\n",
       "  <tbody>\n",
       "    <tr>\n",
       "      <th>count</th>\n",
       "      <td>2.906110e+05</td>\n",
       "      <td>290611.000000</td>\n",
       "      <td>290611.000000</td>\n",
       "      <td>268678.000000</td>\n",
       "      <td>290611.000000</td>\n",
       "      <td>290611.000000</td>\n",
       "      <td>290611.000000</td>\n",
       "    </tr>\n",
       "    <tr>\n",
       "      <th>mean</th>\n",
       "      <td>4.326225e+06</td>\n",
       "      <td>625.584360</td>\n",
       "      <td>2.754311</td>\n",
       "      <td>3.222381</td>\n",
       "      <td>438019.834992</td>\n",
       "      <td>19.188676</td>\n",
       "      <td>555.571987</td>\n",
       "    </tr>\n",
       "    <tr>\n",
       "      <th>std</th>\n",
       "      <td>2.497551e+06</td>\n",
       "      <td>1227.693064</td>\n",
       "      <td>1.170620</td>\n",
       "      <td>11.350509</td>\n",
       "      <td>147423.078841</td>\n",
       "      <td>0.622541</td>\n",
       "      <td>875.498172</td>\n",
       "    </tr>\n",
       "    <tr>\n",
       "      <th>min</th>\n",
       "      <td>1.000000e+00</td>\n",
       "      <td>-90.760000</td>\n",
       "      <td>1.000000</td>\n",
       "      <td>0.000000</td>\n",
       "      <td>4436.000000</td>\n",
       "      <td>17.848600</td>\n",
       "      <td>-90.760000</td>\n",
       "    </tr>\n",
       "    <tr>\n",
       "      <th>25%</th>\n",
       "      <td>2.163618e+06</td>\n",
       "      <td>116.850000</td>\n",
       "      <td>2.000000</td>\n",
       "      <td>0.000000</td>\n",
       "      <td>361772.000000</td>\n",
       "      <td>18.599100</td>\n",
       "      <td>113.970000</td>\n",
       "    </tr>\n",
       "    <tr>\n",
       "      <th>50%</th>\n",
       "      <td>4.326366e+06</td>\n",
       "      <td>356.010000</td>\n",
       "      <td>3.000000</td>\n",
       "      <td>0.000000</td>\n",
       "      <td>498275.000000</td>\n",
       "      <td>19.325600</td>\n",
       "      <td>351.140000</td>\n",
       "    </tr>\n",
       "    <tr>\n",
       "      <th>75%</th>\n",
       "      <td>6.488330e+06</td>\n",
       "      <td>810.130000</td>\n",
       "      <td>4.000000</td>\n",
       "      <td>1.000000</td>\n",
       "      <td>546287.000000</td>\n",
       "      <td>19.788400</td>\n",
       "      <td>802.050000</td>\n",
       "    </tr>\n",
       "    <tr>\n",
       "      <th>max</th>\n",
       "      <td>8.653108e+06</td>\n",
       "      <td>81174.540000</td>\n",
       "      <td>57.000000</td>\n",
       "      <td>148.000000</td>\n",
       "      <td>592325.000000</td>\n",
       "      <td>20.277300</td>\n",
       "      <td>81174.540000</td>\n",
       "    </tr>\n",
       "  </tbody>\n",
       "</table>\n",
       "</div>"
      ],
      "text/plain": [
       "           order_id        revenue  tickets_count  days_since_prev  \\\n",
       "count  2.906110e+05  290611.000000  290611.000000    268678.000000   \n",
       "mean   4.326225e+06     625.584360       2.754311         3.222381   \n",
       "std    2.497551e+06    1227.693064       1.170620        11.350509   \n",
       "min    1.000000e+00     -90.760000       1.000000         0.000000   \n",
       "25%    2.163618e+06     116.850000       2.000000         0.000000   \n",
       "50%    4.326366e+06     356.010000       3.000000         0.000000   \n",
       "75%    6.488330e+06     810.130000       4.000000         1.000000   \n",
       "max    8.653108e+06   81174.540000      57.000000       148.000000   \n",
       "\n",
       "            event_id  rub_per_100_kzt    revenue_rub  \n",
       "count  290611.000000    290611.000000  290611.000000  \n",
       "mean   438019.834992        19.188676     555.571987  \n",
       "std    147423.078841         0.622541     875.498172  \n",
       "min      4436.000000        17.848600     -90.760000  \n",
       "25%    361772.000000        18.599100     113.970000  \n",
       "50%    498275.000000        19.325600     351.140000  \n",
       "75%    546287.000000        19.788400     802.050000  \n",
       "max    592325.000000        20.277300   81174.540000  "
      ]
     },
     "execution_count": 23,
     "metadata": {},
     "output_type": "execute_result"
    }
   ],
   "source": [
    "#Выведем статистические показатели по столбцам с числовыми данными\n",
    "df.describe()"
   ]
  },
  {
   "cell_type": "code",
   "execution_count": 24,
   "id": "2609bb93",
   "metadata": {},
   "outputs": [
    {
     "name": "stdout",
     "output_type": "stream",
     "text": [
      "Доли пропусков, %:\n",
      " days_since_prev          7.55\n",
      "event_id                 0.00\n",
      "rub_per_100_kzt          0.00\n",
      "city_name                0.00\n",
      "region_name              0.00\n",
      "service_name             0.00\n",
      "event_type_main          0.00\n",
      "event_name               0.00\n",
      "user_id                  0.00\n",
      "device_type_canonical    0.00\n",
      "tickets_count            0.00\n",
      "revenue                  0.00\n",
      "currency_code            0.00\n",
      "order_ts                 0.00\n",
      "order_dt                 0.00\n",
      "order_id                 0.00\n",
      "revenue_rub              0.00\n",
      "dtype: float64\n",
      "Неожиданные столбцы с пропусками: []\n",
      "\n",
      "revenue_rub (до фильтрации):\n",
      "count    290611.00\n",
      "mean        555.57\n",
      "std         875.50\n",
      "min         -90.76\n",
      "1%            0.00\n",
      "5%           16.83\n",
      "50%         351.14\n",
      "95%        1630.65\n",
      "99%        2628.42\n",
      "max       81174.54\n",
      "Name: revenue_rub, dtype: float64\n",
      "\n",
      "Отрицательных revenue_rub: 381\n",
      "\n",
      "tickets_count:\n",
      "count    290611.00\n",
      "mean          2.75\n",
      "std           1.17\n",
      "min           1.00\n",
      "50%           3.00\n",
      "95%           5.00\n",
      "99%           6.00\n",
      "max          57.00\n",
      "Name: tickets_count, dtype: float64\n",
      "\n",
      "Удалено строк всего: 3206 (1.10%)\n",
      "Порог 99 перцентиля revenue_rub: 2628.42 руб.\n",
      "\n",
      "revenue_rub (после фильтрации):\n",
      "count    287405.00\n",
      "mean        518.72\n",
      "std         511.95\n",
      "min           0.00\n",
      "1%            0.00\n",
      "5%           17.16\n",
      "50%         344.83\n",
      "95%        1572.76\n",
      "99%        2156.08\n",
      "max        2628.42\n",
      "Name: revenue_rub, dtype: float64\n"
     ]
    }
   ],
   "source": [
    "# ===== 1) Типы данных =====\n",
    "# Приводим дату/время\n",
    "df['order_ts'] = pd.to_datetime(df['order_ts'], errors='coerce')\n",
    "df['order_dt'] = pd.to_datetime(df['order_dt'], errors='coerce').dt.date\n",
    "\n",
    "# Числовые (на случай, если где-то были строки)\n",
    "for col in ['revenue', 'revenue_rub', 'tickets_count', 'days_since_prev']:\n",
    "    if col in df.columns:\n",
    "        df[col] = pd.to_numeric(df[col], errors='coerce')\n",
    "\n",
    "# ===== 2) Нормализация категориальных =====\n",
    "cat_cols = ['device_type_canonical', 'currency_code', 'service_name',\n",
    "            'event_type_main', 'region_name', 'city_name', 'event_name']\n",
    "for c in cat_cols:\n",
    "    if c in df.columns:\n",
    "        df[c] = (df[c].astype('string')\n",
    "                        .str.strip()\n",
    "                        .str.replace(r'\\s+', ' ', regex=True)\n",
    "                        .str.lower())\n",
    "        # значения, обозначающие отсутствие инфо, → NaN\n",
    "        df[c] = df[c].replace(\n",
    "            {'': pd.NA, 'nan': pd.NA, 'none': pd.NA, 'н/д': pd.NA,\n",
    "             'нет данных': pd.NA, 'unknown': pd.NA, 'n/a': pd.NA, '-': pd.NA, '—': pd.NA}\n",
    "        )\n",
    "        # оптимизация памяти\n",
    "        df[c] = df[c].astype('category')\n",
    "\n",
    "# ===== 3) Контроль пропусков =====\n",
    "null_share = (df.isna().mean()*100).round(2).sort_values(ascending=False)\n",
    "print('Доли пропусков, %:\\n', null_share)\n",
    "\n",
    "unexpected_nulls = [c for c, p in null_share.items() if p>0 and c!='days_since_prev']\n",
    "print('Неожиданные столбцы с пропусками:', unexpected_nulls)\n",
    "\n",
    "# ===== 4) Проверка ключевых числовых столбцов =====\n",
    "print('\\nrevenue_rub (до фильтрации):')\n",
    "print(df['revenue_rub'].describe(percentiles=[.01,.05,.5,.95,.99]).round(2))\n",
    "print('\\nОтрицательных revenue_rub:', (df['revenue_rub']<0).sum())\n",
    "\n",
    "print('\\ntickets_count:')\n",
    "print(df['tickets_count'].describe(percentiles=[.95,.99]).round(2))\n",
    "\n",
    "# ===== 5) Фильтрация выбросов revenue_rub =====\n",
    "# 5.1 убираем отрицательные значения\n",
    "df_pos = df[df['revenue_rub'] >= 0].copy()\n",
    "\n",
    "# 5.2 порог 99-го перцентиля\n",
    "p99 = df_pos['revenue_rub'].quantile(0.99)\n",
    "df_clean = df_pos[df_pos['revenue_rub'] <= p99].copy()\n",
    "\n",
    "removed = len(df) - len(df_clean)\n",
    "removed_share = removed / len(df)\n",
    "print(f'\\nУдалено строк всего: {removed} ({removed_share:.2%})')\n",
    "print(f'Порог 99 перцентиля revenue_rub: {p99:.2f} руб.')\n",
    "\n",
    "# ===== 6) Итоговая статистика после фильтрации =====\n",
    "print('\\nrevenue_rub (после фильтрации):')\n",
    "print(df_clean['revenue_rub'].describe(percentiles=[.01,.05,.5,.95,.99]).round(2))\n",
    "\n"
   ]
  },
  {
   "cell_type": "code",
   "execution_count": 25,
   "id": "f5ca6233",
   "metadata": {},
   "outputs": [
    {
     "data": {
      "image/png": "[encoded data removed]",
      "text/plain": [
       "<Figure size 432x288 with 1 Axes>"
      ]
     },
     "metadata": {
      "needs_background": "light"
     },
     "output_type": "display_data"
    },
    {
     "data": {
      "image/png": "[encoded data removed]",
      "text/plain": [
       "<Figure size 432x288 with 1 Axes>"
      ]
     },
     "metadata": {
      "needs_background": "light"
     },
     "output_type": "display_data"
    }
   ],
   "source": [
    "#быстрые гистограммы\n",
    "plt.figure()\n",
    "df_clean['revenue_rub'].plot(kind='hist', bins=50, alpha=0.85)\n",
    "plt.title('Распределение revenue_rub (после фильтрации)')\n",
    "plt.xlabel('revenue_rub'); plt.ylabel('частота'); plt.tight_layout()\n",
    "\n",
    "plt.figure()\n",
    "df_clean['tickets_count'].plot(kind='hist', bins=30, alpha=0.85)\n",
    "plt.title('Распределение tickets_count')\n",
    "plt.xlabel('tickets_count'); plt.ylabel('частота'); plt.tight_layout()"
   ]
  },
  {
   "cell_type": "markdown",
   "id": "ba993ff8",
   "metadata": {},
   "source": [
    "**Задача 2.2. Проверка пропусков, типов и выбросов**\n",
    "\n",
    "**Что сделано**\n",
    "1. Привели типы данных:\n",
    "   - `order_dt` и `order_ts` преобразованы к формату даты/времени;\n",
    "   - числовые столбцы (`revenue`, `revenue_rub`, `tickets_count`, `days_since_prev`) приведены к числовым типам.\n",
    "2. Нормализовали категориальные признаки (`device_type_canonical`, `currency_code`, `service_name`, `event_type_main`, `region_name`, `city_name`, `event_name`):\n",
    "   - обрезали лишние пробелы, привели к нижнему регистру;\n",
    "   - удалили псевдозначения «нет данных» → заменили на пропуски;\n",
    "   - перевели в тип `category` для оптимизации памяти.\n",
    "3. Проверили пропуски: пропуски присутствуют только в `days_since_prev` (ожидаемо для первой покупки).\n",
    "4. Изучили ключевые числовые столбцы:\n",
    "   - в `revenue_rub` обнаружены отрицательные и экстремальные значения.\n",
    "5. Обработка выбросов:\n",
    "   - удалили отрицательные значения `revenue_rub`;\n",
    "   - отфильтровали значения выше 99-го перцентиля `revenue_rub`.\n",
    "\n",
    "**Промежуточный вывод**\n",
    "- Данные очищены и приведены к корректным типам; категориальные признаки нормализованы.\n",
    "- Выручка унифицирована (в рублях) и очищена от явных выбросов.\n",
    "- Доля удалённых строк по фильтрации невелика (см. расчёт в коде) и не искажает картину.\n",
    "- Для дальнейшего анализа используем датафрейм `df_clean`.\n"
   ]
  },
  {
   "cell_type": "code",
   "execution_count": null,
   "id": "33f4faf1",
   "metadata": {},
   "outputs": [],
   "source": []
  },
  {
   "cell_type": "code",
   "execution_count": null,
   "id": "bc6d8f79",
   "metadata": {},
   "outputs": [],
   "source": []
  },
  {
   "cell_type": "code",
   "execution_count": null,
   "id": "89b72b5b",
   "metadata": {},
   "outputs": [],
   "source": []
  },
  {
   "cell_type": "markdown",
   "id": "621c1db9",
   "metadata": {
    "id": "621c1db9"
   },
   "source": [
    "---\n",
    "\n",
    "### 3. Создание профиля пользователя\n",
    "\n",
    "В будущем отдел маркетинга планирует создать модель для прогнозирования возврата пользователей. Поэтому сейчас они просят вас построить агрегированные признаки, описывающие поведение и профиль каждого пользователя.\n",
    "\n",
    "---\n",
    "\n",
    "**Задача 3.1.** Постройте профиль пользователя — для каждого пользователя найдите:\n",
    "\n",
    "- дату первого и последнего заказа;\n",
    "- устройство, с которого был сделан первый заказ;\n",
    "- регион, в котором был сделан первый заказ;\n",
    "- билетного партнёра, к которому обращались при первом заказе;\n",
    "- жанр первого посещённого мероприятия (используйте поле `event_type_main`);\n",
    "- общее количество заказов;\n",
    "- средняя выручка с одного заказа в рублях;\n",
    "- среднее количество билетов в заказе;\n",
    "- среднее время между заказами.\n",
    "\n",
    "После этого добавьте два бинарных признака:\n",
    "\n",
    "- `is_two` — совершил ли пользователь 2 и более заказа;\n",
    "- `is_five` — совершил ли пользователь 5 и более заказов.\n",
    "\n",
    "**Рекомендация:** перед тем как строить профиль, отсортируйте данные по времени совершения заказа.\n",
    "\n",
    "---\n"
   ]
  },
  {
   "cell_type": "code",
   "execution_count": 26,
   "id": "d351239c",
   "metadata": {
    "id": "d351239c"
   },
   "outputs": [],
   "source": [
    "#базовый датасет для профилей\n",
    "base = df_clean.copy() if 'df_clean' in globals() else df.copy()"
   ]
  },
  {
   "cell_type": "code",
   "execution_count": 27,
   "id": "4a79b4da",
   "metadata": {},
   "outputs": [],
   "source": [
    "#гарантируем тип времени и правильный порядок\n",
    "base['order_ts'] = pd.to_datetime(base['order_ts'], errors='coerce')\n",
    "base = base.sort_values(['user_id', 'order_ts'])"
   ]
  },
  {
   "cell_type": "code",
   "execution_count": 28,
   "id": "6a55cb7c",
   "metadata": {},
   "outputs": [],
   "source": [
    "#создаем датафрейм \"profiles\" с профилями пользователя\n",
    "profiles = (base\n",
    "    .groupby('user_id', as_index=False)\n",
    "    .agg(\n",
    "        first_order_dt   = ('order_ts', lambda s: s.iloc[0].date()),\n",
    "        last_order_dt    = ('order_ts', lambda s: s.iloc[-1].date()),\n",
    "        first_device     = ('device_type_canonical', 'first'),\n",
    "        first_region     = ('region_name', 'first'),\n",
    "        first_service    = ('service_name', 'first'),\n",
    "        first_event_type = ('event_type_main', 'first'),\n",
    "        total_orders     = ('order_id', 'nunique'),\n",
    "        avg_revenue_rub  = ('revenue_rub', 'mean'),\n",
    "        avg_tickets_cnt  = ('tickets_count', 'mean'),\n",
    "        mean_days_between= ('days_since_prev', 'mean')  # для 1 заказа будет NaN — это нормально\n",
    "    )\n",
    ")"
   ]
  },
  {
   "cell_type": "code",
   "execution_count": 29,
   "id": "e374ef11",
   "metadata": {
    "id": "e374ef11"
   },
   "outputs": [],
   "source": [
    "# Добавляем бинарные признаки\n",
    "profiles['is_two']  = (profiles['total_orders'] >= 2).astype(int)\n",
    "profiles['is_five'] = (profiles['total_orders'] >= 5).astype(int)"
   ]
  },
  {
   "cell_type": "code",
   "execution_count": 30,
   "id": "016ad294",
   "metadata": {},
   "outputs": [
    {
     "name": "stdout",
     "output_type": "stream",
     "text": [
      "<class 'pandas.core.frame.DataFrame'>\n",
      "Int64Index: 21838 entries, 0 to 21837\n",
      "Data columns (total 13 columns):\n",
      " #   Column             Non-Null Count  Dtype  \n",
      "---  ------             --------------  -----  \n",
      " 0   user_id            21838 non-null  object \n",
      " 1   first_order_dt     21838 non-null  object \n",
      " 2   last_order_dt      21838 non-null  object \n",
      " 3   first_device       21838 non-null  object \n",
      " 4   first_region       21838 non-null  object \n",
      " 5   first_service      21838 non-null  object \n",
      " 6   first_event_type   21838 non-null  object \n",
      " 7   total_orders       21838 non-null  int64  \n",
      " 8   avg_revenue_rub    21838 non-null  float64\n",
      " 9   avg_tickets_cnt    21838 non-null  float64\n",
      " 10  mean_days_between  13504 non-null  float64\n",
      " 11  is_two             21838 non-null  int64  \n",
      " 12  is_five            21838 non-null  int64  \n",
      "dtypes: float64(3), int64(3), object(7)\n",
      "memory usage: 2.3+ MB\n"
     ]
    }
   ],
   "source": [
    "profiles.info()"
   ]
  },
  {
   "cell_type": "code",
   "execution_count": 31,
   "id": "65e2a758",
   "metadata": {
    "id": "65e2a758"
   },
   "outputs": [
    {
     "data": {
      "text/html": [
       "<div>\n",
       "<style scoped>\n",
       "    .dataframe tbody tr th:only-of-type {\n",
       "        vertical-align: middle;\n",
       "    }\n",
       "\n",
       "    .dataframe tbody tr th {\n",
       "        vertical-align: top;\n",
       "    }\n",
       "\n",
       "    .dataframe thead th {\n",
       "        text-align: right;\n",
       "    }\n",
       "</style>\n",
       "<table border=\"1\" class=\"dataframe\">\n",
       "  <thead>\n",
       "    <tr style=\"text-align: right;\">\n",
       "      <th></th>\n",
       "      <th>user_id</th>\n",
       "      <th>first_order_dt</th>\n",
       "      <th>last_order_dt</th>\n",
       "      <th>first_device</th>\n",
       "      <th>first_region</th>\n",
       "      <th>first_service</th>\n",
       "      <th>first_event_type</th>\n",
       "      <th>total_orders</th>\n",
       "      <th>avg_revenue_rub</th>\n",
       "      <th>avg_tickets_cnt</th>\n",
       "      <th>mean_days_between</th>\n",
       "      <th>is_two</th>\n",
       "      <th>is_five</th>\n",
       "    </tr>\n",
       "  </thead>\n",
       "  <tbody>\n",
       "    <tr>\n",
       "      <th>0</th>\n",
       "      <td>0002849b70a3ce2</td>\n",
       "      <td>2024-08-20</td>\n",
       "      <td>2024-08-20</td>\n",
       "      <td>mobile</td>\n",
       "      <td>каменевский регион</td>\n",
       "      <td>край билетов</td>\n",
       "      <td>театр</td>\n",
       "      <td>1</td>\n",
       "      <td>1521.940000</td>\n",
       "      <td>4.000000</td>\n",
       "      <td>NaN</td>\n",
       "      <td>0</td>\n",
       "      <td>0</td>\n",
       "    </tr>\n",
       "    <tr>\n",
       "      <th>1</th>\n",
       "      <td>0005ca5e93f2cf4</td>\n",
       "      <td>2024-07-23</td>\n",
       "      <td>2024-10-06</td>\n",
       "      <td>mobile</td>\n",
       "      <td>каменевский регион</td>\n",
       "      <td>мой билет</td>\n",
       "      <td>выставки</td>\n",
       "      <td>2</td>\n",
       "      <td>774.010000</td>\n",
       "      <td>3.000000</td>\n",
       "      <td>75.0</td>\n",
       "      <td>1</td>\n",
       "      <td>0</td>\n",
       "    </tr>\n",
       "    <tr>\n",
       "      <th>2</th>\n",
       "      <td>000898990054619</td>\n",
       "      <td>2024-07-13</td>\n",
       "      <td>2024-10-23</td>\n",
       "      <td>mobile</td>\n",
       "      <td>североярская область</td>\n",
       "      <td>лови билет!</td>\n",
       "      <td>другое</td>\n",
       "      <td>3</td>\n",
       "      <td>767.213333</td>\n",
       "      <td>2.666667</td>\n",
       "      <td>51.0</td>\n",
       "      <td>1</td>\n",
       "      <td>0</td>\n",
       "    </tr>\n",
       "    <tr>\n",
       "      <th>3</th>\n",
       "      <td>00096d1f542ab2b</td>\n",
       "      <td>2024-08-15</td>\n",
       "      <td>2024-08-15</td>\n",
       "      <td>desktop</td>\n",
       "      <td>каменевский регион</td>\n",
       "      <td>край билетов</td>\n",
       "      <td>театр</td>\n",
       "      <td>1</td>\n",
       "      <td>917.830000</td>\n",
       "      <td>4.000000</td>\n",
       "      <td>NaN</td>\n",
       "      <td>0</td>\n",
       "      <td>0</td>\n",
       "    </tr>\n",
       "    <tr>\n",
       "      <th>4</th>\n",
       "      <td>000a55a418c128c</td>\n",
       "      <td>2024-09-29</td>\n",
       "      <td>2024-10-15</td>\n",
       "      <td>mobile</td>\n",
       "      <td>поленовский край</td>\n",
       "      <td>лучшие билеты</td>\n",
       "      <td>театр</td>\n",
       "      <td>2</td>\n",
       "      <td>61.310000</td>\n",
       "      <td>1.500000</td>\n",
       "      <td>16.0</td>\n",
       "      <td>1</td>\n",
       "      <td>0</td>\n",
       "    </tr>\n",
       "  </tbody>\n",
       "</table>\n",
       "</div>"
      ],
      "text/plain": [
       "           user_id first_order_dt last_order_dt first_device  \\\n",
       "0  0002849b70a3ce2     2024-08-20    2024-08-20       mobile   \n",
       "1  0005ca5e93f2cf4     2024-07-23    2024-10-06       mobile   \n",
       "2  000898990054619     2024-07-13    2024-10-23       mobile   \n",
       "3  00096d1f542ab2b     2024-08-15    2024-08-15      desktop   \n",
       "4  000a55a418c128c     2024-09-29    2024-10-15       mobile   \n",
       "\n",
       "           first_region  first_service first_event_type  total_orders  \\\n",
       "0    каменевский регион   край билетов            театр             1   \n",
       "1    каменевский регион      мой билет         выставки             2   \n",
       "2  североярская область    лови билет!           другое             3   \n",
       "3    каменевский регион   край билетов            театр             1   \n",
       "4      поленовский край  лучшие билеты            театр             2   \n",
       "\n",
       "   avg_revenue_rub  avg_tickets_cnt  mean_days_between  is_two  is_five  \n",
       "0      1521.940000         4.000000                NaN       0        0  \n",
       "1       774.010000         3.000000               75.0       1        0  \n",
       "2       767.213333         2.666667               51.0       1        0  \n",
       "3       917.830000         4.000000                NaN       0        0  \n",
       "4        61.310000         1.500000               16.0       1        0  "
      ]
     },
     "execution_count": 31,
     "metadata": {},
     "output_type": "execute_result"
    }
   ],
   "source": [
    "profiles.head()"
   ]
  },
  {
   "cell_type": "code",
   "execution_count": 32,
   "id": "c827c03a",
   "metadata": {},
   "outputs": [
    {
     "data": {
      "text/html": [
       "<div>\n",
       "<style scoped>\n",
       "    .dataframe tbody tr th:only-of-type {\n",
       "        vertical-align: middle;\n",
       "    }\n",
       "\n",
       "    .dataframe tbody tr th {\n",
       "        vertical-align: top;\n",
       "    }\n",
       "\n",
       "    .dataframe thead th {\n",
       "        text-align: right;\n",
       "    }\n",
       "</style>\n",
       "<table border=\"1\" class=\"dataframe\">\n",
       "  <thead>\n",
       "    <tr style=\"text-align: right;\">\n",
       "      <th></th>\n",
       "      <th>total_orders</th>\n",
       "      <th>avg_revenue_rub</th>\n",
       "      <th>avg_tickets_cnt</th>\n",
       "      <th>mean_days_between</th>\n",
       "      <th>is_two</th>\n",
       "      <th>is_five</th>\n",
       "    </tr>\n",
       "  </thead>\n",
       "  <tbody>\n",
       "    <tr>\n",
       "      <th>count</th>\n",
       "      <td>21838.000000</td>\n",
       "      <td>21838.000000</td>\n",
       "      <td>21838.000000</td>\n",
       "      <td>13504.000000</td>\n",
       "      <td>21838.000000</td>\n",
       "      <td>21838.000000</td>\n",
       "    </tr>\n",
       "    <tr>\n",
       "      <th>mean</th>\n",
       "      <td>13.160775</td>\n",
       "      <td>545.032800</td>\n",
       "      <td>2.744062</td>\n",
       "      <td>15.864348</td>\n",
       "      <td>0.617044</td>\n",
       "      <td>0.289953</td>\n",
       "    </tr>\n",
       "    <tr>\n",
       "      <th>std</th>\n",
       "      <td>121.577370</td>\n",
       "      <td>431.532967</td>\n",
       "      <td>0.913083</td>\n",
       "      <td>22.330357</td>\n",
       "      <td>0.486119</td>\n",
       "      <td>0.453751</td>\n",
       "    </tr>\n",
       "    <tr>\n",
       "      <th>min</th>\n",
       "      <td>1.000000</td>\n",
       "      <td>0.000000</td>\n",
       "      <td>1.000000</td>\n",
       "      <td>0.000000</td>\n",
       "      <td>0.000000</td>\n",
       "      <td>0.000000</td>\n",
       "    </tr>\n",
       "    <tr>\n",
       "      <th>25%</th>\n",
       "      <td>1.000000</td>\n",
       "      <td>213.790000</td>\n",
       "      <td>2.000000</td>\n",
       "      <td>1.000000</td>\n",
       "      <td>0.000000</td>\n",
       "      <td>0.000000</td>\n",
       "    </tr>\n",
       "    <tr>\n",
       "      <th>50%</th>\n",
       "      <td>2.000000</td>\n",
       "      <td>467.985000</td>\n",
       "      <td>2.750000</td>\n",
       "      <td>8.000000</td>\n",
       "      <td>1.000000</td>\n",
       "      <td>0.000000</td>\n",
       "    </tr>\n",
       "    <tr>\n",
       "      <th>75%</th>\n",
       "      <td>5.000000</td>\n",
       "      <td>764.016875</td>\n",
       "      <td>3.080000</td>\n",
       "      <td>20.500000</td>\n",
       "      <td>1.000000</td>\n",
       "      <td>1.000000</td>\n",
       "    </tr>\n",
       "    <tr>\n",
       "      <th>max</th>\n",
       "      <td>10168.000000</td>\n",
       "      <td>2628.421739</td>\n",
       "      <td>11.000000</td>\n",
       "      <td>148.000000</td>\n",
       "      <td>1.000000</td>\n",
       "      <td>1.000000</td>\n",
       "    </tr>\n",
       "  </tbody>\n",
       "</table>\n",
       "</div>"
      ],
      "text/plain": [
       "       total_orders  avg_revenue_rub  avg_tickets_cnt  mean_days_between  \\\n",
       "count  21838.000000     21838.000000     21838.000000       13504.000000   \n",
       "mean      13.160775       545.032800         2.744062          15.864348   \n",
       "std      121.577370       431.532967         0.913083          22.330357   \n",
       "min        1.000000         0.000000         1.000000           0.000000   \n",
       "25%        1.000000       213.790000         2.000000           1.000000   \n",
       "50%        2.000000       467.985000         2.750000           8.000000   \n",
       "75%        5.000000       764.016875         3.080000          20.500000   \n",
       "max    10168.000000      2628.421739        11.000000         148.000000   \n",
       "\n",
       "             is_two       is_five  \n",
       "count  21838.000000  21838.000000  \n",
       "mean       0.617044      0.289953  \n",
       "std        0.486119      0.453751  \n",
       "min        0.000000      0.000000  \n",
       "25%        0.000000      0.000000  \n",
       "50%        1.000000      0.000000  \n",
       "75%        1.000000      1.000000  \n",
       "max        1.000000      1.000000  "
      ]
     },
     "execution_count": 32,
     "metadata": {},
     "output_type": "execute_result"
    }
   ],
   "source": [
    "profiles.describe()"
   ]
  },
  {
   "cell_type": "markdown",
   "id": "ab13ae75",
   "metadata": {},
   "source": [
    "**Задача 3.1. Построение профиля пользователя**\n",
    "\n",
    "**Цель:**  \n",
    "Сформировать агрегированный набор данных, в котором каждая строка соответствует одному пользователю и описывает его поведение на платформе.\n",
    "\n",
    "**Что было сделано:**\n",
    "1. Исходные данные отсортированы по времени заказа (`order_ts`), чтобы корректно определить первый и последний заказ пользователя.\n",
    "2. Сгруппировали заказы по `user_id` и рассчитали ключевые признаки:\n",
    "   - `first_order_dt` — дата первого заказа;  \n",
    "   - `last_order_dt` — дата последнего заказа;  \n",
    "   - `first_device`, `first_region`, `first_service`, `first_event_type` — характеристики первого заказа;  \n",
    "   - `total_orders` — общее количество заказов пользователя;  \n",
    "   - `avg_revenue_rub` — средняя выручка на заказ;  \n",
    "   - `avg_tickets_cnt` — среднее количество билетов на заказ;  \n",
    "   - `mean_days_between` — среднее количество дней между покупками.\n",
    "3. Добавлены бинарные признаки:\n",
    "   - `is_two` — совершил ли пользователь 2 и более заказа;  \n",
    "   - `is_five` — совершил ли пользователь 5 и более заказов.\n",
    "4. Проверена корректность данных:\n",
    "   - пропусков нет, кроме ожидаемых `NaN` в `mean_days_between` (у пользователей с одной покупкой);\n",
    "   - даты первого заказа не превышают дату последнего;\n",
    "   - бинарные признаки согласованы (`is_five ≤ is_two`).\n",
    "\n",
    "**Промежуточные результаты:**\n",
    "- Сформировано **21 838 профилей пользователей**.  \n",
    "- Медианное количество заказов — **2**, 75-й перцентиль — **5**, максимум — **10 168** (присутствуют очень активные пользователи).  \n",
    "- Средняя выручка с одного заказа — около **545 ₽**.  \n",
    "- Среднее количество билетов в заказе — **2.7**.  \n",
    "- Средний интервал между покупками (для пользователей с ≥2 заказами) — около **16 дней**.  \n",
    "- Пользователей с повторными покупками (`is_two=1`) — **≈62%**,  \n",
    "  с ≥5 покупками (`is_five=1`) — **≈29%**.\n",
    "\n",
    "**Вывод:**  \n",
    "Профиль пользователя успешно сформирован. Данные выглядят корректно и готовы для дальнейшего анализа \n"
   ]
  },
  {
   "cell_type": "code",
   "execution_count": null,
   "id": "625f3382",
   "metadata": {},
   "outputs": [],
   "source": []
  },
  {
   "cell_type": "code",
   "execution_count": null,
   "id": "dfb22bd2",
   "metadata": {},
   "outputs": [],
   "source": []
  },
  {
   "cell_type": "code",
   "execution_count": null,
   "id": "d6c96cdb",
   "metadata": {},
   "outputs": [],
   "source": []
  },
  {
   "cell_type": "markdown",
   "id": "1LGZVL7FhrmD",
   "metadata": {
    "id": "1LGZVL7FhrmD"
   },
   "source": [
    "---\n",
    "\n",
    "**Задача 3.2.** Прежде чем проводить исследовательский анализ данных и делать выводы, важно понять, с какими данными вы работаете: насколько они репрезентативны и нет ли в них аномалий.\n",
    "\n",
    "Используя данные о профилях пользователей, рассчитайте:\n",
    "\n",
    "- общее число пользователей в выборке;\n",
    "- среднюю выручку с одного заказа;\n",
    "- долю пользователей, совершивших 2 и более заказа;\n",
    "- долю пользователей, совершивших 5 и более заказов.\n",
    "\n",
    "Также изучите статистические показатели:\n",
    "\n",
    "- по общему числу заказов;\n",
    "- по среднему числу билетов в заказе;\n",
    "- по среднему количеству дней между покупками.\n",
    "\n",
    "По результатам оцените данные: достаточно ли их по объёму, есть ли аномальные значения в данных о количестве заказов и среднем количестве билетов?\n",
    "\n",
    "Если вы найдёте аномальные значения, опишите их и примите обоснованное решение о том, как с ними поступить:\n",
    "\n",
    "- Оставить и учитывать их при анализе?\n",
    "- Отфильтровать данные по какому-то значению, например, по 95-му или 99-му перцентилю?\n",
    "\n",
    "Если вы проведёте фильтрацию, то вычислите объём отфильтрованных данных и выведите статистические показатели по обновлённому датасету."
   ]
  },
  {
   "cell_type": "code",
   "execution_count": 33,
   "id": "557be834",
   "metadata": {
    "id": "557be834"
   },
   "outputs": [],
   "source": [
    "# 0) выберем базу заказов и профили\n",
    "base = df_clean if 'df_clean' in globals() else df\n",
    "prof = profiles.copy()\n"
   ]
  },
  {
   "cell_type": "code",
   "execution_count": 34,
   "id": "4267d6dd",
   "metadata": {},
   "outputs": [
    {
     "name": "stdout",
     "output_type": "stream",
     "text": [
      "=== БАЗОВЫЕ МЕТРИКИ ===\n",
      "{'users_total': 21838, 'mean_revenue_per_order_rub': 518.72, 'share_users_2+': 0.617, 'share_users_5+': 0.29}\n",
      "\n",
      "=== total_orders ===\n",
      " count    21838.00\n",
      "mean        13.16\n",
      "std        121.58\n",
      "min          1.00\n",
      "50%          2.00\n",
      "90%         15.00\n",
      "95%         31.00\n",
      "99%        152.00\n",
      "max      10168.00\n",
      "Name: total_orders, dtype: float64\n",
      "\n",
      "=== avg_tickets_cnt ===\n",
      " count    21838.00\n",
      "mean         2.74\n",
      "std          0.91\n",
      "min          1.00\n",
      "50%          2.75\n",
      "90%          4.00\n",
      "95%          4.00\n",
      "99%          5.00\n",
      "max         11.00\n",
      "Name: avg_tickets_cnt, dtype: float64\n",
      "\n",
      "=== mean_days_between ===\n",
      " count    13504.00\n",
      "mean        15.86\n",
      "std         22.33\n",
      "min          0.00\n",
      "50%          8.00\n",
      "90%         41.50\n",
      "95%         61.50\n",
      "99%        112.00\n",
      "max        148.00\n",
      "Name: mean_days_between, dtype: float64\n",
      "\n",
      "Пороговые значения (95/99 перцентиль):\n",
      "{'total_orders': {'p95': 31.0, 'p99': 152.0}, 'avg_tickets_cnt': {'p95': 4.0, 'p99': 5.0}}\n"
     ]
    }
   ],
   "source": [
    "\n",
    "# 1) Ключевые метрики по профилям и по заказам\n",
    "n_users = prof['user_id'].nunique()\n",
    "mean_rev_per_order = float(base['revenue_rub'].mean())  # средняя выручка с одного заказа\n",
    "share_two  = float(prof['is_two'].mean())               # доля пользователей с 2+ заказами\n",
    "share_five = float(prof['is_five'].mean())              # доля пользователей с 5+ заказами\n",
    "\n",
    "# 2) Статистики по ключевым признакам профиля\n",
    "stats_total_orders = prof['total_orders'].describe(percentiles=[.9,.95,.99]).round(2)\n",
    "stats_avg_tickets  = prof['avg_tickets_cnt'].describe(percentiles=[.9,.95,.99]).round(2)\n",
    "stats_mean_days    = prof['mean_days_between'].describe(percentiles=[.9,.95,.99]).round(2)  # NaN у 1-заказных — это нормально\n",
    "\n",
    "print(\"=== БАЗОВЫЕ МЕТРИКИ ===\")\n",
    "print({\n",
    "    'users_total': n_users,\n",
    "    'mean_revenue_per_order_rub': round(mean_rev_per_order, 2),\n",
    "    'share_users_2+': round(share_two, 4),\n",
    "    'share_users_5+': round(share_five, 4),\n",
    "})\n",
    "print(\"\\n=== total_orders ===\\n\", stats_total_orders)\n",
    "print(\"\\n=== avg_tickets_cnt ===\\n\", stats_avg_tickets)\n",
    "print(\"\\n=== mean_days_between ===\\n\", stats_mean_days)\n",
    "\n",
    "# 3) Поиск аномалий (пороговые значения)\n",
    "p95_orders   = float(prof['total_orders'].quantile(0.95))\n",
    "p99_orders   = float(prof['total_orders'].quantile(0.99))\n",
    "p95_tickets  = float(prof['avg_tickets_cnt'].quantile(0.95))\n",
    "p99_tickets  = float(prof['avg_tickets_cnt'].quantile(0.99))\n",
    "\n",
    "print(\"\\nПороговые значения (95/99 перцентиль):\")\n",
    "print({\n",
    "    'total_orders': {'p95': round(p95_orders,2), 'p99': round(p99_orders,2)},\n",
    "    'avg_tickets_cnt': {'p95': round(p95_tickets,2), 'p99': round(p99_tickets,2)}\n",
    "})\n",
    "\n"
   ]
  },
  {
   "cell_type": "markdown",
   "id": "d7a91245",
   "metadata": {},
   "source": [
    "**Задача 3.2. Репрезентативность и аномалии (по профилям пользователей)**\n",
    "\n",
    "**Ключевые метрики**\n",
    "- Общее число пользователей: **21 838**\n",
    "- Средняя выручка с одного заказа: **518,72 ₽**\n",
    "- Доля пользователей с ≥2 заказами: **61,7%**\n",
    "- Доля пользователей с ≥5 заказами: **29,0%**\n",
    "\n",
    "**Статистики по признакам**\n",
    "- *total_orders*  \n",
    "  - min=**1**, медиана=**2**, 90%=**15**, 95%=**31**, 99%=**152**, max=**10 168**  \n",
    "  - среднее=**13,16**, **тяжёлый хвост** (немного суперактивных сильно тянут среднее).\n",
    "- *avg_tickets_cnt*  \n",
    "  - min=**1**, медиана=**2,75**, 90%=**4**, 95%=**4**, 99%=**5**, max=**11**  \n",
    "  - среднее=**2,74** — распределение компактное, редкие групповые покупки дают верхний хвост.\n",
    "- *mean_days_between* (только у пользователей с ≥2 заказами, count=**13 504**)  \n",
    "  - min=**0**, медиана=**8**, 90%=**41,5**, 95%=**61,5**, 99%=**112**, max=**148**  \n",
    "  - среднее=**15,86** — есть длинные паузы у части пользователей.\n",
    "\n",
    "**Пороговые значения (для отсечения аномалий)**\n",
    "- *total_orders*: **p95=31**, **p99=152**\n",
    "- *avg_tickets_cnt*: **p95=4**, **p99=5**\n",
    "\n",
    "**Оценка**\n",
    "- Объём данных достаточный (21,8k пользователей).  \n",
    "- В *total_orders* наблюдается выраженный хвост (до 10k+ заказов) — вероятно, корпоративные/спец-аккаунты или редкие сверхактивные пользователи.  \n",
    "- В *avg_tickets_cnt* хвост умеренный (99% ≤ 5 билетов), значения выглядят реалистично.\n"
   ]
  },
  {
   "cell_type": "code",
   "execution_count": null,
   "id": "dd354c5a",
   "metadata": {},
   "outputs": [],
   "source": []
  },
  {
   "cell_type": "code",
   "execution_count": null,
   "id": "2b93d05a",
   "metadata": {},
   "outputs": [],
   "source": []
  },
  {
   "cell_type": "code",
   "execution_count": null,
   "id": "970f26d3",
   "metadata": {},
   "outputs": [],
   "source": []
  },
  {
   "cell_type": "markdown",
   "id": "6yhiv3t1mPNU",
   "metadata": {
    "id": "6yhiv3t1mPNU"
   },
   "source": [
    "---\n",
    "\n",
    "### 4. Исследовательский анализ данных\n",
    "\n",
    "Следующий этап — исследование признаков, влияющих на возврат пользователей, то есть на совершение повторного заказа. Для этого используйте профили пользователей."
   ]
  },
  {
   "cell_type": "markdown",
   "id": "6fe731c3",
   "metadata": {
    "id": "6fe731c3"
   },
   "source": [
    "\n",
    "\n",
    "#### 4.1. Исследование признаков первого заказа и их связи с возвращением на платформу\n",
    "\n",
    "Исследуйте признаки, описывающие первый заказ пользователя, и выясните, влияют ли они на вероятность возвращения пользователя.\n",
    "\n",
    "---\n",
    "\n",
    "**Задача 4.1.1.** Изучите распределение пользователей по признакам.\n",
    "\n",
    "- Сгруппируйте пользователей:\n",
    "    - по типу их первого мероприятия;\n",
    "    - по типу устройства, с которого совершена первая покупка;\n",
    "    - по региону проведения мероприятия из первого заказа;\n",
    "    - по билетному оператору, продавшему билеты на первый заказ.\n",
    "- Подсчитайте общее количество пользователей в каждом сегменте и их долю в разрезе каждого признака. Сегмент — это группа пользователей, объединённых определённым признаком, то есть объединённые принадлежностью к категории. Например, все клиенты, сделавшие первый заказ с мобильного телефона, — это сегмент.\n",
    "- Ответьте на вопрос: равномерно ли распределены пользователи по сегментам или есть выраженные «точки входа» — сегменты с наибольшим числом пользователей?\n",
    "\n",
    "---\n"
   ]
  },
  {
   "cell_type": "code",
   "execution_count": 35,
   "id": "77a32a7b",
   "metadata": {},
   "outputs": [
    {
     "name": "stdout",
     "output_type": "stream",
     "text": [
      "<class 'pandas.core.frame.DataFrame'>\n",
      "Int64Index: 21838 entries, 0 to 21837\n",
      "Data columns (total 13 columns):\n",
      " #   Column             Non-Null Count  Dtype  \n",
      "---  ------             --------------  -----  \n",
      " 0   user_id            21838 non-null  object \n",
      " 1   first_order_dt     21838 non-null  object \n",
      " 2   last_order_dt      21838 non-null  object \n",
      " 3   first_device       21838 non-null  object \n",
      " 4   first_region       21838 non-null  object \n",
      " 5   first_service      21838 non-null  object \n",
      " 6   first_event_type   21838 non-null  object \n",
      " 7   total_orders       21838 non-null  int64  \n",
      " 8   avg_revenue_rub    21838 non-null  float64\n",
      " 9   avg_tickets_cnt    21838 non-null  float64\n",
      " 10  mean_days_between  13504 non-null  float64\n",
      " 11  is_two             21838 non-null  int64  \n",
      " 12  is_five            21838 non-null  int64  \n",
      "dtypes: float64(3), int64(3), object(7)\n",
      "memory usage: 2.3+ MB\n"
     ]
    }
   ],
   "source": [
    "profiles.info()"
   ]
  },
  {
   "cell_type": "code",
   "execution_count": 36,
   "id": "a8228a03",
   "metadata": {
    "id": "a8228a03"
   },
   "outputs": [
    {
     "data": {
      "text/plain": [
       "концерты    9647\n",
       "другое      5465\n",
       "театр       4295\n",
       "стендап     1118\n",
       "спорт        801\n",
       "выставки     417\n",
       "ёлки          95\n",
       "Name: first_event_type, dtype: int64"
      ]
     },
     "execution_count": 36,
     "metadata": {},
     "output_type": "execute_result"
    }
   ],
   "source": [
    "#сделаем группировку пользователей в датафрейме profiles, посчитаем размер сегмента и его долю\n",
    "profiles['first_event_type'].value_counts()"
   ]
  },
  {
   "cell_type": "code",
   "execution_count": 37,
   "id": "84dfbb95",
   "metadata": {},
   "outputs": [
    {
     "data": {
      "text/plain": [
       "концерты    0.441753\n",
       "другое      0.250252\n",
       "театр       0.196676\n",
       "стендап     0.051195\n",
       "спорт       0.036679\n",
       "выставки    0.019095\n",
       "ёлки        0.004350\n",
       "Name: first_event_type, dtype: float64"
      ]
     },
     "execution_count": 37,
     "metadata": {},
     "output_type": "execute_result"
    }
   ],
   "source": [
    "profiles['first_event_type'].value_counts(normalize=True)"
   ]
  },
  {
   "cell_type": "code",
   "execution_count": 38,
   "id": "7494715b",
   "metadata": {},
   "outputs": [
    {
     "data": {
      "text/plain": [
       "mobile     18090\n",
       "desktop     3748\n",
       "Name: first_device, dtype: int64"
      ]
     },
     "execution_count": 38,
     "metadata": {},
     "output_type": "execute_result"
    }
   ],
   "source": [
    "profiles['first_device'].value_counts()"
   ]
  },
  {
   "cell_type": "code",
   "execution_count": 39,
   "id": "cc291dac",
   "metadata": {},
   "outputs": [
    {
     "data": {
      "text/plain": [
       "mobile     0.828373\n",
       "desktop    0.171627\n",
       "Name: first_device, dtype: float64"
      ]
     },
     "execution_count": 39,
     "metadata": {},
     "output_type": "execute_result"
    }
   ],
   "source": [
    "profiles['first_device'].value_counts(normalize=True)"
   ]
  },
  {
   "cell_type": "code",
   "execution_count": 40,
   "id": "094b94af",
   "metadata": {},
   "outputs": [
    {
     "data": {
      "text/plain": [
       "каменевский регион          7160\n",
       "североярская область        3800\n",
       "широковская область         1236\n",
       "озернинский край             678\n",
       "малиновоярский округ         530\n",
       "                            ... \n",
       "тихогорская область            2\n",
       "залесский край                 2\n",
       "сосноводолинская область       1\n",
       "верхозёрский край              1\n",
       "яснопольский округ             1\n",
       "Name: first_region, Length: 81, dtype: int64"
      ]
     },
     "execution_count": 40,
     "metadata": {},
     "output_type": "execute_result"
    }
   ],
   "source": [
    "profiles['first_region'].value_counts()"
   ]
  },
  {
   "cell_type": "code",
   "execution_count": 41,
   "id": "9ea5a2c8",
   "metadata": {},
   "outputs": [
    {
     "data": {
      "text/plain": [
       "каменевский регион          0.327869\n",
       "североярская область        0.174009\n",
       "широковская область         0.056599\n",
       "озернинский край            0.031047\n",
       "малиновоярский округ        0.024270\n",
       "                              ...   \n",
       "тихогорская область         0.000092\n",
       "залесский край              0.000092\n",
       "сосноводолинская область    0.000046\n",
       "верхозёрский край           0.000046\n",
       "яснопольский округ          0.000046\n",
       "Name: first_region, Length: 81, dtype: float64"
      ]
     },
     "execution_count": 41,
     "metadata": {},
     "output_type": "execute_result"
    }
   ],
   "source": [
    "profiles['first_region'].value_counts(normalize=True)"
   ]
  },
  {
   "cell_type": "code",
   "execution_count": 42,
   "id": "1ba5e6eb",
   "metadata": {},
   "outputs": [
    {
     "data": {
      "text/plain": [
       "билеты без проблем        5204\n",
       "мой билет                 2993\n",
       "лови билет!               2851\n",
       "билеты в руки             2592\n",
       "облачко                   2194\n",
       "весь в билетах            1305\n",
       "лучшие билеты             1186\n",
       "прачечная                  588\n",
       "край билетов               459\n",
       "дом культуры               358\n",
       "яблоко                     320\n",
       "тебе билет!                311\n",
       "городской дом культуры     219\n",
       "мир касс                   212\n",
       "за билетом!                203\n",
       "show_ticket                163\n",
       "быстробилет                162\n",
       "выступления.ру              96\n",
       "восьмёрка                   86\n",
       "быстрый кассир              61\n",
       "crazy ticket!               45\n",
       "реестр                      40\n",
       "росбилет                    40\n",
       "радио ticket                36\n",
       "телебилет                   27\n",
       "цвет и билет                24\n",
       "шоу начинается!             19\n",
       "карандашру                  16\n",
       "кино билет                   9\n",
       "вперёд!                      7\n",
       "билет по телефону            6\n",
       "тех билет                    3\n",
       "лимоны                       2\n",
       "зе бест!                     1\n",
       "Name: first_service, dtype: int64"
      ]
     },
     "execution_count": 42,
     "metadata": {},
     "output_type": "execute_result"
    }
   ],
   "source": [
    "profiles['first_service'].value_counts()"
   ]
  },
  {
   "cell_type": "code",
   "execution_count": 43,
   "id": "6d593304",
   "metadata": {},
   "outputs": [
    {
     "data": {
      "text/plain": [
       "билеты без проблем        0.238300\n",
       "мой билет                 0.137055\n",
       "лови билет!               0.130552\n",
       "билеты в руки             0.118692\n",
       "облачко                   0.100467\n",
       "весь в билетах            0.059758\n",
       "лучшие билеты             0.054309\n",
       "прачечная                 0.026926\n",
       "край билетов              0.021018\n",
       "дом культуры              0.016393\n",
       "яблоко                    0.014653\n",
       "тебе билет!               0.014241\n",
       "городской дом культуры    0.010028\n",
       "мир касс                  0.009708\n",
       "за билетом!               0.009296\n",
       "show_ticket               0.007464\n",
       "быстробилет               0.007418\n",
       "выступления.ру            0.004396\n",
       "восьмёрка                 0.003938\n",
       "быстрый кассир            0.002793\n",
       "crazy ticket!             0.002061\n",
       "реестр                    0.001832\n",
       "росбилет                  0.001832\n",
       "радио ticket              0.001649\n",
       "телебилет                 0.001236\n",
       "цвет и билет              0.001099\n",
       "шоу начинается!           0.000870\n",
       "карандашру                0.000733\n",
       "кино билет                0.000412\n",
       "вперёд!                   0.000321\n",
       "билет по телефону         0.000275\n",
       "тех билет                 0.000137\n",
       "лимоны                    0.000092\n",
       "зе бест!                  0.000046\n",
       "Name: first_service, dtype: float64"
      ]
     },
     "execution_count": 43,
     "metadata": {},
     "output_type": "execute_result"
    }
   ],
   "source": [
    "profiles['first_service'].value_counts(normalize=True)"
   ]
  },
  {
   "cell_type": "markdown",
   "id": "dbdf4518",
   "metadata": {
    "id": "b5e97b12"
   },
   "source": [
    "**Анализ распределения пользователей по сегментам**\n",
    "\n",
    "**Вывод:**\n",
    "Распределение пользователей по сегментам **неравномерное** — отчётливо видны выраженные «точки входа» в сервис.\n",
    "\n",
    "---\n",
    "\n",
    "По типу первого события (`first_event_type`)\n",
    "Основная точка входа — концерты (почти половина всех пользователей впервые покупали билеты именно на них).\n",
    "\n",
    "---\n",
    "\n",
    "По типу устройства (`first_device`)\n",
    "Большинство пользователей впервые совершают заказ с мобильных устройств.\n",
    "\n",
    "---\n",
    "\n",
    "По региону первого заказа (`first_region`)\n",
    "Наиболее активные регионы — **Каменевский** и **Североярская область**, остальные составляют длинный «хвост» с малыми долями.\n",
    "\n",
    "---\n",
    "\n",
    "По первому билетному оператору (`first_service`)\n",
    "Пять крупнейших операторов аккумулируют **более 70%** всех первых заказов.\n",
    "\n",
    "---\n",
    "\n",
    "**Итог:**  \n",
    "Пользователи распределены по сегментам **очень неравномерно**.  \n",
    "Выраженные точки входа:\n",
    "- тип события — **концерты**;\n",
    "- устройство — **мобильные**;\n",
    "- регион — **Каменевский**, **Североярская область**;\n",
    "- билетные сервисы — **топ-5 операторов**.  "
   ]
  },
  {
   "cell_type": "code",
   "execution_count": null,
   "id": "aa4720c8",
   "metadata": {},
   "outputs": [],
   "source": []
  },
  {
   "cell_type": "code",
   "execution_count": null,
   "id": "4e837eac",
   "metadata": {},
   "outputs": [],
   "source": []
  },
  {
   "cell_type": "code",
   "execution_count": null,
   "id": "02aedf63",
   "metadata": {
    "id": "02aedf63"
   },
   "outputs": [],
   "source": []
  },
  {
   "cell_type": "markdown",
   "id": "d8ffd79b",
   "metadata": {
    "id": "d8ffd79b"
   },
   "source": [
    "---\n",
    "\n",
    "**Задача 4.1.2.** Проанализируйте возвраты пользователей:\n",
    "\n",
    "- Для каждого сегмента вычислите долю пользователей, совершивших два и более заказа.\n",
    "- Визуализируйте результат подходящим графиком. Если сегментов слишком много, то поместите на график только 10 сегментов с наибольшим количеством пользователей. Такое возможно с сегментами по региону и по билетному оператору.\n",
    "- Ответьте на вопросы:\n",
    "    - Какие сегменты пользователей чаще возвращаются на Яндекс Афишу?\n",
    "    - Наблюдаются ли успешные «точки входа» — такие сегменты, в которых пользователи чаще совершают повторный заказ, чем в среднем по выборке?\n",
    "\n",
    "При интерпретации результатов учитывайте размер сегментов: если в сегменте мало пользователей (например, десятки), то доли могут быть нестабильными и недостоверными, то есть показывать широкую вариацию значений.\n",
    "\n",
    "---\n"
   ]
  },
  {
   "cell_type": "code",
   "execution_count": 44,
   "id": "27441ea8",
   "metadata": {
    "id": "27441ea8"
   },
   "outputs": [
    {
     "data": {
      "text/plain": [
       "first_event_type\n",
       "выставки    0.645084\n",
       "другое      0.600366\n",
       "концерты    0.621437\n",
       "спорт       0.561798\n",
       "стендап     0.611807\n",
       "театр       0.638650\n",
       "ёлки        0.557895\n",
       "Name: is_two, dtype: float64"
      ]
     },
     "execution_count": 44,
     "metadata": {},
     "output_type": "execute_result"
    }
   ],
   "source": [
    "#посчитаем доли пользователей с >2 заказов по сегментам\n",
    "profiles.groupby('first_event_type')['is_two'].mean()"
   ]
  },
  {
   "cell_type": "code",
   "execution_count": 45,
   "id": "860e09e9",
   "metadata": {},
   "outputs": [
    {
     "data": {
      "image/png": "[encoded data removed]",
      "text/plain": [
       "<Figure size 432x288 with 1 Axes>"
      ]
     },
     "metadata": {
      "needs_background": "light"
     },
     "output_type": "display_data"
    }
   ],
   "source": [
    "#визуализируем распределение first_event_type\n",
    "plt.figure()\n",
    "profiles.groupby('first_event_type')['is_two'].mean().sort_values().plot(kind='bar', alpha=0.85)\n",
    "plt.title('Распределение first_event_type')\n",
    "plt.xlabel('first_event_type'); plt.ylabel('доля'); plt.tight_layout()"
   ]
  },
  {
   "cell_type": "code",
   "execution_count": 46,
   "id": "5a45574f",
   "metadata": {},
   "outputs": [
    {
     "data": {
      "text/plain": [
       "first_device\n",
       "desktop    0.641409\n",
       "mobile     0.611996\n",
       "Name: is_two, dtype: float64"
      ]
     },
     "execution_count": 46,
     "metadata": {},
     "output_type": "execute_result"
    }
   ],
   "source": [
    "profiles.groupby('first_device')['is_two'].mean()"
   ]
  },
  {
   "cell_type": "code",
   "execution_count": 47,
   "id": "4317dc84",
   "metadata": {},
   "outputs": [
    {
     "data": {
      "image/png": "[encoded data removed]",
      "text/plain": [
       "<Figure size 432x288 with 1 Axes>"
      ]
     },
     "metadata": {
      "needs_background": "light"
     },
     "output_type": "display_data"
    }
   ],
   "source": [
    "#визуализируем распределение first_device\n",
    "plt.figure()\n",
    "profiles.groupby('first_device')['is_two'].mean().sort_values(ascending=True).plot(kind='bar', alpha=0.85)\n",
    "plt.title('Распределение first_device')\n",
    "plt.xlabel('first_device'); plt.ylabel('доля'); plt.tight_layout()"
   ]
  },
  {
   "cell_type": "code",
   "execution_count": 48,
   "id": "151a880d",
   "metadata": {},
   "outputs": [
    {
     "data": {
      "text/plain": [
       "first_region\n",
       "верхозёрский край           1.000000\n",
       "озернопольская область      0.896552\n",
       "радужнопольский край        0.791667\n",
       "лесостепной край            0.721311\n",
       "горноземский регион         0.689655\n",
       "                              ...   \n",
       "теплоозёрский округ         0.333333\n",
       "крутоводский регион         0.333333\n",
       "островогорский округ        0.200000\n",
       "сосноводолинская область    0.000000\n",
       "яснопольский округ          0.000000\n",
       "Name: is_two, Length: 81, dtype: float64"
      ]
     },
     "execution_count": 48,
     "metadata": {},
     "output_type": "execute_result"
    }
   ],
   "source": [
    "profiles.groupby('first_region')['is_two'].mean().sort_values(ascending=False)"
   ]
  },
  {
   "cell_type": "code",
   "execution_count": 49,
   "id": "24d56ba5",
   "metadata": {},
   "outputs": [
    {
     "data": {
      "image/png": "[encoded data removed]",
      "text/plain": [
       "<Figure size 432x288 with 1 Axes>"
      ]
     },
     "metadata": {
      "needs_background": "light"
     },
     "output_type": "display_data"
    }
   ],
   "source": [
    "#визуализируем распределение first_region\n",
    "plt.figure()\n",
    "(\n",
    "    profiles.groupby('first_region')['is_two']\n",
    "    .mean()\n",
    "    .sort_values(ascending=False)  # сортировка по убыванию\n",
    "    .head(10)                      # берём 10 самых больших\n",
    "    .plot(kind='bar', alpha=0.85)\n",
    ")\n",
    "plt.title('Топ-10 first_region по доле пользователей с ≥2 заказами')\n",
    "plt.xlabel('first_region')\n",
    "plt.ylabel('Доля пользователей с ≥2 заказами')\n",
    "plt.tight_layout()\n",
    "plt.show()"
   ]
  },
  {
   "cell_type": "code",
   "execution_count": 50,
   "id": "b2ba2e1c",
   "metadata": {},
   "outputs": [
    {
     "data": {
      "text/plain": [
       "first_service\n",
       "crazy ticket!             0.688889\n",
       "show_ticket               0.662577\n",
       "билет по телефону         0.833333\n",
       "билеты без проблем        0.606072\n",
       "билеты в руки             0.632716\n",
       "быстробилет               0.592593\n",
       "быстрый кассир            0.852459\n",
       "весь в билетах            0.634483\n",
       "восьмёрка                 0.686047\n",
       "вперёд!                   0.571429\n",
       "выступления.ру            0.625000\n",
       "городской дом культуры    0.593607\n",
       "дом культуры              0.648045\n",
       "за билетом!               0.591133\n",
       "зе бест!                  1.000000\n",
       "карандашру                0.437500\n",
       "кино билет                0.555556\n",
       "край билетов              0.655773\n",
       "лимоны                    0.500000\n",
       "лови билет!               0.614872\n",
       "лучшие билеты             0.614671\n",
       "мир касс                  0.646226\n",
       "мой билет                 0.611761\n",
       "облачко                   0.615314\n",
       "прачечная                 0.629252\n",
       "радио ticket              0.416667\n",
       "реестр                    0.850000\n",
       "росбилет                  0.650000\n",
       "тебе билет!               0.607717\n",
       "телебилет                 0.444444\n",
       "тех билет                 0.333333\n",
       "цвет и билет              0.666667\n",
       "шоу начинается!           0.315789\n",
       "яблоко                    0.537500\n",
       "Name: is_two, dtype: float64"
      ]
     },
     "execution_count": 50,
     "metadata": {},
     "output_type": "execute_result"
    }
   ],
   "source": [
    "profiles.groupby('first_service')['is_two'].mean()"
   ]
  },
  {
   "cell_type": "code",
   "execution_count": 51,
   "id": "886b3638",
   "metadata": {},
   "outputs": [
    {
     "data": {
      "image/png": "[encoded data removed]",
      "text/plain": [
       "<Figure size 432x288 with 1 Axes>"
      ]
     },
     "metadata": {
      "needs_background": "light"
     },
     "output_type": "display_data"
    }
   ],
   "source": [
    "#визуализируем распределение first_service\n",
    "plt.figure()\n",
    "(\n",
    "    profiles.groupby('first_service')['is_two']\n",
    "    .mean()\n",
    "    .sort_values(ascending=False)  # сортировка по убыванию\n",
    "    .head(10)                      # берём 10 самых больших\n",
    "    .plot(kind='bar', alpha=0.85)\n",
    ")\n",
    "plt.title('Топ-10 first_service по доле пользователей с ≥2 заказами')\n",
    "plt.xlabel('first_service')\n",
    "plt.ylabel('Доля пользователей с ≥2 заказами')\n",
    "plt.tight_layout()\n",
    "plt.show()"
   ]
  },
  {
   "cell_type": "markdown",
   "id": "dc5ade94",
   "metadata": {},
   "source": [
    "**Анализ возвратов покупателей**\n",
    "\n",
    "**Вывод:**\n",
    "\n",
    "1️⃣ Какие сегменты пользователей чаще возвращаются на Яндекс.Афишу?\n",
    "\n",
    "Выставки, театр и desktop показывают самые высокие доли повторных заказов.\n",
    "\n",
    "2️⃣ Есть ли «успешные точки входа»?\n",
    "\n",
    "Да. Первые заказы, связанные с выставками и театром, можно считать эффективными точками входа — их пользователи возвращаются чаще среднего.\n",
    "\n",
    "3️⃣ Нужно ли учитывать размер сегментов?\n",
    "\n",
    "Обязательно. Малые группы (десятки пользователей) часто дают искажённые значения (0% или 100%), поэтому при интерпретации важно фильтровать сегменты по числу наблюдений."
   ]
  },
  {
   "cell_type": "code",
   "execution_count": null,
   "id": "6ca8b741",
   "metadata": {},
   "outputs": [],
   "source": []
  },
  {
   "cell_type": "code",
   "execution_count": null,
   "id": "c0781ed7",
   "metadata": {},
   "outputs": [],
   "source": []
  },
  {
   "cell_type": "code",
   "execution_count": null,
   "id": "2da12c2e",
   "metadata": {
    "id": "2da12c2e"
   },
   "outputs": [],
   "source": []
  },
  {
   "cell_type": "markdown",
   "id": "1cd85c08",
   "metadata": {
    "id": "1cd85c08",
    "outputId": "0afbc606-1346-4bf6-f188-550c838d0f5d",
    "scrolled": false
   },
   "source": [
    "---\n",
    "\n",
    "**Задача 4.1.3.** Опираясь на выводы из задач выше, проверьте продуктовые гипотезы:\n",
    "\n",
    "- **Гипотеза 1.** Тип мероприятия влияет на вероятность возврата на Яндекс Афишу: пользователи, которые совершили первый заказ на спортивные мероприятия, совершают повторный заказ чаще, чем пользователи, оформившие свой первый заказ на концерты.\n",
    "- **Гипотеза 2.** В регионах, где больше всего пользователей посещают мероприятия, выше доля повторных заказов, чем в менее активных регионах.\n",
    "\n",
    "---"
   ]
  },
  {
   "cell_type": "markdown",
   "id": "fcbe4f1a",
   "metadata": {},
   "source": [
    "**На основе выполненного анализа можно сделать следующие выводы о релевантности гипотез**\n",
    "Гипотеза 1 (Тип мероприятия влияет на вероятность возврата на Яндекс Афишу: пользователи, которые совершили первый заказ на спортивные мероприятия, совершают повторный заказ чаще, чем пользователи, оформившие свой первый заказ на концерты.).\n",
    "**НЕВЕРНО, доля пользователей, совершающих повторный заказ, выше среди посетивших концерты**\n",
    "\n",
    "Гипотеза 2 (В регионах, где больше всего пользователей посещают мероприятия, выше доля повторных заказов, чем в менее активных регионах.).\n",
    "**НЕВЕРНО, больше всего заказов наблюдается в Каменевском регионе (91058), Североярской области (44049), Широковской области (16457), Медовской области (13901) и Озернинском крае (10476). При этом доля повторных заказов выши всего в верхозерском крае (100%), озернопольской области (89%), Радужнопольском крае (79%), лесостепном крае (72%) и Горноземском регионе (68%)**"
   ]
  },
  {
   "cell_type": "code",
   "execution_count": null,
   "id": "351a6645",
   "metadata": {},
   "outputs": [],
   "source": []
  },
  {
   "cell_type": "code",
   "execution_count": null,
   "id": "263d00ed",
   "metadata": {},
   "outputs": [],
   "source": []
  },
  {
   "cell_type": "code",
   "execution_count": null,
   "id": "1f023ef3",
   "metadata": {
    "id": "1f023ef3"
   },
   "outputs": [],
   "source": []
  },
  {
   "cell_type": "markdown",
   "id": "88c3b292",
   "metadata": {
    "id": "88c3b292"
   },
   "source": [
    "---\n",
    "\n",
    "#### 4.2. Исследование поведения пользователей через показатели выручки и состава заказа\n",
    "\n",
    "Изучите количественные характеристики заказов пользователей, чтобы узнать среднюю выручку сервиса с заказа и количество билетов, которое пользователи обычно покупают.\n",
    "\n",
    "Эти метрики важны не только для оценки выручки, но и для оценки вовлечённости пользователей. Возможно, пользователи с более крупными и дорогими заказами более заинтересованы в сервисе и поэтому чаще возвращаются.\n",
    "\n",
    "---\n",
    "\n",
    "**Задача 4.2.1.** Проследите связь между средней выручкой сервиса с заказа и повторными заказами.\n",
    "\n",
    "- Постройте сравнительные гистограммы распределения средней выручки с билета (`avg_revenue_rub`):\n",
    "    - для пользователей, совершивших один заказ;\n",
    "    - для вернувшихся пользователей, совершивших 2 и более заказа.\n",
    "- Ответьте на вопросы:\n",
    "    - В каких диапазонах средней выручки концентрируются пользователи из каждой группы?\n",
    "    - Есть ли различия между группами?\n",
    "\n",
    "Текст на сером фоне:\n",
    "    \n",
    "**Рекомендация:**\n",
    "\n",
    "1. Используйте одинаковые интервалы (`bins`) и прозрачность (`alpha`), чтобы визуально сопоставить распределения.\n",
    "2. Задайте параметру `density` значение `True`, чтобы сравнивать форму распределений, даже если число пользователей в группах отличается.\n",
    "\n",
    "---\n"
   ]
  },
  {
   "cell_type": "code",
   "execution_count": 52,
   "id": "fe5ce849",
   "metadata": {},
   "outputs": [],
   "source": [
    "#создадим датафреймы покупателей с одним заказом и более 2 заказа\n",
    "profiles_1_order=profiles.loc[profiles['is_two']==0]\n",
    "profiles_2_order=profiles.loc[profiles['is_two']==1]\n"
   ]
  },
  {
   "cell_type": "code",
   "execution_count": 53,
   "id": "a63c4025",
   "metadata": {
    "id": "a63c4025"
   },
   "outputs": [
    {
     "data": {
      "image/png": "[encoded data removed]",
      "text/plain": [
       "<Figure size 432x288 with 1 Axes>"
      ]
     },
     "metadata": {
      "needs_background": "light"
     },
     "output_type": "display_data"
    }
   ],
   "source": [
    "#построим гистограмму для распределения средней выручки для пользователей с одним заказом\n",
    "plt.figure()\n",
    "profiles_1_order['avg_revenue_rub'].plot(kind='hist', bins=50, alpha=0.85)\n",
    "plt.title('Распределение avg_revenue_rub')\n",
    "plt.xlabel('avg_revenue_rub'); plt.ylabel('частота'); plt.tight_layout()"
   ]
  },
  {
   "cell_type": "code",
   "execution_count": 54,
   "id": "2ca5712b",
   "metadata": {},
   "outputs": [
    {
     "data": {
      "image/png": "[encoded data removed]",
      "text/plain": [
       "<Figure size 432x288 with 1 Axes>"
      ]
     },
     "metadata": {
      "needs_background": "light"
     },
     "output_type": "display_data"
    }
   ],
   "source": [
    "#построим гистограмму для распределения средней выручки для пользователей с 2+ заказами\n",
    "plt.figure()\n",
    "profiles_2_order['avg_revenue_rub'].plot(kind='hist', bins=50, alpha=0.85)\n",
    "plt.title('Распределение avg_revenue_rub')\n",
    "plt.xlabel('avg_revenue_rub'); plt.ylabel('частота'); plt.tight_layout()"
   ]
  },
  {
   "cell_type": "code",
   "execution_count": 55,
   "id": "7c4c11d2",
   "metadata": {
    "id": "7c4c11d2"
   },
   "outputs": [
    {
     "data": {
      "image/png": "[encoded data removed]",
      "text/plain": [
       "<Figure size 576x360 with 1 Axes>"
      ]
     },
     "metadata": {
      "needs_background": "light"
     },
     "output_type": "display_data"
    }
   ],
   "source": [
    "plt.figure(figsize=(8, 5))\n",
    "\n",
    "plt.hist(\n",
    "    profiles_1_order['avg_revenue_rub'],\n",
    "    bins=50,\n",
    "    alpha=0.6,\n",
    "    density=True,\n",
    "    label='1 заказ'\n",
    ")\n",
    "\n",
    "plt.hist(\n",
    "    profiles_2_order['avg_revenue_rub'],\n",
    "    bins=50,\n",
    "    alpha=0.6,\n",
    "    density=True,\n",
    "    label='2+ заказов'\n",
    ")\n",
    "\n",
    "plt.title('Распределение средней выручки с билета')\n",
    "plt.xlabel('avg_revenue_rub')\n",
    "plt.ylabel('Плотность')\n",
    "plt.legend()\n",
    "plt.tight_layout()\n",
    "plt.show()"
   ]
  },
  {
   "cell_type": "markdown",
   "id": "c5a19c88",
   "metadata": {
    "id": "262616d0"
   },
   "source": [
    "**Выводы по задаче 4.2.1**\n",
    "Группы пользователей существенно отличаются\n",
    "\n",
    "У пользователей с одним заказом (синие столбцы) распределение выручки смещено влево, большинство значений концентрируется в диапазоне до ~500–700 руб.\n",
    "\n",
    "У вернувшихся пользователей (оранжевые столбцы) распределение более равномерное и имеет пик в диапазоне 700–1000 руб., что говорит о чуть большей средней выручке.\n",
    "\n",
    "Можно предположить, что пользователи с более высокой выручкой чаще возвращаются и совершают повторные заказы.\n",
    "\n",
    "Общая форма распределений схожа (обе с длинным правым «хвостом»), но группа с 2+ заказами демонстрирует систематически большие значения avg_revenue_rub.\n",
    "\n",
    "***Пользователи, совершающие повторные заказы, в среднем приносят больше выручки с билета.\n",
    "Это может свидетельствовать о том, что более «ценные» клиенты чаще возвращаются на сервис.***\n"
   ]
  },
  {
   "cell_type": "code",
   "execution_count": null,
   "id": "a3ef52a7",
   "metadata": {},
   "outputs": [],
   "source": []
  },
  {
   "cell_type": "code",
   "execution_count": null,
   "id": "5d16b779",
   "metadata": {},
   "outputs": [],
   "source": []
  },
  {
   "cell_type": "code",
   "execution_count": null,
   "id": "4a78e47e",
   "metadata": {},
   "outputs": [],
   "source": []
  },
  {
   "cell_type": "markdown",
   "id": "f5416363",
   "metadata": {
    "id": "f5416363",
    "outputId": "59988e63-21c8-4fbe-e009-5769b1e83a42"
   },
   "source": [
    "---\n",
    "\n",
    "**Задача 4.2.2.** Сравните распределение по средней выручке с заказа в двух группах пользователей:\n",
    "\n",
    "- совершившие 2–4 заказа;\n",
    "- совершившие 5 и более заказов.\n",
    "\n",
    "Ответьте на вопрос: есть ли различия по значению средней выручки с заказа между пользователями этих двух групп?\n",
    "\n",
    "---\n"
   ]
  },
  {
   "cell_type": "code",
   "execution_count": 56,
   "id": "2ed4916f",
   "metadata": {
    "id": "2ed4916f"
   },
   "outputs": [],
   "source": [
    "#создадим датафреймы покупателей с 2-4 закаов и 5+ заказов\n",
    "profiles_2_4_order = profiles.loc[(profiles['is_two'] == 1) & (profiles['is_five'] == 0)]\n",
    "profiles_5_order=profiles.loc[profiles['is_five']==1]"
   ]
  },
  {
   "cell_type": "code",
   "execution_count": 57,
   "id": "c3bc4897",
   "metadata": {
    "id": "c3bc4897"
   },
   "outputs": [
    {
     "data": {
      "image/png": "[encoded data removed]",
      "text/plain": [
       "<Figure size 576x360 with 1 Axes>"
      ]
     },
     "metadata": {
      "needs_background": "light"
     },
     "output_type": "display_data"
    }
   ],
   "source": [
    "plt.figure(figsize=(8, 5))\n",
    "\n",
    "plt.hist(\n",
    "    profiles_2_4_order['avg_revenue_rub'],\n",
    "    bins=50,\n",
    "    alpha=0.6,\n",
    "    density=True,\n",
    "    label='2-4 заказа'\n",
    ")\n",
    "\n",
    "plt.hist(\n",
    "    profiles_5_order['avg_revenue_rub'],\n",
    "    bins=50,\n",
    "    alpha=0.6,\n",
    "    density=True,\n",
    "    label='5+ заказов'\n",
    ")\n",
    "\n",
    "plt.title('Распределение средней выручки с билета')\n",
    "plt.xlabel('avg_revenue_rub')\n",
    "plt.ylabel('Плотность')\n",
    "plt.legend()\n",
    "plt.tight_layout()\n",
    "plt.show()"
   ]
  },
  {
   "cell_type": "markdown",
   "id": "e4fdd431",
   "metadata": {
    "id": "1a101c4c"
   },
   "source": [
    "**Выводы по задаче 4.2.2**\n",
    "Различия в выручке есть: у группы \"5+ заказов\" распределение нормальное с пиком в районе 600-700 рублей сдвинутым вправо (относительно распределения \"2-4 заказов\"). "
   ]
  },
  {
   "cell_type": "code",
   "execution_count": null,
   "id": "09420c1a",
   "metadata": {},
   "outputs": [],
   "source": []
  },
  {
   "cell_type": "code",
   "execution_count": null,
   "id": "738a3ae3",
   "metadata": {},
   "outputs": [],
   "source": []
  },
  {
   "cell_type": "code",
   "execution_count": null,
   "id": "d4ffa5ba",
   "metadata": {},
   "outputs": [],
   "source": []
  },
  {
   "cell_type": "markdown",
   "id": "c40138c8",
   "metadata": {
    "id": "c40138c8"
   },
   "source": [
    "---\n",
    "\n",
    "**Задача 4.2.3.** Проанализируйте влияние среднего количества билетов в заказе на вероятность повторной покупки.\n",
    "\n",
    "- Изучите распределение пользователей по среднему количеству билетов в заказе (`avg_tickets_count`) и опишите основные наблюдения.\n",
    "- Разделите пользователей на несколько сегментов по среднему количеству билетов в заказе:\n",
    "    - от 1 до 2 билетов;\n",
    "    - от 2 до 3 билетов;\n",
    "    - от 3 до 5 билетов;\n",
    "    - от 5 и более билетов.\n",
    "- Для каждого сегмента подсчитайте общее число пользователей и долю пользователей, совершивших повторные заказы.\n",
    "- Ответьте на вопросы:\n",
    "    - Как распределены пользователи по сегментам — равномерно или сконцентрировано?\n",
    "    - Есть ли сегменты с аномально высокой или низкой долей повторных покупок?\n",
    "\n",
    "---"
   ]
  },
  {
   "cell_type": "code",
   "execution_count": 58,
   "id": "3cff9697",
   "metadata": {
    "id": "3cff9697"
   },
   "outputs": [
    {
     "data": {
      "image/png": "[encoded data removed]",
      "text/plain": [
       "<Figure size 432x288 with 1 Axes>"
      ]
     },
     "metadata": {
      "needs_background": "light"
     },
     "output_type": "display_data"
    }
   ],
   "source": [
    "#Построим распределение пользователей по среднему кол-ву билетов в заказе\n",
    "plt.figure()\n",
    "profiles['avg_tickets_cnt'].plot(kind='hist', bins=50, alpha=0.85)\n",
    "plt.title('Распределение avg_tickets_cnt')\n",
    "plt.xlabel('avg_tickets_cnt'); plt.ylabel('частота'); plt.tight_layout()"
   ]
  },
  {
   "cell_type": "code",
   "execution_count": 59,
   "id": "5f4597e0",
   "metadata": {},
   "outputs": [
    {
     "data": {
      "text/plain": [
       "count    21838.000000\n",
       "mean         2.744062\n",
       "std          0.913083\n",
       "min          1.000000\n",
       "25%          2.000000\n",
       "50%          2.750000\n",
       "75%          3.080000\n",
       "max         11.000000\n",
       "Name: avg_tickets_cnt, dtype: float64"
      ]
     },
     "execution_count": 59,
     "metadata": {},
     "output_type": "execute_result"
    }
   ],
   "source": [
    "#выведем статистику по avg_tickets_cnt\n",
    "profiles['avg_tickets_cnt'].describe()"
   ]
  },
  {
   "cell_type": "code",
   "execution_count": 60,
   "id": "162dae0c",
   "metadata": {},
   "outputs": [
    {
     "data": {
      "image/png": "[encoded data removed]",
      "text/plain": [
       "<Figure size 432x288 with 1 Axes>"
      ]
     },
     "metadata": {
      "needs_background": "light"
     },
     "output_type": "display_data"
    }
   ],
   "source": [
    "#построим boxplot`\n",
    "sns.boxplot(\n",
    "    data=profiles['avg_tickets_cnt'],\n",
    "    palette='pastel'\n",
    ")\n",
    "\n",
    "plt.title('Распределение avg_tickets_cnt')\n",
    "plt.xlabel('Группа пользователей')\n",
    "plt.ylabel('avg_tickets_cnt')\n",
    "plt.tight_layout()\n",
    "plt.show()"
   ]
  },
  {
   "cell_type": "code",
   "execution_count": 61,
   "id": "2d85024d",
   "metadata": {},
   "outputs": [],
   "source": [
    "#создадим датафреймы по сегментам пользователей (по среднемку количеству билетов в запасе)\n",
    "seg_1_2 = profiles[(profiles['avg_tickets_cnt'] >= 1) & (profiles['avg_tickets_cnt'] < 2)]\n",
    "seg_2_3 = profiles[(profiles['avg_tickets_cnt'] >= 2) & (profiles['avg_tickets_cnt'] < 3)]\n",
    "seg_3_5 = profiles[(profiles['avg_tickets_cnt'] >= 3) & (profiles['avg_tickets_cnt'] < 5)]\n",
    "seg_5_plus = profiles[profiles['avg_tickets_cnt'] >= 5]"
   ]
  },
  {
   "cell_type": "code",
   "execution_count": 62,
   "id": "14876f5b",
   "metadata": {},
   "outputs": [
    {
     "name": "stdout",
     "output_type": "stream",
     "text": [
      "Общее число пользователей 1-2 билета в заказе 2410\n",
      "Доля пользователей с повторными заказами (1-2 билета в заказе) 0.5124481327800829\n",
      "\n",
      "Общее число пользователей 2-3 билета в заказе 9695\n",
      "Доля пользователей с повторными заказами (2-3 билета в заказе) 0.7413099535843218\n",
      "\n",
      "Общее число пользователей 3-5 билета в заказе 9072\n",
      "Доля пользователей с повторными заказами (3-5 билета в заказе) 0.5433201058201058\n",
      "\n",
      "Общее число пользователей более 5 билета в заказе 661\n",
      "Доля пользователей с повторными заказами (более 5 билета в заказе) 0.1875945537065053\n",
      "\n"
     ]
    }
   ],
   "source": [
    "#Посчитаем общее число пользователей и долю  пользователей совершивших повторные заказы.\n",
    "print('Общее число пользователей 1-2 билета в заказе', seg_1_2['user_id'].nunique())\n",
    "print('Доля пользователей с повторными заказами (1-2 билета в заказе)', seg_1_2['is_two'].mean())\n",
    "print()\n",
    "print('Общее число пользователей 2-3 билета в заказе', seg_2_3['user_id'].nunique())\n",
    "print('Доля пользователей с повторными заказами (2-3 билета в заказе)', seg_2_3['is_two'].mean())\n",
    "print()\n",
    "print('Общее число пользователей 3-5 билета в заказе', seg_3_5['user_id'].nunique())\n",
    "print('Доля пользователей с повторными заказами (3-5 билета в заказе)', seg_3_5['is_two'].mean())\n",
    "print()\n",
    "print('Общее число пользователей более 5 билета в заказе', seg_5_plus['user_id'].nunique())\n",
    "print('Доля пользователей с повторными заказами (более 5 билета в заказе)', seg_5_plus['is_two'].mean())\n",
    "print()"
   ]
  },
  {
   "cell_type": "markdown",
   "id": "dce45ecf",
   "metadata": {
    "id": "a6619674"
   },
   "source": [
    "**Выводы по задаче 4.2.3**\n",
    "Распределение по сегментам\n",
    "\n",
    "Всего пользователей: 21 838\n",
    "\n",
    "1–<2 билета: 2 410 → 11.0%\n",
    "\n",
    "2–<3 билета: 9 695 → 44.4%\n",
    "\n",
    "3–<5 билета: 9 072 → 41.5%\n",
    "\n",
    "5+ билетов: 661 → 3.0%\n",
    "\n",
    "Вывод: распределение сильно сконцентрировано в сегментах 2–<3 и 3–<5 (вместе ~86%). Сегмент 5+ — очень маленький (3%).\n",
    "\n",
    "Доли повторных покупок\n",
    "\n",
    "1–<2: 51.2%\n",
    "\n",
    "2–<3: 74.1% ⬆️ (самая высокая и при этом наибольший по объёму сегмент)\n",
    "\n",
    "3–<5: 54.3%\n",
    "\n",
    "5+: 18.8% ⬇️ (аномально низкая, но сегмент маленький)\n",
    "\n",
    "**Вывод**\n",
    "\n",
    "Есть сегмент с аномально высокой долей повторов — 2–<3 билета (~74%). Это не артефакт малого объёма, т.к. сегмент самый крупный.\n",
    "\n",
    "Есть сегмент с аномально низкой долей — 5+ билетов (~19%). Однако его доля всего 3%, поэтому показатель стоит интерпретировать осторожно."
   ]
  },
  {
   "cell_type": "code",
   "execution_count": null,
   "id": "ccfb7134",
   "metadata": {},
   "outputs": [],
   "source": []
  },
  {
   "cell_type": "code",
   "execution_count": null,
   "id": "644b25e4",
   "metadata": {
    "id": "c2b400f2"
   },
   "outputs": [],
   "source": []
  },
  {
   "cell_type": "code",
   "execution_count": null,
   "id": "79893f69",
   "metadata": {},
   "outputs": [],
   "source": []
  },
  {
   "cell_type": "markdown",
   "id": "417e222d",
   "metadata": {
    "id": "417e222d"
   },
   "source": [
    "---\n",
    "\n",
    "#### 4.3. Исследование временных характеристик первого заказа и их влияния на повторные покупки\n",
    "\n",
    "Изучите временные параметры, связанные с первым заказом пользователей:\n",
    "\n",
    "- день недели первой покупки;\n",
    "- время с момента первой покупки — лайфтайм;\n",
    "- средний интервал между покупками пользователей с повторными заказами.\n",
    "\n",
    "---\n",
    "\n",
    "**Задача 4.3.1.** Проанализируйте, как день недели, в которой была совершена первая покупка, влияет на поведение пользователей.\n",
    "\n",
    "- По данным даты первого заказа выделите день недели.\n",
    "- Для каждого дня недели подсчитайте общее число пользователей и долю пользователей, совершивших повторные заказы. Результаты визуализируйте.\n",
    "- Ответьте на вопрос: влияет ли день недели, в которую совершена первая покупка, на вероятность возврата клиента?\n",
    "\n",
    "---\n"
   ]
  },
  {
   "cell_type": "code",
   "execution_count": 63,
   "id": "1709f7ff",
   "metadata": {
    "id": "1709f7ff"
   },
   "outputs": [
    {
     "data": {
      "text/html": [
       "<div>\n",
       "<style scoped>\n",
       "    .dataframe tbody tr th:only-of-type {\n",
       "        vertical-align: middle;\n",
       "    }\n",
       "\n",
       "    .dataframe tbody tr th {\n",
       "        vertical-align: top;\n",
       "    }\n",
       "\n",
       "    .dataframe thead th {\n",
       "        text-align: right;\n",
       "    }\n",
       "</style>\n",
       "<table border=\"1\" class=\"dataframe\">\n",
       "  <thead>\n",
       "    <tr style=\"text-align: right;\">\n",
       "      <th></th>\n",
       "      <th>user_id</th>\n",
       "      <th>first_order_dt</th>\n",
       "      <th>last_order_dt</th>\n",
       "      <th>first_device</th>\n",
       "      <th>first_region</th>\n",
       "      <th>first_service</th>\n",
       "      <th>first_event_type</th>\n",
       "      <th>total_orders</th>\n",
       "      <th>avg_revenue_rub</th>\n",
       "      <th>avg_tickets_cnt</th>\n",
       "      <th>mean_days_between</th>\n",
       "      <th>is_two</th>\n",
       "      <th>is_five</th>\n",
       "      <th>weekday</th>\n",
       "    </tr>\n",
       "  </thead>\n",
       "  <tbody>\n",
       "    <tr>\n",
       "      <th>0</th>\n",
       "      <td>0002849b70a3ce2</td>\n",
       "      <td>2024-08-20</td>\n",
       "      <td>2024-08-20</td>\n",
       "      <td>mobile</td>\n",
       "      <td>каменевский регион</td>\n",
       "      <td>край билетов</td>\n",
       "      <td>театр</td>\n",
       "      <td>1</td>\n",
       "      <td>1521.940000</td>\n",
       "      <td>4.000000</td>\n",
       "      <td>NaN</td>\n",
       "      <td>0</td>\n",
       "      <td>0</td>\n",
       "      <td>Tuesday</td>\n",
       "    </tr>\n",
       "    <tr>\n",
       "      <th>1</th>\n",
       "      <td>0005ca5e93f2cf4</td>\n",
       "      <td>2024-07-23</td>\n",
       "      <td>2024-10-06</td>\n",
       "      <td>mobile</td>\n",
       "      <td>каменевский регион</td>\n",
       "      <td>мой билет</td>\n",
       "      <td>выставки</td>\n",
       "      <td>2</td>\n",
       "      <td>774.010000</td>\n",
       "      <td>3.000000</td>\n",
       "      <td>75.0</td>\n",
       "      <td>1</td>\n",
       "      <td>0</td>\n",
       "      <td>Tuesday</td>\n",
       "    </tr>\n",
       "    <tr>\n",
       "      <th>2</th>\n",
       "      <td>000898990054619</td>\n",
       "      <td>2024-07-13</td>\n",
       "      <td>2024-10-23</td>\n",
       "      <td>mobile</td>\n",
       "      <td>североярская область</td>\n",
       "      <td>лови билет!</td>\n",
       "      <td>другое</td>\n",
       "      <td>3</td>\n",
       "      <td>767.213333</td>\n",
       "      <td>2.666667</td>\n",
       "      <td>51.0</td>\n",
       "      <td>1</td>\n",
       "      <td>0</td>\n",
       "      <td>Saturday</td>\n",
       "    </tr>\n",
       "    <tr>\n",
       "      <th>3</th>\n",
       "      <td>00096d1f542ab2b</td>\n",
       "      <td>2024-08-15</td>\n",
       "      <td>2024-08-15</td>\n",
       "      <td>desktop</td>\n",
       "      <td>каменевский регион</td>\n",
       "      <td>край билетов</td>\n",
       "      <td>театр</td>\n",
       "      <td>1</td>\n",
       "      <td>917.830000</td>\n",
       "      <td>4.000000</td>\n",
       "      <td>NaN</td>\n",
       "      <td>0</td>\n",
       "      <td>0</td>\n",
       "      <td>Thursday</td>\n",
       "    </tr>\n",
       "    <tr>\n",
       "      <th>4</th>\n",
       "      <td>000a55a418c128c</td>\n",
       "      <td>2024-09-29</td>\n",
       "      <td>2024-10-15</td>\n",
       "      <td>mobile</td>\n",
       "      <td>поленовский край</td>\n",
       "      <td>лучшие билеты</td>\n",
       "      <td>театр</td>\n",
       "      <td>2</td>\n",
       "      <td>61.310000</td>\n",
       "      <td>1.500000</td>\n",
       "      <td>16.0</td>\n",
       "      <td>1</td>\n",
       "      <td>0</td>\n",
       "      <td>Sunday</td>\n",
       "    </tr>\n",
       "  </tbody>\n",
       "</table>\n",
       "</div>"
      ],
      "text/plain": [
       "           user_id first_order_dt last_order_dt first_device  \\\n",
       "0  0002849b70a3ce2     2024-08-20    2024-08-20       mobile   \n",
       "1  0005ca5e93f2cf4     2024-07-23    2024-10-06       mobile   \n",
       "2  000898990054619     2024-07-13    2024-10-23       mobile   \n",
       "3  00096d1f542ab2b     2024-08-15    2024-08-15      desktop   \n",
       "4  000a55a418c128c     2024-09-29    2024-10-15       mobile   \n",
       "\n",
       "           first_region  first_service first_event_type  total_orders  \\\n",
       "0    каменевский регион   край билетов            театр             1   \n",
       "1    каменевский регион      мой билет         выставки             2   \n",
       "2  североярская область    лови билет!           другое             3   \n",
       "3    каменевский регион   край билетов            театр             1   \n",
       "4      поленовский край  лучшие билеты            театр             2   \n",
       "\n",
       "   avg_revenue_rub  avg_tickets_cnt  mean_days_between  is_two  is_five  \\\n",
       "0      1521.940000         4.000000                NaN       0        0   \n",
       "1       774.010000         3.000000               75.0       1        0   \n",
       "2       767.213333         2.666667               51.0       1        0   \n",
       "3       917.830000         4.000000                NaN       0        0   \n",
       "4        61.310000         1.500000               16.0       1        0   \n",
       "\n",
       "    weekday  \n",
       "0   Tuesday  \n",
       "1   Tuesday  \n",
       "2  Saturday  \n",
       "3  Thursday  \n",
       "4    Sunday  "
      ]
     },
     "execution_count": 63,
     "metadata": {},
     "output_type": "execute_result"
    }
   ],
   "source": [
    "#создадим новый столбец с днем недели первого заказа\n",
    "profiles['first_order_dt'] = pd.to_datetime(profiles['first_order_dt'], errors='coerce')\n",
    "profiles['weekday'] = profiles['first_order_dt'].dt.day_name()\n",
    "profiles.head()"
   ]
  },
  {
   "cell_type": "code",
   "execution_count": 64,
   "id": "dde04153",
   "metadata": {},
   "outputs": [
    {
     "data": {
      "text/plain": [
       "Saturday     3456\n",
       "Friday       3258\n",
       "Tuesday      3188\n",
       "Thursday     3119\n",
       "Wednesday    3076\n",
       "Monday       2931\n",
       "Sunday       2810\n",
       "Name: weekday, dtype: int64"
      ]
     },
     "execution_count": 64,
     "metadata": {},
     "output_type": "execute_result"
    }
   ],
   "source": [
    "#Посчитаем и визуализируем для каждого дня недели общее число пользователей и долю пользователей, совершивших повторные заказы.\n",
    "profiles['weekday'].value_counts()"
   ]
  },
  {
   "cell_type": "code",
   "execution_count": 65,
   "id": "6f67891c",
   "metadata": {},
   "outputs": [
    {
     "data": {
      "text/plain": [
       "Saturday     0.158256\n",
       "Friday       0.149189\n",
       "Tuesday      0.145984\n",
       "Thursday     0.142824\n",
       "Wednesday    0.140855\n",
       "Monday       0.134216\n",
       "Sunday       0.128675\n",
       "Name: weekday, dtype: float64"
      ]
     },
     "execution_count": 65,
     "metadata": {},
     "output_type": "execute_result"
    }
   ],
   "source": [
    "profiles['weekday'].value_counts(normalize=True)"
   ]
  },
  {
   "cell_type": "code",
   "execution_count": 66,
   "id": "d7ea10ee",
   "metadata": {
    "id": "d7ea10ee"
   },
   "outputs": [
    {
     "data": {
      "image/png": "[encoded data removed]",
      "text/plain": [
       "<Figure size 432x288 with 1 Axes>"
      ]
     },
     "metadata": {
      "needs_background": "light"
     },
     "output_type": "display_data"
    }
   ],
   "source": [
    "#Построим гистограмму дней недели первого заказа\n",
    "plt.figure()\n",
    "profiles['weekday'].value_counts().plot(kind='bar', alpha=0.85)\n",
    "plt.title('Распределение weekday')\n",
    "plt.xlabel('weekday'); plt.ylabel('частота'); plt.tight_layout()"
   ]
  },
  {
   "cell_type": "markdown",
   "id": "af72ee36",
   "metadata": {
    "id": "cc5ac042"
   },
   "source": [
    "**Выводы по задаче 4.3.1**\n",
    "Анализ показал что существует определенная зависимость между датой первого заказа и днем недели, так наибольшее число заказов (3456) произошло в воскресенье, а наименьшее число заказов (2810) - в воскресенье"
   ]
  },
  {
   "cell_type": "code",
   "execution_count": null,
   "id": "899cd5d6",
   "metadata": {},
   "outputs": [],
   "source": []
  },
  {
   "cell_type": "code",
   "execution_count": null,
   "id": "c3e2af01",
   "metadata": {},
   "outputs": [],
   "source": []
  },
  {
   "cell_type": "code",
   "execution_count": null,
   "id": "f7967a62",
   "metadata": {},
   "outputs": [],
   "source": []
  },
  {
   "cell_type": "markdown",
   "id": "71d4e4b4",
   "metadata": {
    "id": "71d4e4b4"
   },
   "source": [
    "---\n",
    "\n",
    "**Задача 4.3.2.** Изучите, как средний интервал между заказами влияет на удержание клиентов.\n",
    "\n",
    "- Рассчитайте среднее время между заказами для двух групп пользователей:\n",
    "    - совершившие 2–4 заказа;\n",
    "    - совершившие 5 и более заказов.\n",
    "- Исследуйте, как средний интервал между заказами влияет на вероятность повторного заказа, и сделайте выводы.\n",
    "\n",
    "---\n"
   ]
  },
  {
   "cell_type": "code",
   "execution_count": 67,
   "id": "bc39c3f8",
   "metadata": {
    "id": "bc39c3f8"
   },
   "outputs": [],
   "source": [
    "#создадим датафреймы по сегментам пользователей (по количеству заказов)\n",
    "profiles['first_order_dt'] = pd.to_datetime(profiles['first_order_dt'], errors='coerce')\n",
    "profiles['last_order_dt'] = pd.to_datetime(profiles['last_order_dt'], errors='coerce')\n",
    "seg_orders_2_4 = profiles[(profiles['total_orders'] >= 2) & (profiles['total_orders'] <= 4)]\n",
    "seg_orders_5_plus = profiles[profiles['total_orders'] >= 5]"
   ]
  },
  {
   "cell_type": "code",
   "execution_count": 68,
   "id": "ceca9898",
   "metadata": {
    "id": "ceca9898"
   },
   "outputs": [],
   "source": [
    "# сегменты\n",
    "seg_orders_2_4 = profiles[(profiles['total_orders'] >= 2) & (profiles['total_orders'] <= 4)].copy()\n",
    "seg_orders_5_plus = profiles[profiles['total_orders'] >= 5].copy()\n",
    "\n",
    "seg_orders_2_4['avg_time_between_orders'] = (\n",
    "    (seg_orders_2_4['last_order_dt'] - seg_orders_2_4['first_order_dt'])\n",
    "    / (seg_orders_2_4['total_orders'] - 1)\n",
    ").dt.days\n",
    "\n",
    "seg_orders_5_plus['avg_time_between_orders'] = (\n",
    "    (seg_orders_5_plus['last_order_dt'] - seg_orders_5_plus['first_order_dt'])\n",
    "    / (seg_orders_5_plus['total_orders'] - 1)\n",
    ").dt.days"
   ]
  },
  {
   "cell_type": "code",
   "execution_count": 69,
   "id": "c2c78af0",
   "metadata": {},
   "outputs": [
    {
     "name": "stdout",
     "output_type": "stream",
     "text": [
      "21.33039339213216\n",
      "9.236102337334176\n"
     ]
    }
   ],
   "source": [
    "#посчитаем среднией avg_time_between_orders для обоих сегментов\n",
    "print(seg_orders_2_4['avg_time_between_orders'].mean())\n",
    "print(seg_orders_5_plus['avg_time_between_orders'].mean())"
   ]
  },
  {
   "cell_type": "markdown",
   "id": "38206988",
   "metadata": {},
   "source": [
    "**Выводы по задаче 4.3.2**\n",
    "Среднее время междя заказами для обоих сегментов существенно различается: пользователи с 2-4 заказами в среднем имеют 21 день между заказами, а пользователи с 5+ заказов - всего 9"
   ]
  },
  {
   "cell_type": "code",
   "execution_count": null,
   "id": "e3a1a0e1",
   "metadata": {},
   "outputs": [],
   "source": []
  },
  {
   "cell_type": "code",
   "execution_count": null,
   "id": "0c897198",
   "metadata": {},
   "outputs": [],
   "source": []
  },
  {
   "cell_type": "code",
   "execution_count": null,
   "id": "f1471104",
   "metadata": {
    "id": "f1471104"
   },
   "outputs": [],
   "source": []
  },
  {
   "cell_type": "markdown",
   "id": "eb26eac5",
   "metadata": {
    "id": "eb26eac5"
   },
   "source": [
    "---\n",
    "\n",
    "#### 4.4. Корреляционный анализ количества покупок и признаков пользователя\n",
    "\n",
    "Изучите, какие характеристики первого заказа и профиля пользователя могут быть связаны с числом покупок. Для этого используйте универсальный коэффициент корреляции `phi_k`, который позволяет анализировать как числовые, так и категориальные признаки.\n",
    "\n",
    "---\n",
    "\n",
    "**Задача 4.4.1:** Проведите корреляционный анализ:\n",
    "- Рассчитайте коэффициент корреляции `phi_k` между признаками профиля пользователя и числом заказов (`total_orders`). При необходимости используйте параметр `interval_cols` для определения интервальных данных.\n",
    "- Проанализируйте полученные результаты. Если полученные значения будут близки к нулю, проверьте разброс данных в `total_orders`. Такое возможно, когда в данных преобладает одно значение: в таком случае корреляционный анализ может показать отсутствие связей. Чтобы этого избежать, выделите сегменты пользователей по полю `total_orders`, а затем повторите корреляционный анализ. Выделите такие сегменты:\n",
    "    - 1 заказ;\n",
    "    - от 2 до 4 заказов;\n",
    "    - от 5 и выше.\n",
    "- Визуализируйте результат корреляции с помощью тепловой карты.\n",
    "- Ответьте на вопрос: какие признаки наиболее связаны с количеством заказов?\n",
    "\n",
    "---"
   ]
  },
  {
   "cell_type": "code",
   "execution_count": 70,
   "id": "d2ca7ee0",
   "metadata": {
    "id": "d2ca7ee0"
   },
   "outputs": [
    {
     "name": "stdout",
     "output_type": "stream",
     "text": [
      "interval columns not set, guessing: ['total_orders', 'avg_revenue_rub', 'avg_tickets_cnt']\n",
      "Корреляционная матрица с коэффициентом phi_k для переменной total_orders\n"
     ]
    },
    {
     "data": {
      "text/html": [
       "<div>\n",
       "<style scoped>\n",
       "    .dataframe tbody tr th:only-of-type {\n",
       "        vertical-align: middle;\n",
       "    }\n",
       "\n",
       "    .dataframe tbody tr th {\n",
       "        vertical-align: top;\n",
       "    }\n",
       "\n",
       "    .dataframe thead th {\n",
       "        text-align: right;\n",
       "    }\n",
       "</style>\n",
       "<table border=\"1\" class=\"dataframe\">\n",
       "  <thead>\n",
       "    <tr style=\"text-align: right;\">\n",
       "      <th></th>\n",
       "      <th>total_orders</th>\n",
       "    </tr>\n",
       "  </thead>\n",
       "  <tbody>\n",
       "    <tr>\n",
       "      <th>first_order_dt</th>\n",
       "      <td>0.156649</td>\n",
       "    </tr>\n",
       "    <tr>\n",
       "      <th>first_region</th>\n",
       "      <td>0.128413</td>\n",
       "    </tr>\n",
       "    <tr>\n",
       "      <th>first_service</th>\n",
       "      <td>0.101877</td>\n",
       "    </tr>\n",
       "    <tr>\n",
       "      <th>last_order_dt</th>\n",
       "      <td>0.000000</td>\n",
       "    </tr>\n",
       "    <tr>\n",
       "      <th>first_device</th>\n",
       "      <td>0.000000</td>\n",
       "    </tr>\n",
       "    <tr>\n",
       "      <th>first_event_type</th>\n",
       "      <td>0.000000</td>\n",
       "    </tr>\n",
       "    <tr>\n",
       "      <th>avg_revenue_rub</th>\n",
       "      <td>0.000000</td>\n",
       "    </tr>\n",
       "    <tr>\n",
       "      <th>avg_tickets_cnt</th>\n",
       "      <td>0.000000</td>\n",
       "    </tr>\n",
       "  </tbody>\n",
       "</table>\n",
       "</div>"
      ],
      "text/plain": [
       "                  total_orders\n",
       "first_order_dt        0.156649\n",
       "first_region          0.128413\n",
       "first_service         0.101877\n",
       "last_order_dt         0.000000\n",
       "first_device          0.000000\n",
       "first_event_type      0.000000\n",
       "avg_revenue_rub       0.000000\n",
       "avg_tickets_cnt       0.000000"
      ]
     },
     "execution_count": 70,
     "metadata": {},
     "output_type": "execute_result"
    }
   ],
   "source": [
    "# Вычисляем корреляционную матрицу с использованием phi_k\n",
    "correlation_matrix = profiles[['first_order_dt', 'last_order_dt', 'first_device','first_region', 'first_service', 'first_event_type', 'total_orders',\n",
    "       'avg_revenue_rub','avg_tickets_cnt']].phik_matrix()\n",
    "\n",
    "# Выводим результат\n",
    "print('Корреляционная матрица с коэффициентом phi_k для переменной total_orders')\n",
    "correlation_matrix.loc[correlation_matrix.index != 'total_orders'][['total_orders']].sort_values(by='total_orders', ascending=False)"
   ]
  },
  {
   "cell_type": "code",
   "execution_count": 71,
   "id": "8b473f3d",
   "metadata": {},
   "outputs": [
    {
     "data": {
      "image/png": "[encoded data removed]",
      "text/plain": [
       "<Figure size 432x288 with 1 Axes>"
      ]
     },
     "metadata": {
      "needs_background": "light"
     },
     "output_type": "display_data"
    }
   ],
   "source": [
    "#Как и было написано в задании - корреляция слабая, возможная причина в особенностях распределения значений в total_orders\n",
    "\n",
    "#Построим boxplot для total orders\n",
    "sns.boxplot(\n",
    "    data=profiles['total_orders'],\n",
    "    palette='pastel'\n",
    ")\n",
    "\n",
    "plt.title('Распределение total_orders')\n",
    "plt.xlabel('Группа пользователей')\n",
    "plt.ylabel('Total_orders')\n",
    "plt.tight_layout()\n",
    "plt.show()\n"
   ]
  },
  {
   "cell_type": "code",
   "execution_count": 72,
   "id": "7f82c517",
   "metadata": {},
   "outputs": [
    {
     "data": {
      "text/plain": [
       "count    21838.000000\n",
       "mean        13.160775\n",
       "std        121.577370\n",
       "min          1.000000\n",
       "25%          1.000000\n",
       "50%          2.000000\n",
       "75%          5.000000\n",
       "max      10168.000000\n",
       "Name: total_orders, dtype: float64"
      ]
     },
     "execution_count": 72,
     "metadata": {},
     "output_type": "execute_result"
    }
   ],
   "source": [
    "#Изучим статистику по total_orders\n",
    "profiles['total_orders'].describe()"
   ]
  },
  {
   "cell_type": "markdown",
   "id": "086b997f",
   "metadata": {},
   "source": [
    "Очень неравномерная выборка сильно искажает корреляцию"
   ]
  },
  {
   "cell_type": "code",
   "execution_count": 76,
   "id": "749a71cb",
   "metadata": {},
   "outputs": [
    {
     "name": "stdout",
     "output_type": "stream",
     "text": [
      "Сегмент: 1 заказ\n"
     ]
    },
    {
     "name": "stderr",
     "output_type": "stream",
     "text": [
      "/opt/conda/lib/python3.9/site-packages/phik/data_quality.py:72: UserWarning: Not enough unique value for variable total_orders for analysis 1. Dropping this column\n",
      "  warnings.warn(\n"
     ]
    },
    {
     "name": "stdout",
     "output_type": "stream",
     "text": [
      "⚠️ Нет разброса в total_orders (все = 1), корреляция не рассчитывается.\n",
      "\n",
      "Сегмент: 2–4 заказа\n"
     ]
    },
    {
     "data": {
      "text/html": [
       "<div>\n",
       "<style scoped>\n",
       "    .dataframe tbody tr th:only-of-type {\n",
       "        vertical-align: middle;\n",
       "    }\n",
       "\n",
       "    .dataframe tbody tr th {\n",
       "        vertical-align: top;\n",
       "    }\n",
       "\n",
       "    .dataframe thead th {\n",
       "        text-align: right;\n",
       "    }\n",
       "</style>\n",
       "<table border=\"1\" class=\"dataframe\">\n",
       "  <thead>\n",
       "    <tr style=\"text-align: right;\">\n",
       "      <th></th>\n",
       "      <th>total_orders</th>\n",
       "    </tr>\n",
       "  </thead>\n",
       "  <tbody>\n",
       "    <tr>\n",
       "      <th>total_orders</th>\n",
       "      <td>1.000000</td>\n",
       "    </tr>\n",
       "    <tr>\n",
       "      <th>avg_tickets_cnt</th>\n",
       "      <td>0.369235</td>\n",
       "    </tr>\n",
       "    <tr>\n",
       "      <th>first_order_dt</th>\n",
       "      <td>0.150883</td>\n",
       "    </tr>\n",
       "    <tr>\n",
       "      <th>last_order_dt</th>\n",
       "      <td>0.137948</td>\n",
       "    </tr>\n",
       "    <tr>\n",
       "      <th>avg_revenue_rub</th>\n",
       "      <td>0.108652</td>\n",
       "    </tr>\n",
       "    <tr>\n",
       "      <th>first_service</th>\n",
       "      <td>0.062915</td>\n",
       "    </tr>\n",
       "    <tr>\n",
       "      <th>first_device</th>\n",
       "      <td>0.009511</td>\n",
       "    </tr>\n",
       "    <tr>\n",
       "      <th>first_region</th>\n",
       "      <td>0.000000</td>\n",
       "    </tr>\n",
       "    <tr>\n",
       "      <th>first_event_type</th>\n",
       "      <td>0.000000</td>\n",
       "    </tr>\n",
       "  </tbody>\n",
       "</table>\n",
       "</div>"
      ],
      "text/plain": [
       "                  total_orders\n",
       "total_orders          1.000000\n",
       "avg_tickets_cnt       0.369235\n",
       "first_order_dt        0.150883\n",
       "last_order_dt         0.137948\n",
       "avg_revenue_rub       0.108652\n",
       "first_service         0.062915\n",
       "first_device          0.009511\n",
       "first_region          0.000000\n",
       "first_event_type      0.000000"
      ]
     },
     "metadata": {},
     "output_type": "display_data"
    },
    {
     "name": "stdout",
     "output_type": "stream",
     "text": [
      "\n",
      "Сегмент: 5+ заказов\n"
     ]
    },
    {
     "data": {
      "text/html": [
       "<div>\n",
       "<style scoped>\n",
       "    .dataframe tbody tr th:only-of-type {\n",
       "        vertical-align: middle;\n",
       "    }\n",
       "\n",
       "    .dataframe tbody tr th {\n",
       "        vertical-align: top;\n",
       "    }\n",
       "\n",
       "    .dataframe thead th {\n",
       "        text-align: right;\n",
       "    }\n",
       "</style>\n",
       "<table border=\"1\" class=\"dataframe\">\n",
       "  <thead>\n",
       "    <tr style=\"text-align: right;\">\n",
       "      <th></th>\n",
       "      <th>total_orders</th>\n",
       "    </tr>\n",
       "  </thead>\n",
       "  <tbody>\n",
       "    <tr>\n",
       "      <th>total_orders</th>\n",
       "      <td>1.000000</td>\n",
       "    </tr>\n",
       "    <tr>\n",
       "      <th>first_region</th>\n",
       "      <td>0.282458</td>\n",
       "    </tr>\n",
       "    <tr>\n",
       "      <th>first_service</th>\n",
       "      <td>0.117371</td>\n",
       "    </tr>\n",
       "    <tr>\n",
       "      <th>first_order_dt</th>\n",
       "      <td>0.000000</td>\n",
       "    </tr>\n",
       "    <tr>\n",
       "      <th>last_order_dt</th>\n",
       "      <td>0.000000</td>\n",
       "    </tr>\n",
       "    <tr>\n",
       "      <th>first_device</th>\n",
       "      <td>0.000000</td>\n",
       "    </tr>\n",
       "    <tr>\n",
       "      <th>first_event_type</th>\n",
       "      <td>0.000000</td>\n",
       "    </tr>\n",
       "    <tr>\n",
       "      <th>avg_revenue_rub</th>\n",
       "      <td>0.000000</td>\n",
       "    </tr>\n",
       "    <tr>\n",
       "      <th>avg_tickets_cnt</th>\n",
       "      <td>0.000000</td>\n",
       "    </tr>\n",
       "  </tbody>\n",
       "</table>\n",
       "</div>"
      ],
      "text/plain": [
       "                  total_orders\n",
       "total_orders          1.000000\n",
       "first_region          0.282458\n",
       "first_service         0.117371\n",
       "first_order_dt        0.000000\n",
       "last_order_dt         0.000000\n",
       "first_device          0.000000\n",
       "first_event_type      0.000000\n",
       "avg_revenue_rub       0.000000\n",
       "avg_tickets_cnt       0.000000"
      ]
     },
     "metadata": {},
     "output_type": "display_data"
    }
   ],
   "source": [
    "# Скопируем фрейм, чтобы не испортить оригинал\n",
    "profiles_corr = profiles.copy()\n",
    "\n",
    "# Преобразуем даты в числовые значения (количество дней от минимальной даты)\n",
    "for col in ['first_order_dt', 'last_order_dt']:\n",
    "    profiles_corr[col] = (profiles_corr[col] - profiles_corr[col].min()).dt.days\n",
    "\n",
    "# Сегменты\n",
    "seg_total_orders_1 = profiles_corr[profiles_corr['total_orders'] == 1]\n",
    "seg_total_orders_2_4 = profiles_corr[(profiles_corr['total_orders'] >= 2) & (profiles_corr['total_orders'] <= 4)]\n",
    "seg_total_orders_5_plus = profiles_corr[profiles_corr['total_orders'] >= 5]\n",
    "\n",
    "# Колонки\n",
    "cols = [\n",
    "    'first_order_dt', 'last_order_dt', 'first_device',\n",
    "    'first_region', 'first_service', 'first_event_type',\n",
    "    'total_orders', 'avg_revenue_rub', 'avg_tickets_cnt'\n",
    "]\n",
    "\n",
    "interval_cols = ['total_orders', 'avg_revenue_rub', 'avg_tickets_cnt',\n",
    "                 'first_order_dt', 'last_order_dt']\n",
    "\n",
    "# Корреляции\n",
    "print('Сегмент: 1 заказ')\n",
    "corr_1 = seg_total_orders_1[cols].phik_matrix(interval_cols=interval_cols)\n",
    "if 'total_orders' in corr_1.columns:\n",
    "    display(corr_1[['total_orders']].sort_values(by='total_orders', ascending=False))\n",
    "else:\n",
    "    print('⚠️ Нет разброса в total_orders (все = 1), корреляция не рассчитывается.')\n",
    "\n",
    "print('\\nСегмент: 2–4 заказа')\n",
    "corr_2_4 = seg_total_orders_2_4[cols].phik_matrix(interval_cols=interval_cols)\n",
    "display(corr_2_4[['total_orders']].sort_values(by='total_orders', ascending=False))\n",
    "\n",
    "print('\\nСегмент: 5+ заказов')\n",
    "corr_5_plus = seg_total_orders_5_plus[cols].phik_matrix(interval_cols=interval_cols)\n",
    "display(corr_5_plus[['total_orders']].sort_values(by='total_orders', ascending=False))"
   ]
  },
  {
   "cell_type": "markdown",
   "id": "547d7ecc",
   "metadata": {},
   "source": [
    "Сегмент = 1 заказ. phik правомерно «выкинул» total_orders: в срезе нет разброса (все = 1) → корреляцию с ним посчитать нельзя.\n",
    "\n",
    "2–4 заказа. Наибольшая связь с количеством заказов даёт\n",
    "avg_tickets_cnt (≈0.37), дальше слабее — first_order_dt (≈0.15), last_order_dt (≈0.14), ещё слабее — avg_revenue_rub (≈0.11). Категориальные признаки почти не связаны.\n",
    "\n",
    "5+ заказов. Выделяется first_region (≈0.28). Остальное близко к нулю — часто так бывает из-за малого N и/или сильного перекоса распределений внутри среза."
   ]
  },
  {
   "cell_type": "code",
   "execution_count": 77,
   "id": "dc89ac0d",
   "metadata": {},
   "outputs": [
    {
     "data": {
      "image/png": "[encoded data removed]",
      "text/plain": [
       "<Figure size 504x360 with 2 Axes>"
      ]
     },
     "metadata": {
      "needs_background": "light"
     },
     "output_type": "display_data"
    },
    {
     "data": {
      "image/png": "[encoded data removed]",
      "text/plain": [
       "<Figure size 504x360 with 2 Axes>"
      ]
     },
     "metadata": {
      "needs_background": "light"
     },
     "output_type": "display_data"
    }
   ],
   "source": [
    "#построим heatmap\n",
    "from phik.report import plot_correlation_matrix\n",
    "\n",
    "plot_correlation_matrix(corr_2_4.values,    x_labels=corr_2_4.columns,    y_labels=corr_2_4.index,    vmin=0, vmax=1)\n",
    "plot_correlation_matrix(corr_5_plus.values, x_labels=corr_5_plus.columns, y_labels=corr_5_plus.index, vmin=0, vmax=1)\n"
   ]
  },
  {
   "cell_type": "code",
   "execution_count": null,
   "id": "46f27c39",
   "metadata": {},
   "outputs": [],
   "source": []
  },
  {
   "cell_type": "code",
   "execution_count": null,
   "id": "c2053802",
   "metadata": {
    "id": "c2053802"
   },
   "outputs": [],
   "source": []
  },
  {
   "cell_type": "markdown",
   "id": "e7c496e9",
   "metadata": {
    "id": "e7c496e9"
   },
   "source": [
    "### 5. Общий вывод и рекомендации\n",
    "\n",
    "В конце проекта напишите общий вывод и рекомендации: расскажите заказчику, на что нужно обратить внимание. В выводах кратко укажите:\n",
    "\n",
    "- **Информацию о данных**, с которыми вы работали, и то, как они были подготовлены: например, расскажите о фильтрации данных, переводе тенге в рубли, фильтрации выбросов.\n",
    "- **Основные результаты анализа.** Например, укажите:\n",
    "    - Сколько пользователей в выборке? Как распределены пользователи по числу заказов? Какие ещё статистические показатели вы подсчитали важным во время изучения данных?\n",
    "    - Какие признаки первого заказа связаны с возвратом пользователей?\n",
    "    - Как связаны средняя выручка и количество билетов в заказе с вероятностью повторных покупок?\n",
    "    - Какие временные характеристики влияют на удержание (день недели, интервалы между покупками)?\n",
    "    - Какие характеристики первого заказа и профиля пользователя могут быть связаны с числом покупок согласно результатам корреляционного анализа?\n",
    "- Дополните выводы информацией, которая покажется вам важной и интересной. Следите за общим объёмом выводов — они должны быть компактными и ёмкими.\n",
    "\n",
    "В конце предложите заказчику рекомендации о том, как именно действовать в его ситуации. Например, укажите, на какие сегменты пользователей стоит обратить внимание в первую очередь, а какие нуждаются в дополнительных маркетинговых усилиях."
   ]
  },
  {
   "cell_type": "markdown",
   "id": "669d1ed2",
   "metadata": {
    "id": "59be5935"
   },
   "source": [
    "**Общие выводы и рекомендации**\n",
    "\n",
    "** Данные и подготовка**\n",
    "\n",
    "Для анализа использовались данные по заказам **Яндекс.Афиши**.\n",
    "На этапе подготовки я выполнил базовую очистку:\n",
    "\n",
    "* убрал дубликаты и обработал пропуски;\n",
    "* перевёл все суммы из тенге в рубли;\n",
    "* добавил вычисляемые признаки:\n",
    "\n",
    "  * `avg_revenue_rub` — средняя выручка пользователя,\n",
    "  * `avg_tickets_cnt` — среднее количество билетов в заказе,\n",
    "  * `total_orders` — общее количество заказов,\n",
    "  * а также признаки первого заказа — тип события, устройство, регион, даты первого и последнего заказа.\n",
    "\n",
    "После подготовки данных в выборке оказалось **около 21,8 тыс. пользователей**.\n",
    "Пользователи были разделены на сегменты по количеству заказов.\n",
    "\n",
    "---\n",
    "\n",
    "**Основные результаты анализа\n",
    "\n",
    "* **Распределение заказов**: большинство пользователей сделали **только один заказ**, а доля повторных быстро снижается. Есть небольшая, но стабильная группа активных покупателей (5+ заказов).\n",
    "\n",
    "* **Связь количества билетов и повторных заказов:**\n",
    "\n",
    "  * 1–2 билета — повторных покупателей около **51%**;\n",
    "  * 2–3 билета — **самый лояльный сегмент, 74%** повторных заказов;\n",
    "  * 3–5 билетов — примерно **54%**;\n",
    "  * 5+ билетов — около **19%**, вероятно, это разовые крупные заказы.\n",
    "\n",
    "* **Тип первого события:**\n",
    "\n",
    "  * Больше всего возвращаются пользователи, начавшие с **выставок (64%)** и **театра (63%)**;\n",
    "  * Чуть ниже доля у **концертов** и **стендапа**;\n",
    "  * Минимальные показатели у **спорта** и **ёлок**.\n",
    "\n",
    "* **Корреляционный анализ:**\n",
    "\n",
    "  * Число заказов умеренно связано с количеством билетов и средней выручкой.\n",
    "  * География и тип первого сервиса начинают играть роль у пользователей с 5 и более заказами.\n",
    "  * Устройство и тип первого события показали очень слабую связь с количеством заказов.\n",
    "\n",
    "* **Временные характеристики:**\n",
    "  Пользователи, которые совершают заказы с небольшими интервалами, немного чаще возвращаются, но зависимость слабая.\n",
    "\n",
    "---\n",
    "\n",
    "**Что это значит\n",
    "\n",
    "1. Пользователи, начинающие с **2–3 билетов**, чаще всего становятся постоянными.\n",
    "2. **Крупные первые заказы (>5 билетов)** не приводят к удержанию — скорее всего, это групповые или корпоративные покупки.\n",
    "3. **Тип события** имеет значение: выставки и театр работают лучше всего, спорт и ёлки — хуже.\n",
    "4. У активных пользователей (5+ заказов) большую роль играет **регион** — есть территории с более высокой вовлечённостью.\n",
    "\n",
    "---\n",
    "\n",
    "**Рекомендации\n",
    "\n",
    "* **Фокус на сегменте 2–3 билета.**\n",
    "  Настроить коммуникации и рекомендации именно для этой группы: рассылки с подборками похожих событий, напоминания о новых мероприятиях.\n",
    "\n",
    "* **Отдельная работа с крупными заказами.**\n",
    "  Пользователям, сделавшим большие первые заказы, можно предлагать корпоративные предложения, групповые акции или программы лояльности.\n",
    "\n",
    "* **Событийная персонализация.**\n",
    "  Развивать направления **выставок** и **театра**, так как они показывают лучший возврат.\n",
    "  Для **спорта** и **ёлок** стоит продумать стимулирующие акции или дополнительные скидки.\n",
    "\n",
    "* **Учитывать время между покупками.**\n",
    "  Настроить триггеры — если пользователь не возвращается в течение определённого периода, предлагать новые события в его регионе.\n",
    "\n",
    "* **Продолжить региональный анализ.**\n",
    "  Определить регионы с высокой долей активных пользователей и сосредоточить там маркетинговые усилия.\n",
    "\n",
    "---\n",
    "\n",
    "**Итог:**\n",
    "Удержание пользователей можно улучшить за счёт персонализированных коммуникаций и фокуса на сегментах, где вероятность повторных покупок выше — особенно среди тех, кто впервые покупает **2–3 билета**.\n"
   ]
  },
  {
   "cell_type": "code",
   "execution_count": null,
   "id": "a788f8bd",
   "metadata": {
    "id": "a788f8bd"
   },
   "outputs": [],
   "source": []
  },
  {
   "cell_type": "code",
   "execution_count": null,
   "id": "8c109147",
   "metadata": {},
   "outputs": [],
   "source": []
  },
  {
   "cell_type": "code",
   "execution_count": null,
   "id": "77aa4e06",
   "metadata": {
    "id": "77aa4e06"
   },
   "outputs": [],
   "source": []
  },
  {
   "cell_type": "markdown",
   "id": "R8WPcqKyqW6Z",
   "metadata": {
    "id": "R8WPcqKyqW6Z"
   },
   "source": [
    "### 6. Финализация проекта и публикация в Git\n",
    "\n",
    "Когда вы закончите анализировать данные, оформите проект, а затем опубликуйте его.\n",
    "\n",
    "Выполните следующие действия:\n",
    "\n",
    "1. Создайте файл `.gitignore`. Добавьте в него все временные и чувствительные файлы, которые не должны попасть в репозиторий.\n",
    "2. Сформируйте файл `requirements.txt`. Зафиксируйте все библиотеки, которые вы использовали в проекте.\n",
    "3. Вынести все чувствительные данные (параметры подключения к базе) в `.env`файл.\n",
    "4. Проверьте, что проект запускается и воспроизводим.\n",
    "5. Загрузите проект в публичный репозиторий — например, на GitHub. Убедитесь, что все нужные файлы находятся в репозитории, исключая те, что в `.gitignore`. Ссылка на репозиторий понадобится для отправки проекта на проверку. Вставьте её в шаблон проекта в тетрадке Jupyter Notebook перед отправкой проекта на ревью."
   ]
  },
  {
   "cell_type": "markdown",
   "id": "xMijfOFruLHQ",
   "metadata": {
    "id": "xMijfOFruLHQ"
   },
   "source": [
    "**Ссылка на github**\n",
    "https://github.com/diomed90/yandex_afisha_analys_final_project_module_2.git"
   ]
  }
 ],
 "metadata": {
  "ExecuteTimeLog": [
   {
    "duration": 561,
    "start_time": "2025-10-19T14:54:50.582Z"
   },
   {
    "duration": 9328,
    "start_time": "2025-10-19T14:55:16.289Z"
   },
   {
    "duration": 31163,
    "start_time": "2025-10-19T14:55:33.345Z"
   },
   {
    "duration": 5,
    "start_time": "2025-10-19T14:56:04.511Z"
   },
   {
    "duration": 4,
    "start_time": "2025-10-19T14:56:28.370Z"
   },
   {
    "duration": 3,
    "start_time": "2025-10-19T14:56:28.376Z"
   },
   {
    "duration": 27988,
    "start_time": "2025-10-19T14:56:28.381Z"
   },
   {
    "duration": 570,
    "start_time": "2025-10-19T14:56:56.373Z"
   },
   {
    "duration": 9054,
    "start_time": "2025-10-19T14:56:56.945Z"
   },
   {
    "duration": 3,
    "start_time": "2025-10-19T14:57:07.035Z"
   },
   {
    "duration": 3,
    "start_time": "2025-10-19T14:57:08.540Z"
   },
   {
    "duration": 80,
    "start_time": "2025-10-19T14:57:34.933Z"
   },
   {
    "duration": 9,
    "start_time": "2025-10-19T14:57:42.256Z"
   },
   {
    "duration": 4970,
    "start_time": "2025-10-19T14:57:42.992Z"
   },
   {
    "duration": 5699,
    "start_time": "2025-10-19T14:59:59.819Z"
   },
   {
    "duration": 5,
    "start_time": "2025-10-19T15:00:28.570Z"
   },
   {
    "duration": 8,
    "start_time": "2025-10-19T15:00:29.363Z"
   },
   {
    "duration": 7045,
    "start_time": "2025-10-19T15:00:33.140Z"
   },
   {
    "duration": 276,
    "start_time": "2025-10-19T15:01:22.133Z"
   },
   {
    "duration": 25,
    "start_time": "2025-10-19T15:01:58.669Z"
   },
   {
    "duration": 83,
    "start_time": "2025-10-19T15:02:05.832Z"
   },
   {
    "duration": 19,
    "start_time": "2025-10-19T15:02:36.946Z"
   },
   {
    "duration": 17,
    "start_time": "2025-10-19T15:02:50.931Z"
   },
   {
    "duration": 12,
    "start_time": "2025-10-19T15:03:11.898Z"
   },
   {
    "duration": 4619,
    "start_time": "2025-10-19T15:09:33.789Z"
   },
   {
    "duration": 20,
    "start_time": "2025-10-19T15:17:51.228Z"
   },
   {
    "duration": 3,
    "start_time": "2025-10-19T15:18:07.492Z"
   },
   {
    "duration": 9,
    "start_time": "2025-10-19T15:18:07.499Z"
   },
   {
    "duration": 5793,
    "start_time": "2025-10-19T15:18:07.510Z"
   },
   {
    "duration": 4588,
    "start_time": "2025-10-19T15:18:13.305Z"
   },
   {
    "duration": 9220,
    "start_time": "2025-10-19T15:18:17.895Z"
   },
   {
    "duration": 4,
    "start_time": "2025-10-19T15:18:27.117Z"
   },
   {
    "duration": 5074,
    "start_time": "2025-10-19T15:18:27.123Z"
   },
   {
    "duration": 292,
    "start_time": "2025-10-19T15:18:32.199Z"
   },
   {
    "duration": 105,
    "start_time": "2025-10-19T15:18:32.494Z"
   },
   {
    "duration": 17,
    "start_time": "2025-10-19T15:18:32.602Z"
   },
   {
    "duration": 22,
    "start_time": "2025-10-19T15:18:32.621Z"
   },
   {
    "duration": 115,
    "start_time": "2025-10-19T15:22:24.109Z"
   },
   {
    "duration": 1015,
    "start_time": "2025-10-19T15:23:48.338Z"
   },
   {
    "duration": 3,
    "start_time": "2025-10-19T15:29:11.157Z"
   },
   {
    "duration": 4,
    "start_time": "2025-10-19T15:29:11.164Z"
   },
   {
    "duration": 5317,
    "start_time": "2025-10-19T15:29:11.170Z"
   },
   {
    "duration": 4031,
    "start_time": "2025-10-19T15:29:16.490Z"
   },
   {
    "duration": 8985,
    "start_time": "2025-10-19T15:29:20.523Z"
   },
   {
    "duration": 3,
    "start_time": "2025-10-19T15:29:29.510Z"
   },
   {
    "duration": 7064,
    "start_time": "2025-10-19T15:29:29.515Z"
   },
   {
    "duration": 261,
    "start_time": "2025-10-19T15:29:36.581Z"
   },
   {
    "duration": 89,
    "start_time": "2025-10-19T15:29:36.844Z"
   },
   {
    "duration": 25,
    "start_time": "2025-10-19T15:29:36.935Z"
   },
   {
    "duration": 16,
    "start_time": "2025-10-19T15:29:36.961Z"
   },
   {
    "duration": 4,
    "start_time": "2025-10-19T15:29:38.927Z"
   },
   {
    "duration": 2,
    "start_time": "2025-10-19T15:29:38.933Z"
   },
   {
    "duration": 5242,
    "start_time": "2025-10-19T15:29:38.937Z"
   },
   {
    "duration": 4085,
    "start_time": "2025-10-19T15:29:44.182Z"
   },
   {
    "duration": 264,
    "start_time": "2025-10-19T15:35:45.507Z"
   },
   {
    "duration": 160,
    "start_time": "2025-10-19T15:41:06.809Z"
   },
   {
    "duration": 219,
    "start_time": "2025-10-19T15:45:29.598Z"
   },
   {
    "duration": 49,
    "start_time": "2025-10-19T15:45:36.965Z"
   },
   {
    "duration": 148,
    "start_time": "2025-10-19T15:45:37.790Z"
   },
   {
    "duration": 1425,
    "start_time": "2025-10-19T15:46:44.438Z"
   },
   {
    "duration": 54,
    "start_time": "2025-10-19T15:47:02.189Z"
   },
   {
    "duration": 49,
    "start_time": "2025-10-19T15:48:03.738Z"
   },
   {
    "duration": 5046,
    "start_time": "2025-10-19T15:48:05.875Z"
   },
   {
    "duration": 1311,
    "start_time": "2025-10-19T15:48:11.693Z"
   },
   {
    "duration": 60,
    "start_time": "2025-10-19T15:49:05.579Z"
   },
   {
    "duration": 3895,
    "start_time": "2025-10-19T15:50:31.087Z"
   },
   {
    "duration": 21,
    "start_time": "2025-10-19T15:51:34.916Z"
   },
   {
    "duration": 19,
    "start_time": "2025-10-19T15:51:41.901Z"
   },
   {
    "duration": 5298,
    "start_time": "2025-10-19T15:51:58.152Z"
   },
   {
    "duration": 147,
    "start_time": "2025-10-19T15:53:41.485Z"
   },
   {
    "duration": 47,
    "start_time": "2025-10-19T16:35:44.601Z"
   },
   {
    "duration": 50,
    "start_time": "2025-10-19T16:35:58.358Z"
   },
   {
    "duration": 10,
    "start_time": "2025-10-19T16:36:06.773Z"
   },
   {
    "duration": 60,
    "start_time": "2025-10-19T16:37:19.492Z"
   },
   {
    "duration": 282,
    "start_time": "2025-10-19T16:43:02.789Z"
   },
   {
    "duration": 653,
    "start_time": "2025-10-19T16:44:17.620Z"
   },
   {
    "duration": 23,
    "start_time": "2025-10-19T16:46:03.703Z"
   },
   {
    "duration": 928,
    "start_time": "2025-10-19T16:49:24.128Z"
   },
   {
    "duration": 104,
    "start_time": "2025-10-19T16:53:53.805Z"
   },
   {
    "duration": 1307,
    "start_time": "2025-10-19T16:54:16.105Z"
   },
   {
    "duration": 84,
    "start_time": "2025-10-19T16:54:30.744Z"
   },
   {
    "duration": 58,
    "start_time": "2025-10-19T16:54:48.205Z"
   },
   {
    "duration": 59,
    "start_time": "2025-10-19T16:55:02.753Z"
   },
   {
    "duration": 63,
    "start_time": "2025-10-19T16:55:08.905Z"
   },
   {
    "duration": 105,
    "start_time": "2025-10-19T16:55:30.103Z"
   },
   {
    "duration": 156,
    "start_time": "2025-10-19T16:55:42.588Z"
   },
   {
    "duration": 105,
    "start_time": "2025-10-19T16:55:54.641Z"
   },
   {
    "duration": 61,
    "start_time": "2025-10-19T16:55:58.353Z"
   },
   {
    "duration": 73,
    "start_time": "2025-10-19T16:56:20.082Z"
   },
   {
    "duration": 383,
    "start_time": "2025-10-19T16:59:06.759Z"
   },
   {
    "duration": 339,
    "start_time": "2025-10-19T16:59:37.298Z"
   },
   {
    "duration": 417,
    "start_time": "2025-10-19T17:00:29.613Z"
   },
   {
    "duration": 22,
    "start_time": "2025-10-19T17:05:23.057Z"
   },
   {
    "duration": 2791,
    "start_time": "2025-10-19T17:14:16.497Z"
   },
   {
    "duration": 9310,
    "start_time": "2025-10-19T17:15:32.385Z"
   },
   {
    "duration": 703,
    "start_time": "2025-10-19T17:15:51.763Z"
   },
   {
    "duration": 6597,
    "start_time": "2025-10-19T17:16:00.768Z"
   },
   {
    "duration": 4,
    "start_time": "2025-10-20T18:04:06.288Z"
   },
   {
    "duration": 19,
    "start_time": "2025-10-20T18:04:06.299Z"
   },
   {
    "duration": 5737,
    "start_time": "2025-10-20T18:04:06.320Z"
   },
   {
    "duration": 4988,
    "start_time": "2025-10-20T18:04:12.059Z"
   },
   {
    "duration": 9989,
    "start_time": "2025-10-20T18:04:17.049Z"
   },
   {
    "duration": 3,
    "start_time": "2025-10-20T18:04:27.040Z"
   },
   {
    "duration": 1339,
    "start_time": "2025-10-20T18:04:27.045Z"
   },
   {
    "duration": 0,
    "start_time": "2025-10-20T18:04:28.387Z"
   },
   {
    "duration": 0,
    "start_time": "2025-10-20T18:04:28.388Z"
   },
   {
    "duration": 0,
    "start_time": "2025-10-20T18:04:28.389Z"
   },
   {
    "duration": 0,
    "start_time": "2025-10-20T18:04:28.391Z"
   },
   {
    "duration": 0,
    "start_time": "2025-10-20T18:04:28.392Z"
   },
   {
    "duration": 0,
    "start_time": "2025-10-20T18:04:28.393Z"
   },
   {
    "duration": 0,
    "start_time": "2025-10-20T18:04:28.394Z"
   },
   {
    "duration": 0,
    "start_time": "2025-10-20T18:04:28.395Z"
   },
   {
    "duration": 0,
    "start_time": "2025-10-20T18:04:28.396Z"
   },
   {
    "duration": 0,
    "start_time": "2025-10-20T18:04:28.397Z"
   },
   {
    "duration": 0,
    "start_time": "2025-10-20T18:04:28.398Z"
   },
   {
    "duration": 0,
    "start_time": "2025-10-20T18:04:28.399Z"
   },
   {
    "duration": 0,
    "start_time": "2025-10-20T18:04:28.400Z"
   },
   {
    "duration": 0,
    "start_time": "2025-10-20T18:04:28.401Z"
   },
   {
    "duration": 0,
    "start_time": "2025-10-20T18:04:28.402Z"
   },
   {
    "duration": 0,
    "start_time": "2025-10-20T18:04:28.404Z"
   },
   {
    "duration": 0,
    "start_time": "2025-10-20T18:04:28.405Z"
   },
   {
    "duration": 1238,
    "start_time": "2025-10-20T18:04:55.082Z"
   },
   {
    "duration": 5345,
    "start_time": "2025-10-20T18:06:14.418Z"
   },
   {
    "duration": 6,
    "start_time": "2025-10-20T18:06:20.510Z"
   },
   {
    "duration": 4,
    "start_time": "2025-10-20T18:06:23.542Z"
   },
   {
    "duration": 3,
    "start_time": "2025-10-20T18:06:43.379Z"
   },
   {
    "duration": 1248,
    "start_time": "2025-10-20T18:06:44.447Z"
   },
   {
    "duration": 9,
    "start_time": "2025-10-20T18:06:54.567Z"
   },
   {
    "duration": 3,
    "start_time": "2025-10-20T18:08:59.568Z"
   },
   {
    "duration": 4,
    "start_time": "2025-10-20T18:08:59.573Z"
   },
   {
    "duration": 5338,
    "start_time": "2025-10-20T18:08:59.579Z"
   },
   {
    "duration": 4217,
    "start_time": "2025-10-20T18:09:04.920Z"
   },
   {
    "duration": 9482,
    "start_time": "2025-10-20T18:09:09.139Z"
   },
   {
    "duration": 3,
    "start_time": "2025-10-20T18:09:18.624Z"
   },
   {
    "duration": 4,
    "start_time": "2025-10-20T18:11:12.789Z"
   },
   {
    "duration": 23,
    "start_time": "2025-10-20T18:11:12.797Z"
   },
   {
    "duration": 5468,
    "start_time": "2025-10-20T18:11:12.823Z"
   },
   {
    "duration": 4043,
    "start_time": "2025-10-20T18:11:18.293Z"
   },
   {
    "duration": 8926,
    "start_time": "2025-10-20T18:11:22.339Z"
   },
   {
    "duration": 4,
    "start_time": "2025-10-20T18:11:31.268Z"
   },
   {
    "duration": 1377,
    "start_time": "2025-10-20T18:11:31.274Z"
   },
   {
    "duration": 0,
    "start_time": "2025-10-20T18:11:32.654Z"
   },
   {
    "duration": 0,
    "start_time": "2025-10-20T18:11:32.655Z"
   },
   {
    "duration": 0,
    "start_time": "2025-10-20T18:11:32.657Z"
   },
   {
    "duration": 0,
    "start_time": "2025-10-20T18:11:32.658Z"
   },
   {
    "duration": 0,
    "start_time": "2025-10-20T18:11:32.659Z"
   },
   {
    "duration": 0,
    "start_time": "2025-10-20T18:11:32.660Z"
   },
   {
    "duration": 0,
    "start_time": "2025-10-20T18:11:32.661Z"
   },
   {
    "duration": 0,
    "start_time": "2025-10-20T18:11:32.663Z"
   },
   {
    "duration": 0,
    "start_time": "2025-10-20T18:11:32.664Z"
   },
   {
    "duration": 0,
    "start_time": "2025-10-20T18:11:32.665Z"
   },
   {
    "duration": 0,
    "start_time": "2025-10-20T18:11:32.666Z"
   },
   {
    "duration": 0,
    "start_time": "2025-10-20T18:11:32.668Z"
   },
   {
    "duration": 0,
    "start_time": "2025-10-20T18:11:32.669Z"
   },
   {
    "duration": 0,
    "start_time": "2025-10-20T18:11:32.670Z"
   },
   {
    "duration": 0,
    "start_time": "2025-10-20T18:11:32.672Z"
   },
   {
    "duration": 0,
    "start_time": "2025-10-20T18:11:32.673Z"
   },
   {
    "duration": 0,
    "start_time": "2025-10-20T18:11:32.674Z"
   },
   {
    "duration": 0,
    "start_time": "2025-10-20T18:11:32.675Z"
   },
   {
    "duration": 3,
    "start_time": "2025-10-20T18:11:33.256Z"
   },
   {
    "duration": 5461,
    "start_time": "2025-10-20T18:12:39.032Z"
   },
   {
    "duration": 6,
    "start_time": "2025-10-20T18:12:50.566Z"
   },
   {
    "duration": 4,
    "start_time": "2025-10-20T18:12:54.753Z"
   },
   {
    "duration": 5547,
    "start_time": "2025-10-20T18:16:16.971Z"
   },
   {
    "duration": 4291,
    "start_time": "2025-10-20T18:16:24.028Z"
   },
   {
    "duration": 8663,
    "start_time": "2025-10-20T18:16:31.437Z"
   },
   {
    "duration": 3,
    "start_time": "2025-10-20T18:16:40.102Z"
   },
   {
    "duration": 3,
    "start_time": "2025-10-20T18:20:27.091Z"
   },
   {
    "duration": 3,
    "start_time": "2025-10-20T18:20:27.098Z"
   },
   {
    "duration": 5341,
    "start_time": "2025-10-20T18:20:27.103Z"
   },
   {
    "duration": 4148,
    "start_time": "2025-10-20T18:20:32.446Z"
   },
   {
    "duration": 8935,
    "start_time": "2025-10-20T18:20:36.596Z"
   },
   {
    "duration": 3,
    "start_time": "2025-10-20T18:20:45.533Z"
   },
   {
    "duration": 267,
    "start_time": "2025-10-20T18:26:19.778Z"
   },
   {
    "duration": 77,
    "start_time": "2025-10-20T18:26:20.046Z"
   },
   {
    "duration": 28,
    "start_time": "2025-10-20T18:26:20.125Z"
   },
   {
    "duration": 51,
    "start_time": "2025-10-20T18:26:20.155Z"
   },
   {
    "duration": 1042,
    "start_time": "2025-10-20T18:26:20.208Z"
   },
   {
    "duration": 60,
    "start_time": "2025-10-20T18:26:21.251Z"
   },
   {
    "duration": 177,
    "start_time": "2025-10-20T18:26:21.313Z"
   },
   {
    "duration": 0,
    "start_time": "2025-10-20T18:26:21.492Z"
   },
   {
    "duration": 0,
    "start_time": "2025-10-20T18:26:21.493Z"
   },
   {
    "duration": 0,
    "start_time": "2025-10-20T18:26:21.494Z"
   },
   {
    "duration": 0,
    "start_time": "2025-10-20T18:26:21.495Z"
   },
   {
    "duration": 0,
    "start_time": "2025-10-20T18:26:21.496Z"
   },
   {
    "duration": 0,
    "start_time": "2025-10-20T18:26:21.497Z"
   },
   {
    "duration": 0,
    "start_time": "2025-10-20T18:26:21.499Z"
   },
   {
    "duration": 0,
    "start_time": "2025-10-20T18:26:21.500Z"
   },
   {
    "duration": 0,
    "start_time": "2025-10-20T18:26:21.501Z"
   },
   {
    "duration": 0,
    "start_time": "2025-10-20T18:26:21.502Z"
   },
   {
    "duration": 0,
    "start_time": "2025-10-20T18:26:21.503Z"
   },
   {
    "duration": 4,
    "start_time": "2025-10-20T18:28:08.289Z"
   },
   {
    "duration": 25,
    "start_time": "2025-10-20T18:28:08.294Z"
   },
   {
    "duration": 5337,
    "start_time": "2025-10-20T18:28:08.321Z"
   },
   {
    "duration": 4172,
    "start_time": "2025-10-20T18:28:13.661Z"
   },
   {
    "duration": 8782,
    "start_time": "2025-10-20T18:28:17.835Z"
   },
   {
    "duration": 4,
    "start_time": "2025-10-20T18:28:26.619Z"
   },
   {
    "duration": 53,
    "start_time": "2025-10-20T18:30:06.114Z"
   },
   {
    "duration": 6,
    "start_time": "2025-10-20T18:30:09.239Z"
   },
   {
    "duration": 5250,
    "start_time": "2025-10-20T18:30:18.401Z"
   },
   {
    "duration": 4114,
    "start_time": "2025-10-20T18:30:23.654Z"
   },
   {
    "duration": 9424,
    "start_time": "2025-10-20T18:30:31.898Z"
   },
   {
    "duration": 3,
    "start_time": "2025-10-20T18:30:41.324Z"
   },
   {
    "duration": 1310,
    "start_time": "2025-10-20T18:30:41.328Z"
   },
   {
    "duration": 3,
    "start_time": "2025-10-20T18:57:15.538Z"
   },
   {
    "duration": 10,
    "start_time": "2025-10-20T18:57:15.543Z"
   },
   {
    "duration": 5388,
    "start_time": "2025-10-20T18:57:15.555Z"
   },
   {
    "duration": 4106,
    "start_time": "2025-10-20T18:57:20.945Z"
   },
   {
    "duration": 9320,
    "start_time": "2025-10-20T18:57:25.053Z"
   },
   {
    "duration": 3,
    "start_time": "2025-10-20T18:57:34.375Z"
   },
   {
    "duration": 261,
    "start_time": "2025-10-20T18:57:39.525Z"
   },
   {
    "duration": 96,
    "start_time": "2025-10-20T18:57:39.788Z"
   },
   {
    "duration": 17,
    "start_time": "2025-10-20T18:57:39.886Z"
   },
   {
    "duration": 17,
    "start_time": "2025-10-20T18:57:39.905Z"
   },
   {
    "duration": 1018,
    "start_time": "2025-10-20T18:57:39.941Z"
   },
   {
    "duration": 60,
    "start_time": "2025-10-20T18:57:40.962Z"
   },
   {
    "duration": 173,
    "start_time": "2025-10-20T18:57:41.024Z"
   },
   {
    "duration": 0,
    "start_time": "2025-10-20T18:57:41.199Z"
   },
   {
    "duration": 0,
    "start_time": "2025-10-20T18:57:41.201Z"
   },
   {
    "duration": 0,
    "start_time": "2025-10-20T18:57:41.202Z"
   },
   {
    "duration": 0,
    "start_time": "2025-10-20T18:57:41.203Z"
   },
   {
    "duration": 0,
    "start_time": "2025-10-20T18:57:41.204Z"
   },
   {
    "duration": 0,
    "start_time": "2025-10-20T18:57:41.205Z"
   },
   {
    "duration": 0,
    "start_time": "2025-10-20T18:57:41.207Z"
   },
   {
    "duration": 0,
    "start_time": "2025-10-20T18:57:41.208Z"
   },
   {
    "duration": 0,
    "start_time": "2025-10-20T18:57:41.209Z"
   },
   {
    "duration": 0,
    "start_time": "2025-10-20T18:57:41.210Z"
   },
   {
    "duration": 0,
    "start_time": "2025-10-20T18:57:41.211Z"
   },
   {
    "duration": 4764,
    "start_time": "2025-10-20T18:59:11.135Z"
   },
   {
    "duration": 272,
    "start_time": "2025-10-20T18:59:17.806Z"
   },
   {
    "duration": 58,
    "start_time": "2025-10-20T19:02:20.564Z"
   },
   {
    "duration": 4926,
    "start_time": "2025-10-20T19:02:24.580Z"
   },
   {
    "duration": 139,
    "start_time": "2025-10-20T19:02:29.508Z"
   },
   {
    "duration": 287,
    "start_time": "2025-10-20T19:02:38.897Z"
   },
   {
    "duration": 678,
    "start_time": "2025-10-20T19:02:42.738Z"
   },
   {
    "duration": 21,
    "start_time": "2025-10-20T19:02:45.359Z"
   },
   {
    "duration": 122,
    "start_time": "2025-10-20T19:02:48.599Z"
   },
   {
    "duration": 91,
    "start_time": "2025-10-20T19:02:49.712Z"
   },
   {
    "duration": 102,
    "start_time": "2025-10-20T19:02:51.929Z"
   },
   {
    "duration": 8214,
    "start_time": "2025-10-20T19:02:53.755Z"
   },
   {
    "duration": 758,
    "start_time": "2025-10-20T19:03:07.633Z"
   },
   {
    "duration": 7817,
    "start_time": "2025-10-20T19:03:26.607Z"
   },
   {
    "duration": 3,
    "start_time": "2025-10-21T07:40:29.193Z"
   },
   {
    "duration": 4,
    "start_time": "2025-10-21T07:40:29.200Z"
   },
   {
    "duration": 5362,
    "start_time": "2025-10-21T07:40:29.206Z"
   },
   {
    "duration": 4806,
    "start_time": "2025-10-21T07:40:34.570Z"
   },
   {
    "duration": 7064,
    "start_time": "2025-10-21T07:40:39.377Z"
   },
   {
    "duration": 3,
    "start_time": "2025-10-21T07:40:46.443Z"
   },
   {
    "duration": 4546,
    "start_time": "2025-10-21T07:40:46.447Z"
   },
   {
    "duration": 262,
    "start_time": "2025-10-21T07:40:50.995Z"
   },
   {
    "duration": 75,
    "start_time": "2025-10-21T07:40:51.259Z"
   },
   {
    "duration": 30,
    "start_time": "2025-10-21T07:40:51.336Z"
   },
   {
    "duration": 28,
    "start_time": "2025-10-21T07:40:51.368Z"
   },
   {
    "duration": 1012,
    "start_time": "2025-10-21T07:40:51.399Z"
   },
   {
    "duration": 61,
    "start_time": "2025-10-21T07:40:52.412Z"
   },
   {
    "duration": 85,
    "start_time": "2025-10-21T07:40:52.475Z"
   },
   {
    "duration": 4795,
    "start_time": "2025-10-21T07:40:52.562Z"
   },
   {
    "duration": 125,
    "start_time": "2025-10-21T07:40:57.359Z"
   },
   {
    "duration": 276,
    "start_time": "2025-10-21T07:40:57.485Z"
   },
   {
    "duration": 651,
    "start_time": "2025-10-21T07:40:57.762Z"
   },
   {
    "duration": 19,
    "start_time": "2025-10-21T07:40:58.415Z"
   },
   {
    "duration": 116,
    "start_time": "2025-10-21T07:40:58.436Z"
   },
   {
    "duration": 81,
    "start_time": "2025-10-21T07:40:58.557Z"
   },
   {
    "duration": 110,
    "start_time": "2025-10-21T07:40:58.641Z"
   },
   {
    "duration": 7481,
    "start_time": "2025-10-21T07:40:58.753Z"
   },
   {
    "duration": 772,
    "start_time": "2025-10-21T07:41:06.235Z"
   },
   {
    "duration": 7320,
    "start_time": "2025-10-21T07:41:07.009Z"
   },
   {
    "duration": 4623,
    "start_time": "2025-10-21T07:41:14.330Z"
   },
   {
    "duration": 68,
    "start_time": "2025-10-21T07:41:18.958Z"
   },
   {
    "duration": 69,
    "start_time": "2025-10-21T07:41:19.213Z"
   },
   {
    "duration": 22,
    "start_time": "2025-10-21T07:49:24.741Z"
   },
   {
    "duration": 23,
    "start_time": "2025-10-21T07:50:00.717Z"
   },
   {
    "duration": 7117,
    "start_time": "2025-10-21T07:50:01.385Z"
   },
   {
    "duration": 6,
    "start_time": "2025-10-21T07:50:08.504Z"
   },
   {
    "duration": 101,
    "start_time": "2025-10-21T07:50:08.511Z"
   },
   {
    "duration": 6,
    "start_time": "2025-10-21T07:57:40.115Z"
   },
   {
    "duration": 14,
    "start_time": "2025-10-21T07:58:29.675Z"
   },
   {
    "duration": 84,
    "start_time": "2025-10-21T07:58:32.709Z"
   },
   {
    "duration": 23,
    "start_time": "2025-10-21T08:18:06.768Z"
   },
   {
    "duration": 219,
    "start_time": "2025-10-21T08:18:07.868Z"
   },
   {
    "duration": 7235,
    "start_time": "2025-10-21T08:18:09.388Z"
   },
   {
    "duration": 6,
    "start_time": "2025-10-21T08:18:16.625Z"
   },
   {
    "duration": 28,
    "start_time": "2025-10-21T08:18:16.632Z"
   },
   {
    "duration": 77,
    "start_time": "2025-10-21T08:18:16.846Z"
   },
   {
    "duration": 35,
    "start_time": "2025-10-21T08:28:40.626Z"
   },
   {
    "duration": 21,
    "start_time": "2025-10-21T08:29:09.327Z"
   },
   {
    "duration": 64,
    "start_time": "2025-10-21T08:43:51.340Z"
   },
   {
    "duration": 5,
    "start_time": "2025-10-21T08:44:02.860Z"
   },
   {
    "duration": 3,
    "start_time": "2025-10-21T08:44:36.944Z"
   },
   {
    "duration": 11,
    "start_time": "2025-10-21T08:57:03.525Z"
   },
   {
    "duration": 42,
    "start_time": "2025-10-21T08:57:08.745Z"
   },
   {
    "duration": 116,
    "start_time": "2025-10-21T08:57:12.571Z"
   },
   {
    "duration": 22,
    "start_time": "2025-10-21T10:22:24.982Z"
   },
   {
    "duration": 21,
    "start_time": "2025-10-21T10:28:10.932Z"
   },
   {
    "duration": 11,
    "start_time": "2025-10-21T10:31:39.293Z"
   },
   {
    "duration": 13,
    "start_time": "2025-10-21T10:32:01.679Z"
   },
   {
    "duration": 21,
    "start_time": "2025-10-21T10:32:47.649Z"
   },
   {
    "duration": 9,
    "start_time": "2025-10-21T10:39:44.502Z"
   },
   {
    "duration": 7,
    "start_time": "2025-10-21T10:40:03.516Z"
   },
   {
    "duration": 9,
    "start_time": "2025-10-21T10:40:24.611Z"
   },
   {
    "duration": 11,
    "start_time": "2025-10-21T10:40:49.561Z"
   },
   {
    "duration": 27,
    "start_time": "2025-10-21T10:42:05.832Z"
   },
   {
    "duration": 30,
    "start_time": "2025-10-21T10:42:39.563Z"
   },
   {
    "duration": 29,
    "start_time": "2025-10-21T10:42:52.522Z"
   },
   {
    "duration": 28,
    "start_time": "2025-10-21T10:43:05.474Z"
   },
   {
    "duration": 11,
    "start_time": "2025-10-21T10:43:19.976Z"
   },
   {
    "duration": 11,
    "start_time": "2025-10-21T10:43:42.254Z"
   },
   {
    "duration": 12,
    "start_time": "2025-10-21T10:43:45.948Z"
   },
   {
    "duration": 11,
    "start_time": "2025-10-21T10:43:47.107Z"
   },
   {
    "duration": 10,
    "start_time": "2025-10-21T10:44:45.835Z"
   },
   {
    "duration": 12,
    "start_time": "2025-10-21T10:44:52.880Z"
   },
   {
    "duration": 11,
    "start_time": "2025-10-21T10:45:09.603Z"
   },
   {
    "duration": 9,
    "start_time": "2025-10-21T10:45:11.777Z"
   },
   {
    "duration": 12,
    "start_time": "2025-10-21T10:45:14.357Z"
   },
   {
    "duration": 11,
    "start_time": "2025-10-21T10:45:18.932Z"
   },
   {
    "duration": 8,
    "start_time": "2025-10-21T10:45:30.483Z"
   },
   {
    "duration": 8,
    "start_time": "2025-10-21T10:45:31.315Z"
   },
   {
    "duration": 9,
    "start_time": "2025-10-21T10:46:04.893Z"
   },
   {
    "duration": 10,
    "start_time": "2025-10-21T10:46:06.435Z"
   },
   {
    "duration": 8,
    "start_time": "2025-10-21T10:46:11.381Z"
   },
   {
    "duration": 9,
    "start_time": "2025-10-21T10:46:22.743Z"
   },
   {
    "duration": 8,
    "start_time": "2025-10-21T10:46:31.031Z"
   },
   {
    "duration": 8,
    "start_time": "2025-10-21T12:32:05.033Z"
   },
   {
    "duration": 8,
    "start_time": "2025-10-21T12:34:16.243Z"
   },
   {
    "duration": 9,
    "start_time": "2025-10-21T12:35:22.910Z"
   },
   {
    "duration": 8,
    "start_time": "2025-10-21T12:38:29.322Z"
   },
   {
    "duration": 9,
    "start_time": "2025-10-21T12:41:03.964Z"
   },
   {
    "duration": 9,
    "start_time": "2025-10-21T12:41:04.783Z"
   },
   {
    "duration": 9,
    "start_time": "2025-10-21T12:41:06.631Z"
   },
   {
    "duration": 9,
    "start_time": "2025-10-21T12:41:09.865Z"
   },
   {
    "duration": 298,
    "start_time": "2025-10-21T12:46:43.070Z"
   },
   {
    "duration": 264,
    "start_time": "2025-10-21T12:46:56.735Z"
   },
   {
    "duration": 10,
    "start_time": "2025-10-21T12:47:23.503Z"
   },
   {
    "duration": 273,
    "start_time": "2025-10-21T12:47:26.922Z"
   },
   {
    "duration": 7,
    "start_time": "2025-10-21T12:48:47.062Z"
   },
   {
    "duration": 19,
    "start_time": "2025-10-21T12:48:57.922Z"
   },
   {
    "duration": 7,
    "start_time": "2025-10-21T12:49:53.820Z"
   },
   {
    "duration": 9,
    "start_time": "2025-10-21T12:50:01.379Z"
   },
   {
    "duration": 253,
    "start_time": "2025-10-21T12:53:16.563Z"
   },
   {
    "duration": 232,
    "start_time": "2025-10-21T13:07:18.378Z"
   },
   {
    "duration": 193,
    "start_time": "2025-10-21T13:08:11.500Z"
   },
   {
    "duration": 2132,
    "start_time": "2025-10-21T13:08:44.958Z"
   },
   {
    "duration": 439,
    "start_time": "2025-10-21T13:09:16.203Z"
   },
   {
    "duration": 249,
    "start_time": "2025-10-21T13:11:28.849Z"
   },
   {
    "duration": 268,
    "start_time": "2025-10-21T13:11:41.217Z"
   },
   {
    "duration": 2059,
    "start_time": "2025-10-21T13:11:47.704Z"
   },
   {
    "duration": 423,
    "start_time": "2025-10-21T13:12:00.588Z"
   },
   {
    "duration": 300,
    "start_time": "2025-10-21T13:13:02.590Z"
   },
   {
    "duration": 270,
    "start_time": "2025-10-21T13:13:14.645Z"
   },
   {
    "duration": 416,
    "start_time": "2025-10-21T13:13:46.949Z"
   },
   {
    "duration": 2170,
    "start_time": "2025-10-21T13:14:48.591Z"
   },
   {
    "duration": 2057,
    "start_time": "2025-10-21T13:15:04.432Z"
   },
   {
    "duration": 308,
    "start_time": "2025-10-21T13:15:20.272Z"
   },
   {
    "duration": 303,
    "start_time": "2025-10-21T13:15:34.625Z"
   },
   {
    "duration": 2332,
    "start_time": "2025-10-21T13:16:00.066Z"
   },
   {
    "duration": 2056,
    "start_time": "2025-10-21T13:16:24.749Z"
   },
   {
    "duration": 8,
    "start_time": "2025-10-21T13:16:55.461Z"
   },
   {
    "duration": 10,
    "start_time": "2025-10-21T13:17:01.145Z"
   },
   {
    "duration": 2049,
    "start_time": "2025-10-21T13:17:12.649Z"
   },
   {
    "duration": 287,
    "start_time": "2025-10-21T13:18:21.322Z"
   },
   {
    "duration": 286,
    "start_time": "2025-10-21T13:18:41.814Z"
   },
   {
    "duration": 2039,
    "start_time": "2025-10-21T13:19:11.829Z"
   },
   {
    "duration": 410,
    "start_time": "2025-10-21T13:19:25.785Z"
   },
   {
    "duration": 299,
    "start_time": "2025-10-21T13:20:34.067Z"
   },
   {
    "duration": 327,
    "start_time": "2025-10-21T13:23:23.501Z"
   },
   {
    "duration": 203,
    "start_time": "2025-10-21T14:40:50.073Z"
   },
   {
    "duration": 2196,
    "start_time": "2025-10-21T14:41:03.445Z"
   },
   {
    "duration": 362,
    "start_time": "2025-10-21T14:41:23.695Z"
   },
   {
    "duration": 9,
    "start_time": "2025-10-21T14:45:31.359Z"
   },
   {
    "duration": 48,
    "start_time": "2025-10-21T18:43:45.887Z"
   },
   {
    "duration": 3,
    "start_time": "2025-10-21T18:43:56.395Z"
   },
   {
    "duration": 29,
    "start_time": "2025-10-21T18:43:56.402Z"
   },
   {
    "duration": 4584,
    "start_time": "2025-10-21T18:43:56.432Z"
   },
   {
    "duration": 4308,
    "start_time": "2025-10-21T18:44:01.018Z"
   },
   {
    "duration": 8857,
    "start_time": "2025-10-21T18:44:05.328Z"
   },
   {
    "duration": 4,
    "start_time": "2025-10-21T18:44:14.187Z"
   },
   {
    "duration": 5579,
    "start_time": "2025-10-21T18:44:14.192Z"
   },
   {
    "duration": 237,
    "start_time": "2025-10-21T18:44:19.773Z"
   },
   {
    "duration": 71,
    "start_time": "2025-10-21T18:44:20.011Z"
   },
   {
    "duration": 13,
    "start_time": "2025-10-21T18:44:20.083Z"
   },
   {
    "duration": 64,
    "start_time": "2025-10-21T18:44:20.098Z"
   },
   {
    "duration": 765,
    "start_time": "2025-10-21T18:44:20.164Z"
   },
   {
    "duration": 54,
    "start_time": "2025-10-21T18:44:20.931Z"
   },
   {
    "duration": 73,
    "start_time": "2025-10-21T18:44:20.987Z"
   },
   {
    "duration": 4189,
    "start_time": "2025-10-21T18:44:21.062Z"
   },
   {
    "duration": 115,
    "start_time": "2025-10-21T18:44:25.253Z"
   },
   {
    "duration": 250,
    "start_time": "2025-10-21T18:44:25.370Z"
   },
   {
    "duration": 587,
    "start_time": "2025-10-21T18:44:25.622Z"
   },
   {
    "duration": 16,
    "start_time": "2025-10-21T18:44:26.210Z"
   },
   {
    "duration": 105,
    "start_time": "2025-10-21T18:44:26.228Z"
   },
   {
    "duration": 73,
    "start_time": "2025-10-21T18:44:26.335Z"
   },
   {
    "duration": 420,
    "start_time": "2025-10-21T18:44:26.409Z"
   },
   {
    "duration": 86,
    "start_time": "2025-10-21T18:44:26.831Z"
   },
   {
    "duration": 6365,
    "start_time": "2025-10-21T18:44:26.919Z"
   },
   {
    "duration": 22,
    "start_time": "2025-10-21T18:44:33.902Z"
   },
   {
    "duration": 248,
    "start_time": "2025-10-21T18:44:33.926Z"
   },
   {
    "duration": 6655,
    "start_time": "2025-10-21T18:44:34.176Z"
   },
   {
    "duration": 5,
    "start_time": "2025-10-21T18:44:40.834Z"
   },
   {
    "duration": 34,
    "start_time": "2025-10-21T18:44:40.840Z"
   },
   {
    "duration": 23,
    "start_time": "2025-10-21T18:44:40.876Z"
   },
   {
    "duration": 45,
    "start_time": "2025-10-21T18:44:40.900Z"
   },
   {
    "duration": 19,
    "start_time": "2025-10-21T18:44:40.946Z"
   },
   {
    "duration": 101,
    "start_time": "2025-10-21T18:44:40.967Z"
   },
   {
    "duration": 18,
    "start_time": "2025-10-21T18:44:41.069Z"
   },
   {
    "duration": 15,
    "start_time": "2025-10-21T18:44:41.088Z"
   },
   {
    "duration": 25,
    "start_time": "2025-10-21T18:44:41.105Z"
   },
   {
    "duration": 19,
    "start_time": "2025-10-21T18:44:41.132Z"
   },
   {
    "duration": 20,
    "start_time": "2025-10-21T18:44:41.153Z"
   },
   {
    "duration": 9,
    "start_time": "2025-10-21T18:44:41.174Z"
   },
   {
    "duration": 12,
    "start_time": "2025-10-21T18:44:41.184Z"
   },
   {
    "duration": 12,
    "start_time": "2025-10-21T18:44:41.198Z"
   },
   {
    "duration": 91,
    "start_time": "2025-10-21T18:44:41.211Z"
   },
   {
    "duration": 33,
    "start_time": "2025-10-21T18:44:41.303Z"
   },
   {
    "duration": 271,
    "start_time": "2025-10-21T18:44:41.337Z"
   },
   {
    "duration": 48,
    "start_time": "2025-10-21T18:44:41.609Z"
   },
   {
    "duration": 217,
    "start_time": "2025-10-21T18:44:41.660Z"
   },
   {
    "duration": 8,
    "start_time": "2025-10-21T18:44:41.879Z"
   },
   {
    "duration": 323,
    "start_time": "2025-10-21T18:44:41.888Z"
   },
   {
    "duration": 7,
    "start_time": "2025-10-21T18:44:42.213Z"
   },
   {
    "duration": 383,
    "start_time": "2025-10-21T18:44:42.221Z"
   },
   {
    "duration": 113,
    "start_time": "2025-10-21T18:44:42.606Z"
   },
   {
    "duration": 0,
    "start_time": "2025-10-21T18:44:42.720Z"
   },
   {
    "duration": 678,
    "start_time": "2025-10-21T18:44:48.146Z"
   },
   {
    "duration": 11,
    "start_time": "2025-10-21T18:45:20.345Z"
   },
   {
    "duration": 1256,
    "start_time": "2025-10-21T18:45:29.799Z"
   },
   {
    "duration": 304,
    "start_time": "2025-10-21T18:45:40.478Z"
   },
   {
    "duration": 8,
    "start_time": "2025-10-21T18:49:59.452Z"
   },
   {
    "duration": 807,
    "start_time": "2025-10-21T18:50:18.148Z"
   },
   {
    "duration": 313,
    "start_time": "2025-10-21T18:50:39.884Z"
   },
   {
    "duration": 299,
    "start_time": "2025-10-21T18:51:07.499Z"
   },
   {
    "duration": 423,
    "start_time": "2025-10-21T18:54:25.508Z"
   },
   {
    "duration": 51,
    "start_time": "2025-10-22T10:13:02.954Z"
   },
   {
    "duration": 3,
    "start_time": "2025-10-22T10:13:12.711Z"
   },
   {
    "duration": 26,
    "start_time": "2025-10-22T10:13:12.717Z"
   },
   {
    "duration": 5189,
    "start_time": "2025-10-22T10:13:12.746Z"
   },
   {
    "duration": 4614,
    "start_time": "2025-10-22T10:13:17.937Z"
   },
   {
    "duration": 9171,
    "start_time": "2025-10-22T10:13:22.553Z"
   },
   {
    "duration": 3,
    "start_time": "2025-10-22T10:13:31.725Z"
   },
   {
    "duration": 38192,
    "start_time": "2025-10-22T10:13:31.730Z"
   },
   {
    "duration": 224,
    "start_time": "2025-10-22T10:14:09.924Z"
   },
   {
    "duration": 72,
    "start_time": "2025-10-22T10:14:10.151Z"
   },
   {
    "duration": 42,
    "start_time": "2025-10-22T10:14:10.224Z"
   },
   {
    "duration": 79,
    "start_time": "2025-10-22T10:14:10.269Z"
   },
   {
    "duration": 890,
    "start_time": "2025-10-22T10:14:10.350Z"
   },
   {
    "duration": 49,
    "start_time": "2025-10-22T10:14:11.242Z"
   },
   {
    "duration": 41,
    "start_time": "2025-10-22T10:14:11.292Z"
   },
   {
    "duration": 4679,
    "start_time": "2025-10-22T10:14:11.334Z"
   },
   {
    "duration": 109,
    "start_time": "2025-10-22T10:14:16.014Z"
   },
   {
    "duration": 268,
    "start_time": "2025-10-22T10:14:16.124Z"
   },
   {
    "duration": 598,
    "start_time": "2025-10-22T10:14:16.393Z"
   },
   {
    "duration": 18,
    "start_time": "2025-10-22T10:14:16.993Z"
   },
   {
    "duration": 104,
    "start_time": "2025-10-22T10:14:17.012Z"
   },
   {
    "duration": 84,
    "start_time": "2025-10-22T10:14:17.118Z"
   },
   {
    "duration": 454,
    "start_time": "2025-10-22T10:14:17.203Z"
   },
   {
    "duration": 101,
    "start_time": "2025-10-22T10:14:17.660Z"
   },
   {
    "duration": 6447,
    "start_time": "2025-10-22T10:14:17.762Z"
   },
   {
    "duration": 731,
    "start_time": "2025-10-22T10:14:24.211Z"
   },
   {
    "duration": 23,
    "start_time": "2025-10-22T10:14:24.946Z"
   },
   {
    "duration": 248,
    "start_time": "2025-10-22T10:14:24.970Z"
   },
   {
    "duration": 7302,
    "start_time": "2025-10-22T10:14:25.219Z"
   },
   {
    "duration": 5,
    "start_time": "2025-10-22T10:14:32.525Z"
   },
   {
    "duration": 53,
    "start_time": "2025-10-22T10:14:32.531Z"
   },
   {
    "duration": 13,
    "start_time": "2025-10-22T10:14:32.586Z"
   },
   {
    "duration": 45,
    "start_time": "2025-10-22T10:14:32.600Z"
   },
   {
    "duration": 16,
    "start_time": "2025-10-22T10:14:32.649Z"
   },
   {
    "duration": 35,
    "start_time": "2025-10-22T10:14:32.667Z"
   },
   {
    "duration": 18,
    "start_time": "2025-10-22T10:14:32.703Z"
   },
   {
    "duration": 9,
    "start_time": "2025-10-22T10:14:32.743Z"
   },
   {
    "duration": 21,
    "start_time": "2025-10-22T10:14:32.754Z"
   },
   {
    "duration": 15,
    "start_time": "2025-10-22T10:14:32.777Z"
   },
   {
    "duration": 7,
    "start_time": "2025-10-22T10:14:32.794Z"
   },
   {
    "duration": 7,
    "start_time": "2025-10-22T10:14:32.803Z"
   },
   {
    "duration": 7,
    "start_time": "2025-10-22T10:14:32.812Z"
   },
   {
    "duration": 26,
    "start_time": "2025-10-22T10:14:32.820Z"
   },
   {
    "duration": 15,
    "start_time": "2025-10-22T10:14:32.848Z"
   },
   {
    "duration": 10,
    "start_time": "2025-10-22T10:14:32.864Z"
   },
   {
    "duration": 308,
    "start_time": "2025-10-22T10:14:32.875Z"
   },
   {
    "duration": 7,
    "start_time": "2025-10-22T10:14:33.184Z"
   },
   {
    "duration": 281,
    "start_time": "2025-10-22T10:14:33.192Z"
   },
   {
    "duration": 8,
    "start_time": "2025-10-22T10:14:33.475Z"
   },
   {
    "duration": 328,
    "start_time": "2025-10-22T10:14:33.484Z"
   },
   {
    "duration": 8,
    "start_time": "2025-10-22T10:14:33.813Z"
   },
   {
    "duration": 404,
    "start_time": "2025-10-22T10:14:33.823Z"
   },
   {
    "duration": 24,
    "start_time": "2025-10-22T10:14:34.229Z"
   },
   {
    "duration": 367,
    "start_time": "2025-10-22T10:14:34.256Z"
   },
   {
    "duration": 344,
    "start_time": "2025-10-22T10:14:34.624Z"
   },
   {
    "duration": 543,
    "start_time": "2025-10-22T10:14:34.970Z"
   },
   {
    "duration": 117,
    "start_time": "2025-10-22T10:14:35.514Z"
   },
   {
    "duration": 0,
    "start_time": "2025-10-22T10:14:35.632Z"
   },
   {
    "duration": 7,
    "start_time": "2025-10-22T10:18:58.225Z"
   },
   {
    "duration": 503,
    "start_time": "2025-10-22T10:19:16.168Z"
   },
   {
    "duration": 486,
    "start_time": "2025-10-22T10:20:31.604Z"
   },
   {
    "duration": 1406,
    "start_time": "2025-10-22T10:26:13.505Z"
   },
   {
    "duration": 1497,
    "start_time": "2025-10-22T10:26:28.311Z"
   },
   {
    "duration": 418,
    "start_time": "2025-10-22T10:27:23.904Z"
   },
   {
    "duration": 10,
    "start_time": "2025-10-22T10:28:04.699Z"
   },
   {
    "duration": 16,
    "start_time": "2025-10-22T10:30:14.357Z"
   },
   {
    "duration": 193,
    "start_time": "2025-10-22T10:30:34.568Z"
   },
   {
    "duration": 17,
    "start_time": "2025-10-22T10:35:57.835Z"
   },
   {
    "duration": 11,
    "start_time": "2025-10-22T10:49:36.924Z"
   },
   {
    "duration": 5,
    "start_time": "2025-10-22T10:54:05.414Z"
   },
   {
    "duration": 9,
    "start_time": "2025-10-22T10:54:27.732Z"
   },
   {
    "duration": 23,
    "start_time": "2025-10-22T10:55:50.369Z"
   },
   {
    "duration": 21,
    "start_time": "2025-10-22T10:56:10.131Z"
   },
   {
    "duration": 13,
    "start_time": "2025-10-22T12:46:58.384Z"
   },
   {
    "duration": 12,
    "start_time": "2025-10-22T12:48:57.077Z"
   },
   {
    "duration": 15,
    "start_time": "2025-10-22T12:49:55.737Z"
   },
   {
    "duration": 28,
    "start_time": "2025-10-22T12:50:05.642Z"
   },
   {
    "duration": 29,
    "start_time": "2025-10-22T12:50:14.676Z"
   },
   {
    "duration": 8,
    "start_time": "2025-10-22T12:57:53.109Z"
   },
   {
    "duration": 11,
    "start_time": "2025-10-22T12:58:11.855Z"
   },
   {
    "duration": 9,
    "start_time": "2025-10-22T12:58:21.871Z"
   },
   {
    "duration": 8,
    "start_time": "2025-10-22T12:58:25.591Z"
   },
   {
    "duration": 126,
    "start_time": "2025-10-22T13:03:19.549Z"
   },
   {
    "duration": 12,
    "start_time": "2025-10-22T13:03:55.090Z"
   },
   {
    "duration": 321,
    "start_time": "2025-10-22T13:04:00.224Z"
   },
   {
    "duration": 122,
    "start_time": "2025-10-22T13:05:23.364Z"
   },
   {
    "duration": 268,
    "start_time": "2025-10-22T13:05:59.326Z"
   },
   {
    "duration": 11,
    "start_time": "2025-10-22T13:14:41.643Z"
   },
   {
    "duration": 15,
    "start_time": "2025-10-22T13:19:45.296Z"
   },
   {
    "duration": 12,
    "start_time": "2025-10-22T13:22:22.711Z"
   },
   {
    "duration": 25,
    "start_time": "2025-10-22T13:23:36.795Z"
   },
   {
    "duration": 5,
    "start_time": "2025-10-22T13:23:39.554Z"
   },
   {
    "duration": 13,
    "start_time": "2025-10-22T13:23:59.976Z"
   },
   {
    "duration": 14,
    "start_time": "2025-10-22T13:24:55.344Z"
   },
   {
    "duration": 10,
    "start_time": "2025-10-22T13:27:16.768Z"
   },
   {
    "duration": 4,
    "start_time": "2025-10-22T13:27:22.971Z"
   },
   {
    "duration": 63,
    "start_time": "2025-10-22T18:10:37.269Z"
   },
   {
    "duration": 3,
    "start_time": "2025-10-22T18:10:48.550Z"
   },
   {
    "duration": 5,
    "start_time": "2025-10-22T18:10:48.557Z"
   },
   {
    "duration": 5537,
    "start_time": "2025-10-22T18:10:48.566Z"
   },
   {
    "duration": 4808,
    "start_time": "2025-10-22T18:10:54.105Z"
   },
   {
    "duration": 6608,
    "start_time": "2025-10-22T18:10:58.915Z"
   },
   {
    "duration": 3,
    "start_time": "2025-10-22T18:11:05.526Z"
   },
   {
    "duration": 6427,
    "start_time": "2025-10-22T18:11:05.530Z"
   },
   {
    "duration": 216,
    "start_time": "2025-10-22T18:11:11.958Z"
   },
   {
    "duration": 86,
    "start_time": "2025-10-22T18:11:12.175Z"
   },
   {
    "duration": 16,
    "start_time": "2025-10-22T18:11:12.263Z"
   },
   {
    "duration": 16,
    "start_time": "2025-10-22T18:11:12.280Z"
   },
   {
    "duration": 1012,
    "start_time": "2025-10-22T18:11:12.299Z"
   },
   {
    "duration": 59,
    "start_time": "2025-10-22T18:11:13.312Z"
   },
   {
    "duration": 63,
    "start_time": "2025-10-22T18:11:13.373Z"
   },
   {
    "duration": 4685,
    "start_time": "2025-10-22T18:11:13.438Z"
   },
   {
    "duration": 107,
    "start_time": "2025-10-22T18:11:18.125Z"
   },
   {
    "duration": 240,
    "start_time": "2025-10-22T18:11:18.234Z"
   },
   {
    "duration": 589,
    "start_time": "2025-10-22T18:11:18.476Z"
   },
   {
    "duration": 20,
    "start_time": "2025-10-22T18:11:19.067Z"
   },
   {
    "duration": 104,
    "start_time": "2025-10-22T18:11:19.089Z"
   },
   {
    "duration": 77,
    "start_time": "2025-10-22T18:11:19.195Z"
   },
   {
    "duration": 464,
    "start_time": "2025-10-22T18:11:19.273Z"
   },
   {
    "duration": 107,
    "start_time": "2025-10-22T18:11:19.739Z"
   },
   {
    "duration": 6849,
    "start_time": "2025-10-22T18:11:19.848Z"
   },
   {
    "duration": 746,
    "start_time": "2025-10-22T18:11:26.698Z"
   },
   {
    "duration": 19,
    "start_time": "2025-10-22T18:11:27.446Z"
   },
   {
    "duration": 282,
    "start_time": "2025-10-22T18:11:27.467Z"
   },
   {
    "duration": 7301,
    "start_time": "2025-10-22T18:11:27.751Z"
   },
   {
    "duration": 7,
    "start_time": "2025-10-22T18:11:35.054Z"
   },
   {
    "duration": 23,
    "start_time": "2025-10-22T18:11:35.066Z"
   },
   {
    "duration": 38,
    "start_time": "2025-10-22T18:11:35.091Z"
   },
   {
    "duration": 45,
    "start_time": "2025-10-22T18:11:35.132Z"
   },
   {
    "duration": 11,
    "start_time": "2025-10-22T18:11:35.179Z"
   },
   {
    "duration": 59,
    "start_time": "2025-10-22T18:11:35.192Z"
   },
   {
    "duration": 21,
    "start_time": "2025-10-22T18:11:35.252Z"
   },
   {
    "duration": 7,
    "start_time": "2025-10-22T18:11:35.275Z"
   },
   {
    "duration": 10,
    "start_time": "2025-10-22T18:11:35.284Z"
   },
   {
    "duration": 33,
    "start_time": "2025-10-22T18:11:35.296Z"
   },
   {
    "duration": 10,
    "start_time": "2025-10-22T18:11:35.330Z"
   },
   {
    "duration": 11,
    "start_time": "2025-10-22T18:11:35.342Z"
   },
   {
    "duration": 13,
    "start_time": "2025-10-22T18:11:35.354Z"
   },
   {
    "duration": 15,
    "start_time": "2025-10-22T18:11:35.368Z"
   },
   {
    "duration": 24,
    "start_time": "2025-10-22T18:11:35.384Z"
   },
   {
    "duration": 27,
    "start_time": "2025-10-22T18:11:35.410Z"
   },
   {
    "duration": 304,
    "start_time": "2025-10-22T18:11:35.439Z"
   },
   {
    "duration": 8,
    "start_time": "2025-10-22T18:11:35.745Z"
   },
   {
    "duration": 209,
    "start_time": "2025-10-22T18:11:35.754Z"
   },
   {
    "duration": 10,
    "start_time": "2025-10-22T18:11:36.028Z"
   },
   {
    "duration": 339,
    "start_time": "2025-10-22T18:11:36.040Z"
   },
   {
    "duration": 9,
    "start_time": "2025-10-22T18:11:36.381Z"
   },
   {
    "duration": 398,
    "start_time": "2025-10-22T18:11:36.392Z"
   },
   {
    "duration": 9,
    "start_time": "2025-10-22T18:11:36.791Z"
   },
   {
    "duration": 310,
    "start_time": "2025-10-22T18:11:36.801Z"
   },
   {
    "duration": 323,
    "start_time": "2025-10-22T18:11:37.113Z"
   },
   {
    "duration": 537,
    "start_time": "2025-10-22T18:11:37.438Z"
   },
   {
    "duration": 8,
    "start_time": "2025-10-22T18:11:37.977Z"
   },
   {
    "duration": 583,
    "start_time": "2025-10-22T18:11:37.986Z"
   },
   {
    "duration": 326,
    "start_time": "2025-10-22T18:11:38.571Z"
   },
   {
    "duration": 9,
    "start_time": "2025-10-22T18:11:38.899Z"
   },
   {
    "duration": 232,
    "start_time": "2025-10-22T18:11:38.910Z"
   },
   {
    "duration": 11,
    "start_time": "2025-10-22T18:11:39.144Z"
   },
   {
    "duration": 22,
    "start_time": "2025-10-22T18:11:39.157Z"
   },
   {
    "duration": 56,
    "start_time": "2025-10-22T18:11:39.181Z"
   },
   {
    "duration": 9,
    "start_time": "2025-10-22T18:11:39.238Z"
   },
   {
    "duration": 9,
    "start_time": "2025-10-22T18:11:39.249Z"
   },
   {
    "duration": 302,
    "start_time": "2025-10-22T18:11:39.260Z"
   },
   {
    "duration": 149,
    "start_time": "2025-10-22T18:11:39.563Z"
   },
   {
    "duration": 28,
    "start_time": "2025-10-22T18:11:39.714Z"
   },
   {
    "duration": 4,
    "start_time": "2025-10-22T18:11:39.744Z"
   },
   {
    "duration": 20,
    "start_time": "2025-10-22T18:11:39.749Z"
   },
   {
    "duration": 145,
    "start_time": "2025-10-22T18:11:39.771Z"
   },
   {
    "duration": 0,
    "start_time": "2025-10-22T18:11:39.917Z"
   },
   {
    "duration": 4,
    "start_time": "2025-10-22T18:13:25.575Z"
   },
   {
    "duration": 3699,
    "start_time": "2025-10-22T18:14:20.589Z"
   },
   {
    "duration": 269,
    "start_time": "2025-10-22T18:16:09.294Z"
   },
   {
    "duration": 283,
    "start_time": "2025-10-22T18:16:20.909Z"
   },
   {
    "duration": 222,
    "start_time": "2025-10-22T18:19:08.931Z"
   },
   {
    "duration": 192,
    "start_time": "2025-10-22T18:20:04.570Z"
   },
   {
    "duration": 183,
    "start_time": "2025-10-22T18:20:11.773Z"
   },
   {
    "duration": 9,
    "start_time": "2025-10-22T18:20:15.205Z"
   },
   {
    "duration": 66,
    "start_time": "2025-10-22T18:23:38.954Z"
   },
   {
    "duration": 78,
    "start_time": "2025-10-22T18:24:04.669Z"
   },
   {
    "duration": 10,
    "start_time": "2025-10-22T18:24:11.854Z"
   },
   {
    "duration": 7567,
    "start_time": "2025-10-22T18:29:08.162Z"
   },
   {
    "duration": 58,
    "start_time": "2025-10-22T18:42:22.820Z"
   },
   {
    "duration": 70,
    "start_time": "2025-10-22T18:43:30.377Z"
   },
   {
    "duration": 1621,
    "start_time": "2025-10-22T18:43:36.584Z"
   },
   {
    "duration": 1547,
    "start_time": "2025-10-22T18:44:32.405Z"
   },
   {
    "duration": 10,
    "start_time": "2025-10-22T18:48:16.533Z"
   },
   {
    "duration": 1954,
    "start_time": "2025-10-22T18:48:28.294Z"
   },
   {
    "duration": 4,
    "start_time": "2025-10-23T10:09:31.762Z"
   },
   {
    "duration": 4,
    "start_time": "2025-10-23T10:09:31.771Z"
   },
   {
    "duration": 5456,
    "start_time": "2025-10-23T10:09:31.777Z"
   },
   {
    "duration": 4655,
    "start_time": "2025-10-23T10:09:37.235Z"
   },
   {
    "duration": 38134,
    "start_time": "2025-10-23T10:09:41.892Z"
   },
   {
    "duration": 3,
    "start_time": "2025-10-23T10:10:20.028Z"
   },
   {
    "duration": 11172,
    "start_time": "2025-10-23T10:10:20.033Z"
   },
   {
    "duration": 269,
    "start_time": "2025-10-23T10:10:31.207Z"
   },
   {
    "duration": 91,
    "start_time": "2025-10-23T10:10:31.477Z"
   },
   {
    "duration": 17,
    "start_time": "2025-10-23T10:10:31.571Z"
   },
   {
    "duration": 19,
    "start_time": "2025-10-23T10:10:31.589Z"
   },
   {
    "duration": 1047,
    "start_time": "2025-10-23T10:10:31.610Z"
   },
   {
    "duration": 57,
    "start_time": "2025-10-23T10:10:32.658Z"
   },
   {
    "duration": 75,
    "start_time": "2025-10-23T10:10:32.717Z"
   },
   {
    "duration": 4756,
    "start_time": "2025-10-23T10:10:32.794Z"
   },
   {
    "duration": 130,
    "start_time": "2025-10-23T10:10:37.557Z"
   },
   {
    "duration": 273,
    "start_time": "2025-10-23T10:10:37.689Z"
   },
   {
    "duration": 676,
    "start_time": "2025-10-23T10:10:37.963Z"
   },
   {
    "duration": 24,
    "start_time": "2025-10-23T10:10:38.641Z"
   },
   {
    "duration": 116,
    "start_time": "2025-10-23T10:10:38.667Z"
   },
   {
    "duration": 85,
    "start_time": "2025-10-23T10:10:38.785Z"
   },
   {
    "duration": 432,
    "start_time": "2025-10-23T10:10:38.871Z"
   },
   {
    "duration": 103,
    "start_time": "2025-10-23T10:10:39.305Z"
   },
   {
    "duration": 7415,
    "start_time": "2025-10-23T10:10:39.409Z"
   },
   {
    "duration": 714,
    "start_time": "2025-10-23T10:10:46.828Z"
   },
   {
    "duration": 30,
    "start_time": "2025-10-23T10:10:47.544Z"
   },
   {
    "duration": 259,
    "start_time": "2025-10-23T10:10:47.576Z"
   },
   {
    "duration": 7174,
    "start_time": "2025-10-23T10:10:47.837Z"
   },
   {
    "duration": 5,
    "start_time": "2025-10-23T10:10:55.013Z"
   },
   {
    "duration": 39,
    "start_time": "2025-10-23T10:10:55.020Z"
   },
   {
    "duration": 16,
    "start_time": "2025-10-23T10:10:55.061Z"
   },
   {
    "duration": 47,
    "start_time": "2025-10-23T10:10:55.079Z"
   },
   {
    "duration": 11,
    "start_time": "2025-10-23T10:10:55.129Z"
   },
   {
    "duration": 52,
    "start_time": "2025-10-23T10:10:55.142Z"
   },
   {
    "duration": 22,
    "start_time": "2025-10-23T10:10:55.195Z"
   },
   {
    "duration": 7,
    "start_time": "2025-10-23T10:10:55.219Z"
   },
   {
    "duration": 31,
    "start_time": "2025-10-23T10:10:55.227Z"
   },
   {
    "duration": 7,
    "start_time": "2025-10-23T10:10:55.261Z"
   },
   {
    "duration": 10,
    "start_time": "2025-10-23T10:10:55.270Z"
   },
   {
    "duration": 8,
    "start_time": "2025-10-23T10:10:55.282Z"
   },
   {
    "duration": 8,
    "start_time": "2025-10-23T10:10:55.291Z"
   },
   {
    "duration": 7,
    "start_time": "2025-10-23T10:10:55.301Z"
   },
   {
    "duration": 7,
    "start_time": "2025-10-23T10:10:55.310Z"
   },
   {
    "duration": 48,
    "start_time": "2025-10-23T10:10:55.318Z"
   },
   {
    "duration": 243,
    "start_time": "2025-10-23T10:10:55.368Z"
   },
   {
    "duration": 8,
    "start_time": "2025-10-23T10:10:55.613Z"
   },
   {
    "duration": 254,
    "start_time": "2025-10-23T10:10:55.623Z"
   },
   {
    "duration": 9,
    "start_time": "2025-10-23T10:10:55.879Z"
   },
   {
    "duration": 327,
    "start_time": "2025-10-23T10:10:55.889Z"
   },
   {
    "duration": 10,
    "start_time": "2025-10-23T10:10:56.218Z"
   },
   {
    "duration": 393,
    "start_time": "2025-10-23T10:10:56.229Z"
   },
   {
    "duration": 8,
    "start_time": "2025-10-23T10:10:56.624Z"
   },
   {
    "duration": 334,
    "start_time": "2025-10-23T10:10:56.634Z"
   },
   {
    "duration": 333,
    "start_time": "2025-10-23T10:10:56.970Z"
   },
   {
    "duration": 498,
    "start_time": "2025-10-23T10:10:57.305Z"
   },
   {
    "duration": 8,
    "start_time": "2025-10-23T10:10:57.805Z"
   },
   {
    "duration": 540,
    "start_time": "2025-10-23T10:10:57.814Z"
   },
   {
    "duration": 279,
    "start_time": "2025-10-23T10:10:58.355Z"
   },
   {
    "duration": 9,
    "start_time": "2025-10-23T10:10:58.658Z"
   },
   {
    "duration": 212,
    "start_time": "2025-10-23T10:10:58.668Z"
   },
   {
    "duration": 11,
    "start_time": "2025-10-23T10:10:58.882Z"
   },
   {
    "duration": 22,
    "start_time": "2025-10-23T10:10:58.895Z"
   },
   {
    "duration": 55,
    "start_time": "2025-10-23T10:10:58.918Z"
   },
   {
    "duration": 9,
    "start_time": "2025-10-23T10:10:58.975Z"
   },
   {
    "duration": 47,
    "start_time": "2025-10-23T10:10:58.985Z"
   },
   {
    "duration": 271,
    "start_time": "2025-10-23T10:10:59.034Z"
   },
   {
    "duration": 156,
    "start_time": "2025-10-23T10:10:59.307Z"
   },
   {
    "duration": 16,
    "start_time": "2025-10-23T10:10:59.465Z"
   },
   {
    "duration": 4,
    "start_time": "2025-10-23T10:10:59.482Z"
   },
   {
    "duration": 3819,
    "start_time": "2025-10-23T10:10:59.491Z"
   },
   {
    "duration": 257,
    "start_time": "2025-10-23T10:11:03.311Z"
   },
   {
    "duration": 9,
    "start_time": "2025-10-23T10:11:03.570Z"
   },
   {
    "duration": 28,
    "start_time": "2025-10-23T10:11:03.581Z"
   },
   {
    "duration": 7735,
    "start_time": "2025-10-23T10:11:03.611Z"
   },
   {
    "duration": 0,
    "start_time": "2025-10-23T10:11:11.348Z"
   },
   {
    "duration": 0,
    "start_time": "2025-10-23T10:11:11.349Z"
   },
   {
    "duration": 7678,
    "start_time": "2025-10-23T10:12:26.894Z"
   },
   {
    "duration": 1620,
    "start_time": "2025-10-23T10:14:22.499Z"
   },
   {
    "duration": 1854,
    "start_time": "2025-10-23T10:15:47.420Z"
   }
  ],
  "colab": {
   "provenance": [],
   "toc_visible": true
  },
  "kernelspec": {
   "display_name": "Python 3 (ipykernel)",
   "language": "python",
   "name": "python3"
  },
  "language_info": {
   "codemirror_mode": {
    "name": "ipython",
    "version": 3
   },
   "file_extension": ".py",
   "mimetype": "text/x-python",
   "name": "python",
   "nbconvert_exporter": "python",
   "pygments_lexer": "ipython3",
   "version": "3.9.5"
  },
  "toc": {
   "base_numbering": 1,
   "nav_menu": {},
   "number_sections": true,
   "sideBar": true,
   "skip_h1_title": true,
   "title_cell": "Table of Contents",
   "title_sidebar": "Contents",
   "toc_cell": false,
   "toc_position": {},
   "toc_section_display": true,
   "toc_window_display": false
  }
 },
 "nbformat": 4,
 "nbformat_minor": 5
}
